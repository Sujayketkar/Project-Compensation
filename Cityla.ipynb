{
 "cells": [
  {
   "cell_type": "markdown",
   "id": "baf5712c",
   "metadata": {},
   "source": [
    " <div style=\"text-align: center; background-color: #D4AF37; font-family: 'Trebuchet MS', Arial, sans-serif; color:white; padding: 20px; font-size: 40px; font-weight: bold; border-radius: 10px 10px 0 0; box-shadow: 0px 6px 8px rgba(0, 0, 0, 0.2);\">Compensation Project\n",
    "</div>\n",
    "<p style=\"text-align: center;\">\n",
    "\n"
   ]
  },
  {
   "cell_type": "markdown",
   "id": "f72f3775",
   "metadata": {},
   "source": [
    "<div style=\"border-radius: 10px; border: #b09507 solid; padding: 10px; background-color:white; font-size: 120%; text-align: left;\">\n",
    "\n",
    " <b><span style='color:#fa762f'> </span><span style='color:#00B0F0'> About the Project</span></b>\n",
    "\n",
    "\n",
    "\n",
    "Managing compensation is a complex endeavor that covers multiple facets including salaries, wages, bonuses, benefits, and additional incentives given to employees for their work. It involves navigating a delicate balance between budget constraints and providing fair rewards to employees.\n",
    "In the practical scenario of our dummy data project, we address similar elements. This entails a fictional organization handling compensation management across various outlined factors. I've utilized Pandas to analyse data.\n"
   ]
  },
  {
   "cell_type": "markdown",
   "id": "d3b1e8ab",
   "metadata": {},
   "source": [
    "<div style=\"border-radius: 10px; border: #b09507 solid; padding: 10px; background-color:white; font-size: 120%; text-align: left;\">\n",
    "\n",
    " <b><span style='color:#fa762f'> </span><span style='color:#00B0F0'> About the Dataset</span></b>\n",
    "\n",
    "The dataset comprises fabricated data pertaining to a company named Cityla. Among the three projects undertaken by the company, the Venice project surpassed expectations, the Tokyo project met expectations, and the Gemcom project yielded results below expectations.  \n",
    "    \n",
    "Based on the outcomes, the organization developed monetary rewards, such as regular bonuses, additional bonuses, and revised base pay.\n",
    "    \n",
    "Project Venice (Exceeded Expectations)\n",
    "    \n",
    "•\tEmployees (3 OR ABOVE years in the company):\n",
    "    \n",
    "Bonus: Regular bonus (10% for Grade A/B, 15% for C/D) + 50k additional bonus (paid in full).\n",
    "    \n",
    "o\tHike:\n",
    "    \n",
    "\tBelow 50th percentile: 18% hike.\n",
    "\tAbove 50th percentile: 12% hike.\n",
    "    \n",
    "•\tEmployees (2-3 years in the company):\n",
    "    \n",
    "o\tBonus: Regular bonus (prorated for those joined after April 1, 2023)+ 25K\n",
    "    \n",
    "•\tEmployees (Below Rating 7):\n",
    "    \n",
    "o\tRegular Bonus: 50% bonus (paid in full).\n",
    "o\tHike: 5%\n",
    "    \n",
    "Project Tokyo (Met Expectations)\n",
    "    \n",
    "•\tEmployees (3 OR ABOVE years in the company):\n",
    "    \n",
    "o\tBonus: Regular bonus (10% for Grade A/B, 15% for C/D) + 20k additional bonus (paid in full).\n",
    "    \n",
    "o\tHike:\n",
    "    \n",
    "\tBelow 50th percentile: 12% hike.\n",
    "\tAbove 50th percentile: 10% hike.\n",
    "    \n",
    "•\tEmployees (2-3 years in the company):\n",
    "    \n",
    "Bonus: Regular bonus (prorated for those joined after April 1, 2023)+10K\n",
    "    \n",
    "•\tEmployees (Below Rating 7):\n",
    "    \n",
    "Regular Bonus: 50% bonus (paid in full).\n",
    "Hike: 5%\n",
    " \n",
    "(if joined after April 1, 2023): Prorated hike and bonus.\n",
    "    \n",
    "    \n",
    "Project Gemcom (Below Expectations)- 5% Hike. 50% Bonus for all. no additional bonus.\n",
    "    \n",
    "\n",
    "    \n",
    "Note:\n",
    "    \n",
    "•\tRegular bonus percentages are based on employee grade.\n",
    "    \n",
    "•\tJoining after April 1, 2023 impacts bonus and hike calculations (prorated).\n",
    "\n",
    "\n",
    "   "
   ]
  },
  {
   "cell_type": "code",
   "execution_count": 1,
   "id": "ba04fec0",
   "metadata": {},
   "outputs": [],
   "source": [
    "#Import the Libraries\n",
    "import numpy as np\n",
    "import pandas as pd\n",
    "\n",
    "import seaborn as sns\n",
    "import matplotlib.pyplot as plt\n",
    "import plotly.graph_objects as go\n",
    "import plotly.express as px\n",
    "\n",
    "from warnings import filterwarnings\n",
    "filterwarnings('ignore')"
   ]
  },
  {
   "cell_type": "code",
   "execution_count": 2,
   "id": "92a9457a",
   "metadata": {},
   "outputs": [],
   "source": [
    "df = pd.read_csv('Cityla.csv', parse_dates=['Start_Date'])"
   ]
  },
  {
   "cell_type": "code",
   "execution_count": 3,
   "id": "cda5581c",
   "metadata": {},
   "outputs": [
    {
     "data": {
      "text/html": [
       "<div>\n",
       "<style scoped>\n",
       "    .dataframe tbody tr th:only-of-type {\n",
       "        vertical-align: middle;\n",
       "    }\n",
       "\n",
       "    .dataframe tbody tr th {\n",
       "        vertical-align: top;\n",
       "    }\n",
       "\n",
       "    .dataframe thead th {\n",
       "        text-align: right;\n",
       "    }\n",
       "</style>\n",
       "<table border=\"1\" class=\"dataframe\">\n",
       "  <thead>\n",
       "    <tr style=\"text-align: right;\">\n",
       "      <th></th>\n",
       "      <th>Start_Year</th>\n",
       "      <th>Start_Date</th>\n",
       "      <th>Employee_Name</th>\n",
       "      <th>unique_ID</th>\n",
       "      <th>Level_ID</th>\n",
       "      <th>Grade</th>\n",
       "      <th>Project</th>\n",
       "      <th>Current_Base_Pay</th>\n",
       "      <th>Bonus_entitlement</th>\n",
       "      <th>Rating</th>\n",
       "    </tr>\n",
       "  </thead>\n",
       "  <tbody>\n",
       "    <tr>\n",
       "      <th>0</th>\n",
       "      <td>2019</td>\n",
       "      <td>2019-01-07</td>\n",
       "      <td>S.Kumar</td>\n",
       "      <td>1</td>\n",
       "      <td>4</td>\n",
       "      <td>Lead Engineer</td>\n",
       "      <td>Gemcon</td>\n",
       "      <td>3219629</td>\n",
       "      <td>0.15</td>\n",
       "      <td>10</td>\n",
       "    </tr>\n",
       "    <tr>\n",
       "      <th>1</th>\n",
       "      <td>2019</td>\n",
       "      <td>2019-01-14</td>\n",
       "      <td>A. Swati</td>\n",
       "      <td>2</td>\n",
       "      <td>3</td>\n",
       "      <td>Senior Software Engineer</td>\n",
       "      <td>Tokyo</td>\n",
       "      <td>2530100</td>\n",
       "      <td>0.15</td>\n",
       "      <td>7</td>\n",
       "    </tr>\n",
       "    <tr>\n",
       "      <th>2</th>\n",
       "      <td>2019</td>\n",
       "      <td>2019-01-14</td>\n",
       "      <td>C. Poornima</td>\n",
       "      <td>3</td>\n",
       "      <td>4</td>\n",
       "      <td>Lead Engineer</td>\n",
       "      <td>Gemcon</td>\n",
       "      <td>3330113</td>\n",
       "      <td>0.15</td>\n",
       "      <td>10</td>\n",
       "    </tr>\n",
       "    <tr>\n",
       "      <th>3</th>\n",
       "      <td>2019</td>\n",
       "      <td>2019-01-21</td>\n",
       "      <td>D. Manish</td>\n",
       "      <td>4</td>\n",
       "      <td>2</td>\n",
       "      <td>Software Engineer</td>\n",
       "      <td>Gemcon</td>\n",
       "      <td>2767233</td>\n",
       "      <td>0.10</td>\n",
       "      <td>10</td>\n",
       "    </tr>\n",
       "    <tr>\n",
       "      <th>4</th>\n",
       "      <td>2019</td>\n",
       "      <td>2019-01-21</td>\n",
       "      <td>R. Manoj</td>\n",
       "      <td>5</td>\n",
       "      <td>2</td>\n",
       "      <td>Software Engineer</td>\n",
       "      <td>Gemcon</td>\n",
       "      <td>2023602</td>\n",
       "      <td>0.10</td>\n",
       "      <td>8</td>\n",
       "    </tr>\n",
       "  </tbody>\n",
       "</table>\n",
       "</div>"
      ],
      "text/plain": [
       "   Start_Year Start_Date Employee_Name  unique_ID  Level_ID  \\\n",
       "0        2019 2019-01-07       S.Kumar          1         4   \n",
       "1        2019 2019-01-14      A. Swati          2         3   \n",
       "2        2019 2019-01-14   C. Poornima          3         4   \n",
       "3        2019 2019-01-21     D. Manish          4         2   \n",
       "4        2019 2019-01-21      R. Manoj          5         2   \n",
       "\n",
       "                      Grade Project  Current_Base_Pay  Bonus_entitlement  \\\n",
       "0             Lead Engineer  Gemcon           3219629               0.15   \n",
       "1  Senior Software Engineer   Tokyo           2530100               0.15   \n",
       "2             Lead Engineer  Gemcon           3330113               0.15   \n",
       "3         Software Engineer  Gemcon           2767233               0.10   \n",
       "4         Software Engineer  Gemcon           2023602               0.10   \n",
       "\n",
       "   Rating  \n",
       "0      10  \n",
       "1       7  \n",
       "2      10  \n",
       "3      10  \n",
       "4       8  "
      ]
     },
     "execution_count": 3,
     "metadata": {},
     "output_type": "execute_result"
    }
   ],
   "source": [
    "df.head()"
   ]
  },
  {
   "cell_type": "code",
   "execution_count": 4,
   "id": "4f862f31",
   "metadata": {},
   "outputs": [
    {
     "data": {
      "text/html": [
       "<div>\n",
       "<style scoped>\n",
       "    .dataframe tbody tr th:only-of-type {\n",
       "        vertical-align: middle;\n",
       "    }\n",
       "\n",
       "    .dataframe tbody tr th {\n",
       "        vertical-align: top;\n",
       "    }\n",
       "\n",
       "    .dataframe thead th {\n",
       "        text-align: right;\n",
       "    }\n",
       "</style>\n",
       "<table border=\"1\" class=\"dataframe\">\n",
       "  <thead>\n",
       "    <tr style=\"text-align: right;\">\n",
       "      <th></th>\n",
       "      <th>unique</th>\n",
       "      <th>Null</th>\n",
       "      <th>Nullpercent</th>\n",
       "      <th>type</th>\n",
       "      <th>duplicated</th>\n",
       "    </tr>\n",
       "  </thead>\n",
       "  <tbody>\n",
       "    <tr>\n",
       "      <th>Start_Year</th>\n",
       "      <td>5</td>\n",
       "      <td>0</td>\n",
       "      <td>0.0</td>\n",
       "      <td>int64</td>\n",
       "      <td>0</td>\n",
       "    </tr>\n",
       "    <tr>\n",
       "      <th>Start_Date</th>\n",
       "      <td>148</td>\n",
       "      <td>0</td>\n",
       "      <td>0.0</td>\n",
       "      <td>datetime64[ns]</td>\n",
       "      <td>0</td>\n",
       "    </tr>\n",
       "    <tr>\n",
       "      <th>Employee_Name</th>\n",
       "      <td>556</td>\n",
       "      <td>0</td>\n",
       "      <td>0.0</td>\n",
       "      <td>object</td>\n",
       "      <td>0</td>\n",
       "    </tr>\n",
       "    <tr>\n",
       "      <th>unique_ID</th>\n",
       "      <td>561</td>\n",
       "      <td>0</td>\n",
       "      <td>0.0</td>\n",
       "      <td>int64</td>\n",
       "      <td>0</td>\n",
       "    </tr>\n",
       "    <tr>\n",
       "      <th>Level_ID</th>\n",
       "      <td>4</td>\n",
       "      <td>0</td>\n",
       "      <td>0.0</td>\n",
       "      <td>int64</td>\n",
       "      <td>0</td>\n",
       "    </tr>\n",
       "    <tr>\n",
       "      <th>Grade</th>\n",
       "      <td>4</td>\n",
       "      <td>0</td>\n",
       "      <td>0.0</td>\n",
       "      <td>object</td>\n",
       "      <td>0</td>\n",
       "    </tr>\n",
       "    <tr>\n",
       "      <th>Project</th>\n",
       "      <td>3</td>\n",
       "      <td>0</td>\n",
       "      <td>0.0</td>\n",
       "      <td>object</td>\n",
       "      <td>0</td>\n",
       "    </tr>\n",
       "    <tr>\n",
       "      <th>Current_Base_Pay</th>\n",
       "      <td>535</td>\n",
       "      <td>0</td>\n",
       "      <td>0.0</td>\n",
       "      <td>int64</td>\n",
       "      <td>0</td>\n",
       "    </tr>\n",
       "    <tr>\n",
       "      <th>Bonus_entitlement</th>\n",
       "      <td>2</td>\n",
       "      <td>0</td>\n",
       "      <td>0.0</td>\n",
       "      <td>float64</td>\n",
       "      <td>0</td>\n",
       "    </tr>\n",
       "    <tr>\n",
       "      <th>Rating</th>\n",
       "      <td>5</td>\n",
       "      <td>0</td>\n",
       "      <td>0.0</td>\n",
       "      <td>int64</td>\n",
       "      <td>0</td>\n",
       "    </tr>\n",
       "  </tbody>\n",
       "</table>\n",
       "</div>"
      ],
      "text/plain": [
       "                   unique  Null  Nullpercent            type  duplicated\n",
       "Start_Year              5     0          0.0           int64           0\n",
       "Start_Date            148     0          0.0  datetime64[ns]           0\n",
       "Employee_Name         556     0          0.0          object           0\n",
       "unique_ID             561     0          0.0           int64           0\n",
       "Level_ID                4     0          0.0           int64           0\n",
       "Grade                   4     0          0.0          object           0\n",
       "Project                 3     0          0.0          object           0\n",
       "Current_Base_Pay      535     0          0.0           int64           0\n",
       "Bonus_entitlement       2     0          0.0         float64           0\n",
       "Rating                  5     0          0.0           int64           0"
      ]
     },
     "execution_count": 4,
     "metadata": {},
     "output_type": "execute_result"
    }
   ],
   "source": [
    "table= pd.DataFrame({'unique':df.nunique(),\n",
    "                   'Null':df.isnull().sum(),\n",
    "                   'Nullpercent':df.isnull().sum()/len(df)*100,\n",
    "                   'type':df.dtypes, \"duplicated\":df.duplicated().sum()})\n",
    "table"
   ]
  },
  {
   "cell_type": "code",
   "execution_count": 5,
   "id": "60aacb87",
   "metadata": {},
   "outputs": [],
   "source": [
    "df['unique_ID']=df['unique_ID'].astype(object)"
   ]
  },
  {
   "cell_type": "markdown",
   "id": "2a59bcb9",
   "metadata": {},
   "source": [
    "How many employees are there in the records?"
   ]
  },
  {
   "cell_type": "code",
   "execution_count": 6,
   "id": "9584aa0f",
   "metadata": {},
   "outputs": [
    {
     "data": {
      "text/plain": [
       "(561, 10)"
      ]
     },
     "execution_count": 6,
     "metadata": {},
     "output_type": "execute_result"
    }
   ],
   "source": [
    "df.shape"
   ]
  },
  {
   "cell_type": "markdown",
   "id": "901bc999",
   "metadata": {},
   "source": [
    "561 records include"
   ]
  },
  {
   "cell_type": "markdown",
   "id": "0080668e",
   "metadata": {},
   "source": [
    "Employees by Grade"
   ]
  },
  {
   "cell_type": "code",
   "execution_count": 7,
   "id": "9c78d166",
   "metadata": {},
   "outputs": [
    {
     "data": {
      "text/plain": [
       "Software Engineer           190\n",
       "Senior Software Engineer    164\n",
       "Associate                   122\n",
       "Lead Engineer                85\n",
       "Name: Grade, dtype: int64"
      ]
     },
     "execution_count": 7,
     "metadata": {},
     "output_type": "execute_result"
    }
   ],
   "source": [
    "df['Grade'].value_counts()"
   ]
  },
  {
   "cell_type": "markdown",
   "id": "7e086cbf",
   "metadata": {},
   "source": [
    "Employees joined by Year and still with the company"
   ]
  },
  {
   "cell_type": "code",
   "execution_count": 8,
   "id": "f8d617fd",
   "metadata": {},
   "outputs": [
    {
     "data": {
      "text/plain": [
       "2020    163\n",
       "2023    132\n",
       "2021    106\n",
       "2022    104\n",
       "2019     56\n",
       "Name: Start_Year, dtype: int64"
      ]
     },
     "execution_count": 8,
     "metadata": {},
     "output_type": "execute_result"
    }
   ],
   "source": [
    "df['Start_Year'].value_counts()"
   ]
  },
  {
   "cell_type": "markdown",
   "id": "3e8991af",
   "metadata": {},
   "source": [
    "employee project allocation & grade"
   ]
  },
  {
   "cell_type": "code",
   "execution_count": 9,
   "id": "b68cdd6e",
   "metadata": {},
   "outputs": [],
   "source": [
    "pivot_project_grade = df.pivot_table(index='Grade', columns='Project', values='unique_ID',aggfunc='count')"
   ]
  },
  {
   "cell_type": "code",
   "execution_count": 10,
   "id": "b1b53aaa",
   "metadata": {},
   "outputs": [
    {
     "data": {
      "text/html": [
       "<div>\n",
       "<style scoped>\n",
       "    .dataframe tbody tr th:only-of-type {\n",
       "        vertical-align: middle;\n",
       "    }\n",
       "\n",
       "    .dataframe tbody tr th {\n",
       "        vertical-align: top;\n",
       "    }\n",
       "\n",
       "    .dataframe thead th {\n",
       "        text-align: right;\n",
       "    }\n",
       "</style>\n",
       "<table border=\"1\" class=\"dataframe\">\n",
       "  <thead>\n",
       "    <tr style=\"text-align: right;\">\n",
       "      <th>Project</th>\n",
       "      <th>Gemcon</th>\n",
       "      <th>Tokyo</th>\n",
       "      <th>Venice</th>\n",
       "    </tr>\n",
       "    <tr>\n",
       "      <th>Grade</th>\n",
       "      <th></th>\n",
       "      <th></th>\n",
       "      <th></th>\n",
       "    </tr>\n",
       "  </thead>\n",
       "  <tbody>\n",
       "    <tr>\n",
       "      <th>Associate</th>\n",
       "      <td>49</td>\n",
       "      <td>30</td>\n",
       "      <td>43</td>\n",
       "    </tr>\n",
       "    <tr>\n",
       "      <th>Lead Engineer</th>\n",
       "      <td>33</td>\n",
       "      <td>25</td>\n",
       "      <td>27</td>\n",
       "    </tr>\n",
       "    <tr>\n",
       "      <th>Senior Software Engineer</th>\n",
       "      <td>43</td>\n",
       "      <td>61</td>\n",
       "      <td>60</td>\n",
       "    </tr>\n",
       "    <tr>\n",
       "      <th>Software Engineer</th>\n",
       "      <td>71</td>\n",
       "      <td>56</td>\n",
       "      <td>63</td>\n",
       "    </tr>\n",
       "  </tbody>\n",
       "</table>\n",
       "</div>"
      ],
      "text/plain": [
       "Project                   Gemcon  Tokyo  Venice\n",
       "Grade                                          \n",
       "Associate                     49     30      43\n",
       "Lead Engineer                 33     25      27\n",
       "Senior Software Engineer      43     61      60\n",
       "Software Engineer             71     56      63"
      ]
     },
     "execution_count": 10,
     "metadata": {},
     "output_type": "execute_result"
    }
   ],
   "source": [
    "pivot_project_grade"
   ]
  },
  {
   "cell_type": "code",
   "execution_count": 11,
   "id": "687609a1",
   "metadata": {},
   "outputs": [
    {
     "data": {
      "text/html": [
       "<div>\n",
       "<style scoped>\n",
       "    .dataframe tbody tr th:only-of-type {\n",
       "        vertical-align: middle;\n",
       "    }\n",
       "\n",
       "    .dataframe tbody tr th {\n",
       "        vertical-align: top;\n",
       "    }\n",
       "\n",
       "    .dataframe thead th {\n",
       "        text-align: right;\n",
       "    }\n",
       "</style>\n",
       "<table border=\"1\" class=\"dataframe\">\n",
       "  <thead>\n",
       "    <tr style=\"text-align: right;\">\n",
       "      <th>Project</th>\n",
       "      <th>Gemcon</th>\n",
       "      <th>Tokyo</th>\n",
       "      <th>Venice</th>\n",
       "    </tr>\n",
       "    <tr>\n",
       "      <th>Grade</th>\n",
       "      <th></th>\n",
       "      <th></th>\n",
       "      <th></th>\n",
       "    </tr>\n",
       "  </thead>\n",
       "  <tbody>\n",
       "    <tr>\n",
       "      <th>Associate</th>\n",
       "      <td>49</td>\n",
       "      <td>30</td>\n",
       "      <td>43</td>\n",
       "    </tr>\n",
       "    <tr>\n",
       "      <th>Lead Engineer</th>\n",
       "      <td>33</td>\n",
       "      <td>25</td>\n",
       "      <td>27</td>\n",
       "    </tr>\n",
       "    <tr>\n",
       "      <th>Senior Software Engineer</th>\n",
       "      <td>43</td>\n",
       "      <td>61</td>\n",
       "      <td>60</td>\n",
       "    </tr>\n",
       "    <tr>\n",
       "      <th>Software Engineer</th>\n",
       "      <td>71</td>\n",
       "      <td>56</td>\n",
       "      <td>63</td>\n",
       "    </tr>\n",
       "  </tbody>\n",
       "</table>\n",
       "</div>"
      ],
      "text/plain": [
       "Project                   Gemcon  Tokyo  Venice\n",
       "Grade                                          \n",
       "Associate                     49     30      43\n",
       "Lead Engineer                 33     25      27\n",
       "Senior Software Engineer      43     61      60\n",
       "Software Engineer             71     56      63"
      ]
     },
     "execution_count": 11,
     "metadata": {},
     "output_type": "execute_result"
    }
   ],
   "source": [
    "pivot_project_grade"
   ]
  },
  {
   "cell_type": "markdown",
   "id": "c5e9d1e7",
   "metadata": {},
   "source": [
    "Avg Ratings across project"
   ]
  },
  {
   "cell_type": "code",
   "execution_count": 12,
   "id": "0760665c",
   "metadata": {},
   "outputs": [],
   "source": [
    "pivot_project_rating = df.pivot_table(index ='Grade', columns ='Project',values = 'Rating',aggfunc='mean')\n",
    "pivot_project_rating = pivot_project_rating.round(2)"
   ]
  },
  {
   "cell_type": "code",
   "execution_count": 13,
   "id": "603f74e1",
   "metadata": {},
   "outputs": [
    {
     "data": {
      "text/html": [
       "<div>\n",
       "<style scoped>\n",
       "    .dataframe tbody tr th:only-of-type {\n",
       "        vertical-align: middle;\n",
       "    }\n",
       "\n",
       "    .dataframe tbody tr th {\n",
       "        vertical-align: top;\n",
       "    }\n",
       "\n",
       "    .dataframe thead th {\n",
       "        text-align: right;\n",
       "    }\n",
       "</style>\n",
       "<table border=\"1\" class=\"dataframe\">\n",
       "  <thead>\n",
       "    <tr style=\"text-align: right;\">\n",
       "      <th>Project</th>\n",
       "      <th>Gemcon</th>\n",
       "      <th>Tokyo</th>\n",
       "      <th>Venice</th>\n",
       "    </tr>\n",
       "    <tr>\n",
       "      <th>Grade</th>\n",
       "      <th></th>\n",
       "      <th></th>\n",
       "      <th></th>\n",
       "    </tr>\n",
       "  </thead>\n",
       "  <tbody>\n",
       "    <tr>\n",
       "      <th>Associate</th>\n",
       "      <td>7.96</td>\n",
       "      <td>8.57</td>\n",
       "      <td>7.88</td>\n",
       "    </tr>\n",
       "    <tr>\n",
       "      <th>Lead Engineer</th>\n",
       "      <td>8.27</td>\n",
       "      <td>8.00</td>\n",
       "      <td>7.89</td>\n",
       "    </tr>\n",
       "    <tr>\n",
       "      <th>Senior Software Engineer</th>\n",
       "      <td>7.74</td>\n",
       "      <td>8.03</td>\n",
       "      <td>7.93</td>\n",
       "    </tr>\n",
       "    <tr>\n",
       "      <th>Software Engineer</th>\n",
       "      <td>7.96</td>\n",
       "      <td>7.77</td>\n",
       "      <td>7.98</td>\n",
       "    </tr>\n",
       "  </tbody>\n",
       "</table>\n",
       "</div>"
      ],
      "text/plain": [
       "Project                   Gemcon  Tokyo  Venice\n",
       "Grade                                          \n",
       "Associate                   7.96   8.57    7.88\n",
       "Lead Engineer               8.27   8.00    7.89\n",
       "Senior Software Engineer    7.74   8.03    7.93\n",
       "Software Engineer           7.96   7.77    7.98"
      ]
     },
     "execution_count": 13,
     "metadata": {},
     "output_type": "execute_result"
    }
   ],
   "source": [
    "pivot_project_rating"
   ]
  },
  {
   "cell_type": "markdown",
   "id": "e9f9ef32",
   "metadata": {},
   "source": [
    "Average Base Pay Across Projects"
   ]
  },
  {
   "cell_type": "code",
   "execution_count": 14,
   "id": "9ddd45aa",
   "metadata": {},
   "outputs": [
    {
     "data": {
      "text/html": [
       "<div>\n",
       "<style scoped>\n",
       "    .dataframe tbody tr th:only-of-type {\n",
       "        vertical-align: middle;\n",
       "    }\n",
       "\n",
       "    .dataframe tbody tr th {\n",
       "        vertical-align: top;\n",
       "    }\n",
       "\n",
       "    .dataframe thead th {\n",
       "        text-align: right;\n",
       "    }\n",
       "</style>\n",
       "<table border=\"1\" class=\"dataframe\">\n",
       "  <thead>\n",
       "    <tr style=\"text-align: right;\">\n",
       "      <th>Project</th>\n",
       "      <th>Gemcon</th>\n",
       "      <th>Tokyo</th>\n",
       "      <th>Venice</th>\n",
       "    </tr>\n",
       "    <tr>\n",
       "      <th>Grade</th>\n",
       "      <th></th>\n",
       "      <th></th>\n",
       "      <th></th>\n",
       "    </tr>\n",
       "  </thead>\n",
       "  <tbody>\n",
       "    <tr>\n",
       "      <th>Associate</th>\n",
       "      <td>1488618.0</td>\n",
       "      <td>1489989.0</td>\n",
       "      <td>1523179.0</td>\n",
       "    </tr>\n",
       "    <tr>\n",
       "      <th>Lead Engineer</th>\n",
       "      <td>2766288.0</td>\n",
       "      <td>2535402.0</td>\n",
       "      <td>2858086.0</td>\n",
       "    </tr>\n",
       "    <tr>\n",
       "      <th>Senior Software Engineer</th>\n",
       "      <td>2378832.0</td>\n",
       "      <td>2421193.0</td>\n",
       "      <td>2417559.0</td>\n",
       "    </tr>\n",
       "    <tr>\n",
       "      <th>Software Engineer</th>\n",
       "      <td>2127771.0</td>\n",
       "      <td>2052550.0</td>\n",
       "      <td>2076845.0</td>\n",
       "    </tr>\n",
       "  </tbody>\n",
       "</table>\n",
       "</div>"
      ],
      "text/plain": [
       "Project                      Gemcon      Tokyo     Venice\n",
       "Grade                                                    \n",
       "Associate                 1488618.0  1489989.0  1523179.0\n",
       "Lead Engineer             2766288.0  2535402.0  2858086.0\n",
       "Senior Software Engineer  2378832.0  2421193.0  2417559.0\n",
       "Software Engineer         2127771.0  2052550.0  2076845.0"
      ]
     },
     "execution_count": 14,
     "metadata": {},
     "output_type": "execute_result"
    }
   ],
   "source": [
    "pivot_project_Base = df.pivot_table(index ='Grade', columns ='Project',values = 'Current_Base_Pay',aggfunc='mean')\n",
    "pivot_project_Base = pivot_project_Base.round(0)\n",
    "pivot_project_Base"
   ]
  },
  {
   "cell_type": "code",
   "execution_count": 15,
   "id": "91787fa3",
   "metadata": {},
   "outputs": [
    {
     "data": {
      "text/html": [
       "<div>\n",
       "<style scoped>\n",
       "    .dataframe tbody tr th:only-of-type {\n",
       "        vertical-align: middle;\n",
       "    }\n",
       "\n",
       "    .dataframe tbody tr th {\n",
       "        vertical-align: top;\n",
       "    }\n",
       "\n",
       "    .dataframe thead th {\n",
       "        text-align: right;\n",
       "    }\n",
       "</style>\n",
       "<table border=\"1\" class=\"dataframe\">\n",
       "  <thead>\n",
       "    <tr style=\"text-align: right;\">\n",
       "      <th></th>\n",
       "      <th>Start_Year</th>\n",
       "      <th>Start_Date</th>\n",
       "      <th>Employee_Name</th>\n",
       "      <th>unique_ID</th>\n",
       "      <th>Level_ID</th>\n",
       "      <th>Grade</th>\n",
       "      <th>Project</th>\n",
       "      <th>Current_Base_Pay</th>\n",
       "      <th>Bonus_entitlement</th>\n",
       "      <th>Rating</th>\n",
       "    </tr>\n",
       "  </thead>\n",
       "  <tbody>\n",
       "    <tr>\n",
       "      <th>0</th>\n",
       "      <td>2019</td>\n",
       "      <td>2019-01-07</td>\n",
       "      <td>S.Kumar</td>\n",
       "      <td>1</td>\n",
       "      <td>4</td>\n",
       "      <td>Lead Engineer</td>\n",
       "      <td>Gemcon</td>\n",
       "      <td>3219629</td>\n",
       "      <td>0.15</td>\n",
       "      <td>10</td>\n",
       "    </tr>\n",
       "    <tr>\n",
       "      <th>1</th>\n",
       "      <td>2019</td>\n",
       "      <td>2019-01-14</td>\n",
       "      <td>A. Swati</td>\n",
       "      <td>2</td>\n",
       "      <td>3</td>\n",
       "      <td>Senior Software Engineer</td>\n",
       "      <td>Tokyo</td>\n",
       "      <td>2530100</td>\n",
       "      <td>0.15</td>\n",
       "      <td>7</td>\n",
       "    </tr>\n",
       "  </tbody>\n",
       "</table>\n",
       "</div>"
      ],
      "text/plain": [
       "   Start_Year Start_Date Employee_Name unique_ID  Level_ID  \\\n",
       "0        2019 2019-01-07       S.Kumar         1         4   \n",
       "1        2019 2019-01-14      A. Swati         2         3   \n",
       "\n",
       "                      Grade Project  Current_Base_Pay  Bonus_entitlement  \\\n",
       "0             Lead Engineer  Gemcon           3219629               0.15   \n",
       "1  Senior Software Engineer   Tokyo           2530100               0.15   \n",
       "\n",
       "   Rating  \n",
       "0      10  \n",
       "1       7  "
      ]
     },
     "execution_count": 15,
     "metadata": {},
     "output_type": "execute_result"
    }
   ],
   "source": [
    "df.head(2)"
   ]
  },
  {
   "cell_type": "code",
   "execution_count": 16,
   "id": "bb7610da",
   "metadata": {},
   "outputs": [
    {
     "data": {
      "text/html": [
       "<div>\n",
       "<style scoped>\n",
       "    .dataframe tbody tr th:only-of-type {\n",
       "        vertical-align: middle;\n",
       "    }\n",
       "\n",
       "    .dataframe tbody tr th {\n",
       "        vertical-align: top;\n",
       "    }\n",
       "\n",
       "    .dataframe thead th {\n",
       "        text-align: right;\n",
       "    }\n",
       "</style>\n",
       "<table border=\"1\" class=\"dataframe\">\n",
       "  <thead>\n",
       "    <tr style=\"text-align: right;\">\n",
       "      <th></th>\n",
       "      <th>Start_Year</th>\n",
       "      <th>Start_Date</th>\n",
       "      <th>Employee_Name</th>\n",
       "      <th>unique_ID</th>\n",
       "      <th>Level_ID</th>\n",
       "      <th>Grade</th>\n",
       "      <th>Project</th>\n",
       "      <th>Current_Base_Pay</th>\n",
       "      <th>Bonus_entitlement</th>\n",
       "      <th>Rating</th>\n",
       "      <th>percentile_category</th>\n",
       "    </tr>\n",
       "  </thead>\n",
       "  <tbody>\n",
       "    <tr>\n",
       "      <th>0</th>\n",
       "      <td>2019</td>\n",
       "      <td>2019-01-07</td>\n",
       "      <td>S.Kumar</td>\n",
       "      <td>1</td>\n",
       "      <td>4</td>\n",
       "      <td>Lead Engineer</td>\n",
       "      <td>Gemcon</td>\n",
       "      <td>3219629</td>\n",
       "      <td>0.15</td>\n",
       "      <td>10</td>\n",
       "      <td>Above 75th</td>\n",
       "    </tr>\n",
       "    <tr>\n",
       "      <th>1</th>\n",
       "      <td>2019</td>\n",
       "      <td>2019-01-14</td>\n",
       "      <td>A. Swati</td>\n",
       "      <td>2</td>\n",
       "      <td>3</td>\n",
       "      <td>Senior Software Engineer</td>\n",
       "      <td>Tokyo</td>\n",
       "      <td>2530100</td>\n",
       "      <td>0.15</td>\n",
       "      <td>7</td>\n",
       "      <td>Between 50th to 75th</td>\n",
       "    </tr>\n",
       "    <tr>\n",
       "      <th>2</th>\n",
       "      <td>2019</td>\n",
       "      <td>2019-01-14</td>\n",
       "      <td>C. Poornima</td>\n",
       "      <td>3</td>\n",
       "      <td>4</td>\n",
       "      <td>Lead Engineer</td>\n",
       "      <td>Gemcon</td>\n",
       "      <td>3330113</td>\n",
       "      <td>0.15</td>\n",
       "      <td>10</td>\n",
       "      <td>Above 75th</td>\n",
       "    </tr>\n",
       "    <tr>\n",
       "      <th>3</th>\n",
       "      <td>2019</td>\n",
       "      <td>2019-01-21</td>\n",
       "      <td>D. Manish</td>\n",
       "      <td>4</td>\n",
       "      <td>2</td>\n",
       "      <td>Software Engineer</td>\n",
       "      <td>Gemcon</td>\n",
       "      <td>2767233</td>\n",
       "      <td>0.10</td>\n",
       "      <td>10</td>\n",
       "      <td>Above 75th</td>\n",
       "    </tr>\n",
       "    <tr>\n",
       "      <th>4</th>\n",
       "      <td>2019</td>\n",
       "      <td>2019-01-21</td>\n",
       "      <td>R. Manoj</td>\n",
       "      <td>5</td>\n",
       "      <td>2</td>\n",
       "      <td>Software Engineer</td>\n",
       "      <td>Gemcon</td>\n",
       "      <td>2023602</td>\n",
       "      <td>0.10</td>\n",
       "      <td>8</td>\n",
       "      <td>Between 25th to 50th</td>\n",
       "    </tr>\n",
       "    <tr>\n",
       "      <th>...</th>\n",
       "      <td>...</td>\n",
       "      <td>...</td>\n",
       "      <td>...</td>\n",
       "      <td>...</td>\n",
       "      <td>...</td>\n",
       "      <td>...</td>\n",
       "      <td>...</td>\n",
       "      <td>...</td>\n",
       "      <td>...</td>\n",
       "      <td>...</td>\n",
       "      <td>...</td>\n",
       "    </tr>\n",
       "    <tr>\n",
       "      <th>556</th>\n",
       "      <td>2023</td>\n",
       "      <td>2023-08-21</td>\n",
       "      <td>K. Shreya</td>\n",
       "      <td>557</td>\n",
       "      <td>3</td>\n",
       "      <td>Senior Software Engineer</td>\n",
       "      <td>Gemcon</td>\n",
       "      <td>2697410</td>\n",
       "      <td>0.15</td>\n",
       "      <td>7</td>\n",
       "      <td>Above 75th</td>\n",
       "    </tr>\n",
       "    <tr>\n",
       "      <th>557</th>\n",
       "      <td>2023</td>\n",
       "      <td>2023-08-21</td>\n",
       "      <td>S. Mani</td>\n",
       "      <td>558</td>\n",
       "      <td>4</td>\n",
       "      <td>Lead Engineer</td>\n",
       "      <td>Tokyo</td>\n",
       "      <td>2467364</td>\n",
       "      <td>0.15</td>\n",
       "      <td>8</td>\n",
       "      <td>Between 25th to 50th</td>\n",
       "    </tr>\n",
       "    <tr>\n",
       "      <th>558</th>\n",
       "      <td>2023</td>\n",
       "      <td>2023-08-21</td>\n",
       "      <td>M. Bhavana</td>\n",
       "      <td>559</td>\n",
       "      <td>3</td>\n",
       "      <td>Senior Software Engineer</td>\n",
       "      <td>Tokyo</td>\n",
       "      <td>2397438</td>\n",
       "      <td>0.15</td>\n",
       "      <td>10</td>\n",
       "      <td>Between 25th to 50th</td>\n",
       "    </tr>\n",
       "    <tr>\n",
       "      <th>559</th>\n",
       "      <td>2023</td>\n",
       "      <td>2023-08-21</td>\n",
       "      <td>N. Naveen</td>\n",
       "      <td>560</td>\n",
       "      <td>1</td>\n",
       "      <td>Associate</td>\n",
       "      <td>Tokyo</td>\n",
       "      <td>1000000</td>\n",
       "      <td>0.10</td>\n",
       "      <td>9</td>\n",
       "      <td>Below 25th</td>\n",
       "    </tr>\n",
       "    <tr>\n",
       "      <th>560</th>\n",
       "      <td>2023</td>\n",
       "      <td>2023-08-21</td>\n",
       "      <td>R. Renuka</td>\n",
       "      <td>561</td>\n",
       "      <td>1</td>\n",
       "      <td>Associate</td>\n",
       "      <td>Tokyo</td>\n",
       "      <td>1000000</td>\n",
       "      <td>0.10</td>\n",
       "      <td>9</td>\n",
       "      <td>Below 25th</td>\n",
       "    </tr>\n",
       "  </tbody>\n",
       "</table>\n",
       "<p>561 rows × 11 columns</p>\n",
       "</div>"
      ],
      "text/plain": [
       "     Start_Year Start_Date Employee_Name unique_ID  Level_ID  \\\n",
       "0          2019 2019-01-07       S.Kumar         1         4   \n",
       "1          2019 2019-01-14      A. Swati         2         3   \n",
       "2          2019 2019-01-14   C. Poornima         3         4   \n",
       "3          2019 2019-01-21     D. Manish         4         2   \n",
       "4          2019 2019-01-21      R. Manoj         5         2   \n",
       "..          ...        ...           ...       ...       ...   \n",
       "556        2023 2023-08-21     K. Shreya       557         3   \n",
       "557        2023 2023-08-21       S. Mani       558         4   \n",
       "558        2023 2023-08-21    M. Bhavana       559         3   \n",
       "559        2023 2023-08-21     N. Naveen       560         1   \n",
       "560        2023 2023-08-21     R. Renuka       561         1   \n",
       "\n",
       "                        Grade Project  Current_Base_Pay  Bonus_entitlement  \\\n",
       "0               Lead Engineer  Gemcon           3219629               0.15   \n",
       "1    Senior Software Engineer   Tokyo           2530100               0.15   \n",
       "2               Lead Engineer  Gemcon           3330113               0.15   \n",
       "3           Software Engineer  Gemcon           2767233               0.10   \n",
       "4           Software Engineer  Gemcon           2023602               0.10   \n",
       "..                        ...     ...               ...                ...   \n",
       "556  Senior Software Engineer  Gemcon           2697410               0.15   \n",
       "557             Lead Engineer   Tokyo           2467364               0.15   \n",
       "558  Senior Software Engineer   Tokyo           2397438               0.15   \n",
       "559                 Associate   Tokyo           1000000               0.10   \n",
       "560                 Associate   Tokyo           1000000               0.10   \n",
       "\n",
       "     Rating   percentile_category  \n",
       "0        10            Above 75th  \n",
       "1         7  Between 50th to 75th  \n",
       "2        10            Above 75th  \n",
       "3        10            Above 75th  \n",
       "4         8  Between 25th to 50th  \n",
       "..      ...                   ...  \n",
       "556       7            Above 75th  \n",
       "557       8  Between 25th to 50th  \n",
       "558      10  Between 25th to 50th  \n",
       "559       9            Below 25th  \n",
       "560       9            Below 25th  \n",
       "\n",
       "[561 rows x 11 columns]"
      ]
     },
     "execution_count": 16,
     "metadata": {},
     "output_type": "execute_result"
    }
   ],
   "source": [
    " # Calculate quartiles\n",
    "quartiles = df.groupby('Grade')['Current_Base_Pay'].transform(lambda x: pd.qcut(x, q=[0, 0.25, 0.5, 0.75, 1], labels=False))\n",
    "\n",
    "# Assign percentile categories based on quartiles\n",
    "percentile_category = quartiles.apply(lambda x: {\n",
    "    0: 'Below 25th',\n",
    "    1: 'Between 25th to 50th',\n",
    "    2: 'Between 50th to 75th',\n",
    "    3: 'Above 75th'\n",
    "}[x])\n",
    "\n",
    "# Add new column for percentile category\n",
    "df['percentile_category'] = percentile_category\n",
    "df"
   ]
  },
  {
   "cell_type": "code",
   "execution_count": 17,
   "id": "d8f27a00",
   "metadata": {},
   "outputs": [
    {
     "data": {
      "text/plain": [
       "1765745.0"
      ]
     },
     "execution_count": 17,
     "metadata": {},
     "output_type": "execute_result"
    }
   ],
   "source": [
    "df['Current_Base_Pay'].quantile(0.25)"
   ]
  },
  {
   "cell_type": "code",
   "execution_count": 18,
   "id": "99af737a",
   "metadata": {},
   "outputs": [
    {
     "data": {
      "text/html": [
       "<div>\n",
       "<style scoped>\n",
       "    .dataframe tbody tr th:only-of-type {\n",
       "        vertical-align: middle;\n",
       "    }\n",
       "\n",
       "    .dataframe tbody tr th {\n",
       "        vertical-align: top;\n",
       "    }\n",
       "\n",
       "    .dataframe thead th {\n",
       "        text-align: right;\n",
       "    }\n",
       "</style>\n",
       "<table border=\"1\" class=\"dataframe\">\n",
       "  <thead>\n",
       "    <tr style=\"text-align: right;\">\n",
       "      <th>Project</th>\n",
       "      <th>Gemcon</th>\n",
       "      <th>Tokyo</th>\n",
       "      <th>Venice</th>\n",
       "    </tr>\n",
       "    <tr>\n",
       "      <th>percentile_category</th>\n",
       "      <th></th>\n",
       "      <th></th>\n",
       "      <th></th>\n",
       "    </tr>\n",
       "  </thead>\n",
       "  <tbody>\n",
       "    <tr>\n",
       "      <th>Above 75th</th>\n",
       "      <td>46</td>\n",
       "      <td>36</td>\n",
       "      <td>59</td>\n",
       "    </tr>\n",
       "    <tr>\n",
       "      <th>Below 25th</th>\n",
       "      <td>47</td>\n",
       "      <td>48</td>\n",
       "      <td>47</td>\n",
       "    </tr>\n",
       "    <tr>\n",
       "      <th>Between 25th to 50th</th>\n",
       "      <td>54</td>\n",
       "      <td>40</td>\n",
       "      <td>45</td>\n",
       "    </tr>\n",
       "    <tr>\n",
       "      <th>Between 50th to 75th</th>\n",
       "      <td>49</td>\n",
       "      <td>48</td>\n",
       "      <td>42</td>\n",
       "    </tr>\n",
       "  </tbody>\n",
       "</table>\n",
       "</div>"
      ],
      "text/plain": [
       "Project               Gemcon  Tokyo  Venice\n",
       "percentile_category                        \n",
       "Above 75th                46     36      59\n",
       "Below 25th                47     48      47\n",
       "Between 25th to 50th      54     40      45\n",
       "Between 50th to 75th      49     48      42"
      ]
     },
     "execution_count": 18,
     "metadata": {},
     "output_type": "execute_result"
    }
   ],
   "source": [
    "pivot_project_percentile = df.pivot_table(index ='percentile_category', columns ='Project',values = 'unique_ID',aggfunc='count')\n",
    "pivot_project_percentile = pivot_project_percentile.round(0)\n",
    "pivot_project_percentile"
   ]
  },
  {
   "cell_type": "code",
   "execution_count": 19,
   "id": "a761d634",
   "metadata": {},
   "outputs": [
    {
     "data": {
      "text/html": [
       "<div>\n",
       "<style scoped>\n",
       "    .dataframe tbody tr th:only-of-type {\n",
       "        vertical-align: middle;\n",
       "    }\n",
       "\n",
       "    .dataframe tbody tr th {\n",
       "        vertical-align: top;\n",
       "    }\n",
       "\n",
       "    .dataframe thead th {\n",
       "        text-align: right;\n",
       "    }\n",
       "</style>\n",
       "<table border=\"1\" class=\"dataframe\">\n",
       "  <thead>\n",
       "    <tr style=\"text-align: right;\">\n",
       "      <th></th>\n",
       "      <th>Start_Year</th>\n",
       "      <th>Start_Date</th>\n",
       "      <th>Employee_Name</th>\n",
       "      <th>unique_ID</th>\n",
       "      <th>Level_ID</th>\n",
       "      <th>Grade</th>\n",
       "      <th>Project</th>\n",
       "      <th>Current_Base_Pay</th>\n",
       "      <th>Bonus_entitlement</th>\n",
       "      <th>Rating</th>\n",
       "      <th>percentile_category</th>\n",
       "    </tr>\n",
       "  </thead>\n",
       "  <tbody>\n",
       "    <tr>\n",
       "      <th>0</th>\n",
       "      <td>2019</td>\n",
       "      <td>2019-01-07</td>\n",
       "      <td>S.Kumar</td>\n",
       "      <td>1</td>\n",
       "      <td>4</td>\n",
       "      <td>Lead Engineer</td>\n",
       "      <td>Gemcon</td>\n",
       "      <td>3219629</td>\n",
       "      <td>0.15</td>\n",
       "      <td>10</td>\n",
       "      <td>Above 75th</td>\n",
       "    </tr>\n",
       "  </tbody>\n",
       "</table>\n",
       "</div>"
      ],
      "text/plain": [
       "   Start_Year Start_Date Employee_Name unique_ID  Level_ID          Grade  \\\n",
       "0        2019 2019-01-07       S.Kumar         1         4  Lead Engineer   \n",
       "\n",
       "  Project  Current_Base_Pay  Bonus_entitlement  Rating percentile_category  \n",
       "0  Gemcon           3219629               0.15      10          Above 75th  "
      ]
     },
     "execution_count": 19,
     "metadata": {},
     "output_type": "execute_result"
    }
   ],
   "source": [
    "df[df['unique_ID']==1]"
   ]
  },
  {
   "cell_type": "code",
   "execution_count": 20,
   "id": "edb7f736",
   "metadata": {},
   "outputs": [],
   "source": [
    "# Define the reference date\n",
    "reference_date = pd.to_datetime('2024-04-01')\n",
    "\n",
    "# Calculate time delta in years\n",
    "time_delta = (reference_date - df['Start_Date']).dt.days\n",
    "years = time_delta // 365  # Calculate years\n",
    "remaining_days = time_delta % 365  # Calculate remaining days\n",
    "time_in_years = years + remaining_days / 365  # Combine years and remaining days as decimal\n",
    "\n",
    "# Add the time delta in years to the DataFrame\n",
    "df['Time_In_Company'] = time_in_years.round(2)\n",
    "df['Time_In_Company'] = np.floor(time_in_years * 100) / 100  # Round to 2 decimal places\n",
    "df\n",
    "\n",
    "df['Prorated'] = df['Time_In_Company'].apply(lambda x: 1 if x > 1 else x)"
   ]
  },
  {
   "cell_type": "code",
   "execution_count": 21,
   "id": "5f4cddaa",
   "metadata": {},
   "outputs": [
    {
     "data": {
      "text/html": [
       "<div>\n",
       "<style scoped>\n",
       "    .dataframe tbody tr th:only-of-type {\n",
       "        vertical-align: middle;\n",
       "    }\n",
       "\n",
       "    .dataframe tbody tr th {\n",
       "        vertical-align: top;\n",
       "    }\n",
       "\n",
       "    .dataframe thead th {\n",
       "        text-align: right;\n",
       "    }\n",
       "</style>\n",
       "<table border=\"1\" class=\"dataframe\">\n",
       "  <thead>\n",
       "    <tr style=\"text-align: right;\">\n",
       "      <th></th>\n",
       "      <th>Start_Year</th>\n",
       "      <th>Start_Date</th>\n",
       "      <th>Employee_Name</th>\n",
       "      <th>unique_ID</th>\n",
       "      <th>Level_ID</th>\n",
       "      <th>Grade</th>\n",
       "      <th>Project</th>\n",
       "      <th>Current_Base_Pay</th>\n",
       "      <th>Bonus_entitlement</th>\n",
       "      <th>Rating</th>\n",
       "      <th>percentile_category</th>\n",
       "      <th>Time_In_Company</th>\n",
       "      <th>Prorated</th>\n",
       "    </tr>\n",
       "  </thead>\n",
       "  <tbody>\n",
       "    <tr>\n",
       "      <th>0</th>\n",
       "      <td>2019</td>\n",
       "      <td>2019-01-07</td>\n",
       "      <td>S.Kumar</td>\n",
       "      <td>1</td>\n",
       "      <td>4</td>\n",
       "      <td>Lead Engineer</td>\n",
       "      <td>Gemcon</td>\n",
       "      <td>3219629</td>\n",
       "      <td>0.15</td>\n",
       "      <td>10</td>\n",
       "      <td>Above 75th</td>\n",
       "      <td>5.23</td>\n",
       "      <td>1.00</td>\n",
       "    </tr>\n",
       "    <tr>\n",
       "      <th>1</th>\n",
       "      <td>2019</td>\n",
       "      <td>2019-01-14</td>\n",
       "      <td>A. Swati</td>\n",
       "      <td>2</td>\n",
       "      <td>3</td>\n",
       "      <td>Senior Software Engineer</td>\n",
       "      <td>Tokyo</td>\n",
       "      <td>2530100</td>\n",
       "      <td>0.15</td>\n",
       "      <td>7</td>\n",
       "      <td>Between 50th to 75th</td>\n",
       "      <td>5.21</td>\n",
       "      <td>1.00</td>\n",
       "    </tr>\n",
       "    <tr>\n",
       "      <th>2</th>\n",
       "      <td>2019</td>\n",
       "      <td>2019-01-14</td>\n",
       "      <td>C. Poornima</td>\n",
       "      <td>3</td>\n",
       "      <td>4</td>\n",
       "      <td>Lead Engineer</td>\n",
       "      <td>Gemcon</td>\n",
       "      <td>3330113</td>\n",
       "      <td>0.15</td>\n",
       "      <td>10</td>\n",
       "      <td>Above 75th</td>\n",
       "      <td>5.21</td>\n",
       "      <td>1.00</td>\n",
       "    </tr>\n",
       "    <tr>\n",
       "      <th>3</th>\n",
       "      <td>2019</td>\n",
       "      <td>2019-01-21</td>\n",
       "      <td>D. Manish</td>\n",
       "      <td>4</td>\n",
       "      <td>2</td>\n",
       "      <td>Software Engineer</td>\n",
       "      <td>Gemcon</td>\n",
       "      <td>2767233</td>\n",
       "      <td>0.10</td>\n",
       "      <td>10</td>\n",
       "      <td>Above 75th</td>\n",
       "      <td>5.19</td>\n",
       "      <td>1.00</td>\n",
       "    </tr>\n",
       "    <tr>\n",
       "      <th>4</th>\n",
       "      <td>2019</td>\n",
       "      <td>2019-01-21</td>\n",
       "      <td>R. Manoj</td>\n",
       "      <td>5</td>\n",
       "      <td>2</td>\n",
       "      <td>Software Engineer</td>\n",
       "      <td>Gemcon</td>\n",
       "      <td>2023602</td>\n",
       "      <td>0.10</td>\n",
       "      <td>8</td>\n",
       "      <td>Between 25th to 50th</td>\n",
       "      <td>5.19</td>\n",
       "      <td>1.00</td>\n",
       "    </tr>\n",
       "    <tr>\n",
       "      <th>...</th>\n",
       "      <td>...</td>\n",
       "      <td>...</td>\n",
       "      <td>...</td>\n",
       "      <td>...</td>\n",
       "      <td>...</td>\n",
       "      <td>...</td>\n",
       "      <td>...</td>\n",
       "      <td>...</td>\n",
       "      <td>...</td>\n",
       "      <td>...</td>\n",
       "      <td>...</td>\n",
       "      <td>...</td>\n",
       "      <td>...</td>\n",
       "    </tr>\n",
       "    <tr>\n",
       "      <th>556</th>\n",
       "      <td>2023</td>\n",
       "      <td>2023-08-21</td>\n",
       "      <td>K. Shreya</td>\n",
       "      <td>557</td>\n",
       "      <td>3</td>\n",
       "      <td>Senior Software Engineer</td>\n",
       "      <td>Gemcon</td>\n",
       "      <td>2697410</td>\n",
       "      <td>0.15</td>\n",
       "      <td>7</td>\n",
       "      <td>Above 75th</td>\n",
       "      <td>0.61</td>\n",
       "      <td>0.61</td>\n",
       "    </tr>\n",
       "    <tr>\n",
       "      <th>557</th>\n",
       "      <td>2023</td>\n",
       "      <td>2023-08-21</td>\n",
       "      <td>S. Mani</td>\n",
       "      <td>558</td>\n",
       "      <td>4</td>\n",
       "      <td>Lead Engineer</td>\n",
       "      <td>Tokyo</td>\n",
       "      <td>2467364</td>\n",
       "      <td>0.15</td>\n",
       "      <td>8</td>\n",
       "      <td>Between 25th to 50th</td>\n",
       "      <td>0.61</td>\n",
       "      <td>0.61</td>\n",
       "    </tr>\n",
       "    <tr>\n",
       "      <th>558</th>\n",
       "      <td>2023</td>\n",
       "      <td>2023-08-21</td>\n",
       "      <td>M. Bhavana</td>\n",
       "      <td>559</td>\n",
       "      <td>3</td>\n",
       "      <td>Senior Software Engineer</td>\n",
       "      <td>Tokyo</td>\n",
       "      <td>2397438</td>\n",
       "      <td>0.15</td>\n",
       "      <td>10</td>\n",
       "      <td>Between 25th to 50th</td>\n",
       "      <td>0.61</td>\n",
       "      <td>0.61</td>\n",
       "    </tr>\n",
       "    <tr>\n",
       "      <th>559</th>\n",
       "      <td>2023</td>\n",
       "      <td>2023-08-21</td>\n",
       "      <td>N. Naveen</td>\n",
       "      <td>560</td>\n",
       "      <td>1</td>\n",
       "      <td>Associate</td>\n",
       "      <td>Tokyo</td>\n",
       "      <td>1000000</td>\n",
       "      <td>0.10</td>\n",
       "      <td>9</td>\n",
       "      <td>Below 25th</td>\n",
       "      <td>0.61</td>\n",
       "      <td>0.61</td>\n",
       "    </tr>\n",
       "    <tr>\n",
       "      <th>560</th>\n",
       "      <td>2023</td>\n",
       "      <td>2023-08-21</td>\n",
       "      <td>R. Renuka</td>\n",
       "      <td>561</td>\n",
       "      <td>1</td>\n",
       "      <td>Associate</td>\n",
       "      <td>Tokyo</td>\n",
       "      <td>1000000</td>\n",
       "      <td>0.10</td>\n",
       "      <td>9</td>\n",
       "      <td>Below 25th</td>\n",
       "      <td>0.61</td>\n",
       "      <td>0.61</td>\n",
       "    </tr>\n",
       "  </tbody>\n",
       "</table>\n",
       "<p>561 rows × 13 columns</p>\n",
       "</div>"
      ],
      "text/plain": [
       "     Start_Year Start_Date Employee_Name unique_ID  Level_ID  \\\n",
       "0          2019 2019-01-07       S.Kumar         1         4   \n",
       "1          2019 2019-01-14      A. Swati         2         3   \n",
       "2          2019 2019-01-14   C. Poornima         3         4   \n",
       "3          2019 2019-01-21     D. Manish         4         2   \n",
       "4          2019 2019-01-21      R. Manoj         5         2   \n",
       "..          ...        ...           ...       ...       ...   \n",
       "556        2023 2023-08-21     K. Shreya       557         3   \n",
       "557        2023 2023-08-21       S. Mani       558         4   \n",
       "558        2023 2023-08-21    M. Bhavana       559         3   \n",
       "559        2023 2023-08-21     N. Naveen       560         1   \n",
       "560        2023 2023-08-21     R. Renuka       561         1   \n",
       "\n",
       "                        Grade Project  Current_Base_Pay  Bonus_entitlement  \\\n",
       "0               Lead Engineer  Gemcon           3219629               0.15   \n",
       "1    Senior Software Engineer   Tokyo           2530100               0.15   \n",
       "2               Lead Engineer  Gemcon           3330113               0.15   \n",
       "3           Software Engineer  Gemcon           2767233               0.10   \n",
       "4           Software Engineer  Gemcon           2023602               0.10   \n",
       "..                        ...     ...               ...                ...   \n",
       "556  Senior Software Engineer  Gemcon           2697410               0.15   \n",
       "557             Lead Engineer   Tokyo           2467364               0.15   \n",
       "558  Senior Software Engineer   Tokyo           2397438               0.15   \n",
       "559                 Associate   Tokyo           1000000               0.10   \n",
       "560                 Associate   Tokyo           1000000               0.10   \n",
       "\n",
       "     Rating   percentile_category  Time_In_Company  Prorated  \n",
       "0        10            Above 75th             5.23      1.00  \n",
       "1         7  Between 50th to 75th             5.21      1.00  \n",
       "2        10            Above 75th             5.21      1.00  \n",
       "3        10            Above 75th             5.19      1.00  \n",
       "4         8  Between 25th to 50th             5.19      1.00  \n",
       "..      ...                   ...              ...       ...  \n",
       "556       7            Above 75th             0.61      0.61  \n",
       "557       8  Between 25th to 50th             0.61      0.61  \n",
       "558      10  Between 25th to 50th             0.61      0.61  \n",
       "559       9            Below 25th             0.61      0.61  \n",
       "560       9            Below 25th             0.61      0.61  \n",
       "\n",
       "[561 rows x 13 columns]"
      ]
     },
     "execution_count": 21,
     "metadata": {},
     "output_type": "execute_result"
    }
   ],
   "source": [
    "df"
   ]
  },
  {
   "cell_type": "code",
   "execution_count": 22,
   "id": "a0aa0d6e",
   "metadata": {},
   "outputs": [
    {
     "data": {
      "text/html": [
       "<div>\n",
       "<style scoped>\n",
       "    .dataframe tbody tr th:only-of-type {\n",
       "        vertical-align: middle;\n",
       "    }\n",
       "\n",
       "    .dataframe tbody tr th {\n",
       "        vertical-align: top;\n",
       "    }\n",
       "\n",
       "    .dataframe thead th {\n",
       "        text-align: right;\n",
       "    }\n",
       "</style>\n",
       "<table border=\"1\" class=\"dataframe\">\n",
       "  <thead>\n",
       "    <tr style=\"text-align: right;\">\n",
       "      <th></th>\n",
       "      <th>Start_Year</th>\n",
       "      <th>Start_Date</th>\n",
       "      <th>Employee_Name</th>\n",
       "      <th>unique_ID</th>\n",
       "      <th>Level_ID</th>\n",
       "      <th>Grade</th>\n",
       "      <th>Project</th>\n",
       "      <th>Current_Base_Pay</th>\n",
       "      <th>Bonus_entitlement</th>\n",
       "      <th>Rating</th>\n",
       "      <th>percentile_category</th>\n",
       "      <th>Time_In_Company</th>\n",
       "      <th>Prorated</th>\n",
       "    </tr>\n",
       "  </thead>\n",
       "  <tbody>\n",
       "    <tr>\n",
       "      <th>0</th>\n",
       "      <td>2019</td>\n",
       "      <td>2019-01-07</td>\n",
       "      <td>S.Kumar</td>\n",
       "      <td>1</td>\n",
       "      <td>4</td>\n",
       "      <td>Lead Engineer</td>\n",
       "      <td>Gemcon</td>\n",
       "      <td>3219629</td>\n",
       "      <td>0.15</td>\n",
       "      <td>10</td>\n",
       "      <td>Above 75th</td>\n",
       "      <td>5.23</td>\n",
       "      <td>1.00</td>\n",
       "    </tr>\n",
       "    <tr>\n",
       "      <th>1</th>\n",
       "      <td>2019</td>\n",
       "      <td>2019-01-14</td>\n",
       "      <td>A. Swati</td>\n",
       "      <td>2</td>\n",
       "      <td>3</td>\n",
       "      <td>Senior Software Engineer</td>\n",
       "      <td>Tokyo</td>\n",
       "      <td>2530100</td>\n",
       "      <td>0.15</td>\n",
       "      <td>7</td>\n",
       "      <td>Between 50th to 75th</td>\n",
       "      <td>5.21</td>\n",
       "      <td>1.00</td>\n",
       "    </tr>\n",
       "    <tr>\n",
       "      <th>2</th>\n",
       "      <td>2019</td>\n",
       "      <td>2019-01-14</td>\n",
       "      <td>C. Poornima</td>\n",
       "      <td>3</td>\n",
       "      <td>4</td>\n",
       "      <td>Lead Engineer</td>\n",
       "      <td>Gemcon</td>\n",
       "      <td>3330113</td>\n",
       "      <td>0.15</td>\n",
       "      <td>10</td>\n",
       "      <td>Above 75th</td>\n",
       "      <td>5.21</td>\n",
       "      <td>1.00</td>\n",
       "    </tr>\n",
       "    <tr>\n",
       "      <th>3</th>\n",
       "      <td>2019</td>\n",
       "      <td>2019-01-21</td>\n",
       "      <td>D. Manish</td>\n",
       "      <td>4</td>\n",
       "      <td>2</td>\n",
       "      <td>Software Engineer</td>\n",
       "      <td>Gemcon</td>\n",
       "      <td>2767233</td>\n",
       "      <td>0.10</td>\n",
       "      <td>10</td>\n",
       "      <td>Above 75th</td>\n",
       "      <td>5.19</td>\n",
       "      <td>1.00</td>\n",
       "    </tr>\n",
       "    <tr>\n",
       "      <th>4</th>\n",
       "      <td>2019</td>\n",
       "      <td>2019-01-21</td>\n",
       "      <td>R. Manoj</td>\n",
       "      <td>5</td>\n",
       "      <td>2</td>\n",
       "      <td>Software Engineer</td>\n",
       "      <td>Gemcon</td>\n",
       "      <td>2023602</td>\n",
       "      <td>0.10</td>\n",
       "      <td>8</td>\n",
       "      <td>Between 25th to 50th</td>\n",
       "      <td>5.19</td>\n",
       "      <td>1.00</td>\n",
       "    </tr>\n",
       "    <tr>\n",
       "      <th>...</th>\n",
       "      <td>...</td>\n",
       "      <td>...</td>\n",
       "      <td>...</td>\n",
       "      <td>...</td>\n",
       "      <td>...</td>\n",
       "      <td>...</td>\n",
       "      <td>...</td>\n",
       "      <td>...</td>\n",
       "      <td>...</td>\n",
       "      <td>...</td>\n",
       "      <td>...</td>\n",
       "      <td>...</td>\n",
       "      <td>...</td>\n",
       "    </tr>\n",
       "    <tr>\n",
       "      <th>556</th>\n",
       "      <td>2023</td>\n",
       "      <td>2023-08-21</td>\n",
       "      <td>K. Shreya</td>\n",
       "      <td>557</td>\n",
       "      <td>3</td>\n",
       "      <td>Senior Software Engineer</td>\n",
       "      <td>Gemcon</td>\n",
       "      <td>2697410</td>\n",
       "      <td>0.15</td>\n",
       "      <td>7</td>\n",
       "      <td>Above 75th</td>\n",
       "      <td>0.61</td>\n",
       "      <td>0.61</td>\n",
       "    </tr>\n",
       "    <tr>\n",
       "      <th>557</th>\n",
       "      <td>2023</td>\n",
       "      <td>2023-08-21</td>\n",
       "      <td>S. Mani</td>\n",
       "      <td>558</td>\n",
       "      <td>4</td>\n",
       "      <td>Lead Engineer</td>\n",
       "      <td>Tokyo</td>\n",
       "      <td>2467364</td>\n",
       "      <td>0.15</td>\n",
       "      <td>8</td>\n",
       "      <td>Between 25th to 50th</td>\n",
       "      <td>0.61</td>\n",
       "      <td>0.61</td>\n",
       "    </tr>\n",
       "    <tr>\n",
       "      <th>558</th>\n",
       "      <td>2023</td>\n",
       "      <td>2023-08-21</td>\n",
       "      <td>M. Bhavana</td>\n",
       "      <td>559</td>\n",
       "      <td>3</td>\n",
       "      <td>Senior Software Engineer</td>\n",
       "      <td>Tokyo</td>\n",
       "      <td>2397438</td>\n",
       "      <td>0.15</td>\n",
       "      <td>10</td>\n",
       "      <td>Between 25th to 50th</td>\n",
       "      <td>0.61</td>\n",
       "      <td>0.61</td>\n",
       "    </tr>\n",
       "    <tr>\n",
       "      <th>559</th>\n",
       "      <td>2023</td>\n",
       "      <td>2023-08-21</td>\n",
       "      <td>N. Naveen</td>\n",
       "      <td>560</td>\n",
       "      <td>1</td>\n",
       "      <td>Associate</td>\n",
       "      <td>Tokyo</td>\n",
       "      <td>1000000</td>\n",
       "      <td>0.10</td>\n",
       "      <td>9</td>\n",
       "      <td>Below 25th</td>\n",
       "      <td>0.61</td>\n",
       "      <td>0.61</td>\n",
       "    </tr>\n",
       "    <tr>\n",
       "      <th>560</th>\n",
       "      <td>2023</td>\n",
       "      <td>2023-08-21</td>\n",
       "      <td>R. Renuka</td>\n",
       "      <td>561</td>\n",
       "      <td>1</td>\n",
       "      <td>Associate</td>\n",
       "      <td>Tokyo</td>\n",
       "      <td>1000000</td>\n",
       "      <td>0.10</td>\n",
       "      <td>9</td>\n",
       "      <td>Below 25th</td>\n",
       "      <td>0.61</td>\n",
       "      <td>0.61</td>\n",
       "    </tr>\n",
       "  </tbody>\n",
       "</table>\n",
       "<p>561 rows × 13 columns</p>\n",
       "</div>"
      ],
      "text/plain": [
       "     Start_Year Start_Date Employee_Name unique_ID  Level_ID  \\\n",
       "0          2019 2019-01-07       S.Kumar         1         4   \n",
       "1          2019 2019-01-14      A. Swati         2         3   \n",
       "2          2019 2019-01-14   C. Poornima         3         4   \n",
       "3          2019 2019-01-21     D. Manish         4         2   \n",
       "4          2019 2019-01-21      R. Manoj         5         2   \n",
       "..          ...        ...           ...       ...       ...   \n",
       "556        2023 2023-08-21     K. Shreya       557         3   \n",
       "557        2023 2023-08-21       S. Mani       558         4   \n",
       "558        2023 2023-08-21    M. Bhavana       559         3   \n",
       "559        2023 2023-08-21     N. Naveen       560         1   \n",
       "560        2023 2023-08-21     R. Renuka       561         1   \n",
       "\n",
       "                        Grade Project  Current_Base_Pay  Bonus_entitlement  \\\n",
       "0               Lead Engineer  Gemcon           3219629               0.15   \n",
       "1    Senior Software Engineer   Tokyo           2530100               0.15   \n",
       "2               Lead Engineer  Gemcon           3330113               0.15   \n",
       "3           Software Engineer  Gemcon           2767233               0.10   \n",
       "4           Software Engineer  Gemcon           2023602               0.10   \n",
       "..                        ...     ...               ...                ...   \n",
       "556  Senior Software Engineer  Gemcon           2697410               0.15   \n",
       "557             Lead Engineer   Tokyo           2467364               0.15   \n",
       "558  Senior Software Engineer   Tokyo           2397438               0.15   \n",
       "559                 Associate   Tokyo           1000000               0.10   \n",
       "560                 Associate   Tokyo           1000000               0.10   \n",
       "\n",
       "     Rating   percentile_category  Time_In_Company  Prorated  \n",
       "0        10            Above 75th             5.23      1.00  \n",
       "1         7  Between 50th to 75th             5.21      1.00  \n",
       "2        10            Above 75th             5.21      1.00  \n",
       "3        10            Above 75th             5.19      1.00  \n",
       "4         8  Between 25th to 50th             5.19      1.00  \n",
       "..      ...                   ...              ...       ...  \n",
       "556       7            Above 75th             0.61      0.61  \n",
       "557       8  Between 25th to 50th             0.61      0.61  \n",
       "558      10  Between 25th to 50th             0.61      0.61  \n",
       "559       9            Below 25th             0.61      0.61  \n",
       "560       9            Below 25th             0.61      0.61  \n",
       "\n",
       "[561 rows x 13 columns]"
      ]
     },
     "execution_count": 22,
     "metadata": {},
     "output_type": "execute_result"
    }
   ],
   "source": [
    "df"
   ]
  },
  {
   "cell_type": "code",
   "execution_count": 23,
   "id": "c34b2b3b",
   "metadata": {},
   "outputs": [
    {
     "data": {
      "text/plain": [
       "Index(['Start_Year', 'Start_Date', 'Employee_Name', 'unique_ID', 'Level_ID',\n",
       "       'Grade', 'Project', 'Current_Base_Pay', 'Bonus_entitlement', 'Rating',\n",
       "       'percentile_category', 'Time_In_Company', 'Prorated'],\n",
       "      dtype='object')"
      ]
     },
     "execution_count": 23,
     "metadata": {},
     "output_type": "execute_result"
    }
   ],
   "source": [
    "df.columns"
   ]
  },
  {
   "cell_type": "code",
   "execution_count": 24,
   "id": "3ad09b51",
   "metadata": {},
   "outputs": [],
   "source": [
    "# Apply condition to calculate Regular_Bonus\n",
    "df['Regular_Bonus'] = df.apply(lambda row: row['Current_Base_Pay'] * row['Bonus_entitlement'] * row['Prorated'] \n",
    "                                if row['Project'] in ['Venice', 'Tokyo'] and row['Rating'] >= 7 \n",
    "                                else row['Current_Base_Pay'] * row['Bonus_entitlement'] * row['Prorated'] * 0.5, axis=1)\n"
   ]
  },
  {
   "cell_type": "code",
   "execution_count": 25,
   "id": "8358fe6d",
   "metadata": {},
   "outputs": [],
   "source": [
    "df['Regular_Bonus']=df['Regular_Bonus'].round(2)"
   ]
  },
  {
   "cell_type": "code",
   "execution_count": 26,
   "id": "c8537bca",
   "metadata": {},
   "outputs": [
    {
     "data": {
      "text/html": [
       "<div>\n",
       "<style scoped>\n",
       "    .dataframe tbody tr th:only-of-type {\n",
       "        vertical-align: middle;\n",
       "    }\n",
       "\n",
       "    .dataframe tbody tr th {\n",
       "        vertical-align: top;\n",
       "    }\n",
       "\n",
       "    .dataframe thead th {\n",
       "        text-align: right;\n",
       "    }\n",
       "</style>\n",
       "<table border=\"1\" class=\"dataframe\">\n",
       "  <thead>\n",
       "    <tr style=\"text-align: right;\">\n",
       "      <th></th>\n",
       "      <th>Start_Year</th>\n",
       "      <th>Start_Date</th>\n",
       "      <th>Employee_Name</th>\n",
       "      <th>unique_ID</th>\n",
       "      <th>Level_ID</th>\n",
       "      <th>Grade</th>\n",
       "      <th>Project</th>\n",
       "      <th>Current_Base_Pay</th>\n",
       "      <th>Bonus_entitlement</th>\n",
       "      <th>Rating</th>\n",
       "      <th>percentile_category</th>\n",
       "      <th>Time_In_Company</th>\n",
       "      <th>Prorated</th>\n",
       "      <th>Regular_Bonus</th>\n",
       "    </tr>\n",
       "  </thead>\n",
       "  <tbody>\n",
       "    <tr>\n",
       "      <th>0</th>\n",
       "      <td>2019</td>\n",
       "      <td>2019-01-07</td>\n",
       "      <td>S.Kumar</td>\n",
       "      <td>1</td>\n",
       "      <td>4</td>\n",
       "      <td>Lead Engineer</td>\n",
       "      <td>Gemcon</td>\n",
       "      <td>3219629</td>\n",
       "      <td>0.15</td>\n",
       "      <td>10</td>\n",
       "      <td>Above 75th</td>\n",
       "      <td>5.23</td>\n",
       "      <td>1.00</td>\n",
       "      <td>241472.18</td>\n",
       "    </tr>\n",
       "    <tr>\n",
       "      <th>1</th>\n",
       "      <td>2019</td>\n",
       "      <td>2019-01-14</td>\n",
       "      <td>A. Swati</td>\n",
       "      <td>2</td>\n",
       "      <td>3</td>\n",
       "      <td>Senior Software Engineer</td>\n",
       "      <td>Tokyo</td>\n",
       "      <td>2530100</td>\n",
       "      <td>0.15</td>\n",
       "      <td>7</td>\n",
       "      <td>Between 50th to 75th</td>\n",
       "      <td>5.21</td>\n",
       "      <td>1.00</td>\n",
       "      <td>379515.00</td>\n",
       "    </tr>\n",
       "    <tr>\n",
       "      <th>2</th>\n",
       "      <td>2019</td>\n",
       "      <td>2019-01-14</td>\n",
       "      <td>C. Poornima</td>\n",
       "      <td>3</td>\n",
       "      <td>4</td>\n",
       "      <td>Lead Engineer</td>\n",
       "      <td>Gemcon</td>\n",
       "      <td>3330113</td>\n",
       "      <td>0.15</td>\n",
       "      <td>10</td>\n",
       "      <td>Above 75th</td>\n",
       "      <td>5.21</td>\n",
       "      <td>1.00</td>\n",
       "      <td>249758.47</td>\n",
       "    </tr>\n",
       "    <tr>\n",
       "      <th>3</th>\n",
       "      <td>2019</td>\n",
       "      <td>2019-01-21</td>\n",
       "      <td>D. Manish</td>\n",
       "      <td>4</td>\n",
       "      <td>2</td>\n",
       "      <td>Software Engineer</td>\n",
       "      <td>Gemcon</td>\n",
       "      <td>2767233</td>\n",
       "      <td>0.10</td>\n",
       "      <td>10</td>\n",
       "      <td>Above 75th</td>\n",
       "      <td>5.19</td>\n",
       "      <td>1.00</td>\n",
       "      <td>138361.65</td>\n",
       "    </tr>\n",
       "    <tr>\n",
       "      <th>4</th>\n",
       "      <td>2019</td>\n",
       "      <td>2019-01-21</td>\n",
       "      <td>R. Manoj</td>\n",
       "      <td>5</td>\n",
       "      <td>2</td>\n",
       "      <td>Software Engineer</td>\n",
       "      <td>Gemcon</td>\n",
       "      <td>2023602</td>\n",
       "      <td>0.10</td>\n",
       "      <td>8</td>\n",
       "      <td>Between 25th to 50th</td>\n",
       "      <td>5.19</td>\n",
       "      <td>1.00</td>\n",
       "      <td>101180.10</td>\n",
       "    </tr>\n",
       "    <tr>\n",
       "      <th>...</th>\n",
       "      <td>...</td>\n",
       "      <td>...</td>\n",
       "      <td>...</td>\n",
       "      <td>...</td>\n",
       "      <td>...</td>\n",
       "      <td>...</td>\n",
       "      <td>...</td>\n",
       "      <td>...</td>\n",
       "      <td>...</td>\n",
       "      <td>...</td>\n",
       "      <td>...</td>\n",
       "      <td>...</td>\n",
       "      <td>...</td>\n",
       "      <td>...</td>\n",
       "    </tr>\n",
       "    <tr>\n",
       "      <th>556</th>\n",
       "      <td>2023</td>\n",
       "      <td>2023-08-21</td>\n",
       "      <td>K. Shreya</td>\n",
       "      <td>557</td>\n",
       "      <td>3</td>\n",
       "      <td>Senior Software Engineer</td>\n",
       "      <td>Gemcon</td>\n",
       "      <td>2697410</td>\n",
       "      <td>0.15</td>\n",
       "      <td>7</td>\n",
       "      <td>Above 75th</td>\n",
       "      <td>0.61</td>\n",
       "      <td>0.61</td>\n",
       "      <td>123406.51</td>\n",
       "    </tr>\n",
       "    <tr>\n",
       "      <th>557</th>\n",
       "      <td>2023</td>\n",
       "      <td>2023-08-21</td>\n",
       "      <td>S. Mani</td>\n",
       "      <td>558</td>\n",
       "      <td>4</td>\n",
       "      <td>Lead Engineer</td>\n",
       "      <td>Tokyo</td>\n",
       "      <td>2467364</td>\n",
       "      <td>0.15</td>\n",
       "      <td>8</td>\n",
       "      <td>Between 25th to 50th</td>\n",
       "      <td>0.61</td>\n",
       "      <td>0.61</td>\n",
       "      <td>225763.81</td>\n",
       "    </tr>\n",
       "    <tr>\n",
       "      <th>558</th>\n",
       "      <td>2023</td>\n",
       "      <td>2023-08-21</td>\n",
       "      <td>M. Bhavana</td>\n",
       "      <td>559</td>\n",
       "      <td>3</td>\n",
       "      <td>Senior Software Engineer</td>\n",
       "      <td>Tokyo</td>\n",
       "      <td>2397438</td>\n",
       "      <td>0.15</td>\n",
       "      <td>10</td>\n",
       "      <td>Between 25th to 50th</td>\n",
       "      <td>0.61</td>\n",
       "      <td>0.61</td>\n",
       "      <td>219365.58</td>\n",
       "    </tr>\n",
       "    <tr>\n",
       "      <th>559</th>\n",
       "      <td>2023</td>\n",
       "      <td>2023-08-21</td>\n",
       "      <td>N. Naveen</td>\n",
       "      <td>560</td>\n",
       "      <td>1</td>\n",
       "      <td>Associate</td>\n",
       "      <td>Tokyo</td>\n",
       "      <td>1000000</td>\n",
       "      <td>0.10</td>\n",
       "      <td>9</td>\n",
       "      <td>Below 25th</td>\n",
       "      <td>0.61</td>\n",
       "      <td>0.61</td>\n",
       "      <td>61000.00</td>\n",
       "    </tr>\n",
       "    <tr>\n",
       "      <th>560</th>\n",
       "      <td>2023</td>\n",
       "      <td>2023-08-21</td>\n",
       "      <td>R. Renuka</td>\n",
       "      <td>561</td>\n",
       "      <td>1</td>\n",
       "      <td>Associate</td>\n",
       "      <td>Tokyo</td>\n",
       "      <td>1000000</td>\n",
       "      <td>0.10</td>\n",
       "      <td>9</td>\n",
       "      <td>Below 25th</td>\n",
       "      <td>0.61</td>\n",
       "      <td>0.61</td>\n",
       "      <td>61000.00</td>\n",
       "    </tr>\n",
       "  </tbody>\n",
       "</table>\n",
       "<p>561 rows × 14 columns</p>\n",
       "</div>"
      ],
      "text/plain": [
       "     Start_Year Start_Date Employee_Name unique_ID  Level_ID  \\\n",
       "0          2019 2019-01-07       S.Kumar         1         4   \n",
       "1          2019 2019-01-14      A. Swati         2         3   \n",
       "2          2019 2019-01-14   C. Poornima         3         4   \n",
       "3          2019 2019-01-21     D. Manish         4         2   \n",
       "4          2019 2019-01-21      R. Manoj         5         2   \n",
       "..          ...        ...           ...       ...       ...   \n",
       "556        2023 2023-08-21     K. Shreya       557         3   \n",
       "557        2023 2023-08-21       S. Mani       558         4   \n",
       "558        2023 2023-08-21    M. Bhavana       559         3   \n",
       "559        2023 2023-08-21     N. Naveen       560         1   \n",
       "560        2023 2023-08-21     R. Renuka       561         1   \n",
       "\n",
       "                        Grade Project  Current_Base_Pay  Bonus_entitlement  \\\n",
       "0               Lead Engineer  Gemcon           3219629               0.15   \n",
       "1    Senior Software Engineer   Tokyo           2530100               0.15   \n",
       "2               Lead Engineer  Gemcon           3330113               0.15   \n",
       "3           Software Engineer  Gemcon           2767233               0.10   \n",
       "4           Software Engineer  Gemcon           2023602               0.10   \n",
       "..                        ...     ...               ...                ...   \n",
       "556  Senior Software Engineer  Gemcon           2697410               0.15   \n",
       "557             Lead Engineer   Tokyo           2467364               0.15   \n",
       "558  Senior Software Engineer   Tokyo           2397438               0.15   \n",
       "559                 Associate   Tokyo           1000000               0.10   \n",
       "560                 Associate   Tokyo           1000000               0.10   \n",
       "\n",
       "     Rating   percentile_category  Time_In_Company  Prorated  Regular_Bonus  \n",
       "0        10            Above 75th             5.23      1.00      241472.18  \n",
       "1         7  Between 50th to 75th             5.21      1.00      379515.00  \n",
       "2        10            Above 75th             5.21      1.00      249758.47  \n",
       "3        10            Above 75th             5.19      1.00      138361.65  \n",
       "4         8  Between 25th to 50th             5.19      1.00      101180.10  \n",
       "..      ...                   ...              ...       ...            ...  \n",
       "556       7            Above 75th             0.61      0.61      123406.51  \n",
       "557       8  Between 25th to 50th             0.61      0.61      225763.81  \n",
       "558      10  Between 25th to 50th             0.61      0.61      219365.58  \n",
       "559       9            Below 25th             0.61      0.61       61000.00  \n",
       "560       9            Below 25th             0.61      0.61       61000.00  \n",
       "\n",
       "[561 rows x 14 columns]"
      ]
     },
     "execution_count": 26,
     "metadata": {},
     "output_type": "execute_result"
    }
   ],
   "source": [
    "df"
   ]
  },
  {
   "cell_type": "code",
   "execution_count": 27,
   "id": "d177db27",
   "metadata": {},
   "outputs": [
    {
     "data": {
      "text/html": [
       "<div>\n",
       "<style scoped>\n",
       "    .dataframe tbody tr th:only-of-type {\n",
       "        vertical-align: middle;\n",
       "    }\n",
       "\n",
       "    .dataframe tbody tr th {\n",
       "        vertical-align: top;\n",
       "    }\n",
       "\n",
       "    .dataframe thead th {\n",
       "        text-align: right;\n",
       "    }\n",
       "</style>\n",
       "<table border=\"1\" class=\"dataframe\">\n",
       "  <thead>\n",
       "    <tr style=\"text-align: right;\">\n",
       "      <th></th>\n",
       "      <th>Start_Year</th>\n",
       "      <th>Start_Date</th>\n",
       "      <th>Employee_Name</th>\n",
       "      <th>unique_ID</th>\n",
       "      <th>Level_ID</th>\n",
       "      <th>Grade</th>\n",
       "      <th>Project</th>\n",
       "      <th>Current_Base_Pay</th>\n",
       "      <th>Bonus_entitlement</th>\n",
       "      <th>Rating</th>\n",
       "      <th>percentile_category</th>\n",
       "      <th>Time_In_Company</th>\n",
       "      <th>Prorated</th>\n",
       "      <th>Regular_Bonus</th>\n",
       "      <th>Additional_Bonus</th>\n",
       "    </tr>\n",
       "  </thead>\n",
       "  <tbody>\n",
       "    <tr>\n",
       "      <th>0</th>\n",
       "      <td>2019</td>\n",
       "      <td>2019-01-07</td>\n",
       "      <td>S.Kumar</td>\n",
       "      <td>1</td>\n",
       "      <td>4</td>\n",
       "      <td>Lead Engineer</td>\n",
       "      <td>Gemcon</td>\n",
       "      <td>3219629</td>\n",
       "      <td>0.15</td>\n",
       "      <td>10</td>\n",
       "      <td>Above 75th</td>\n",
       "      <td>5.23</td>\n",
       "      <td>1.00</td>\n",
       "      <td>241472.18</td>\n",
       "      <td>0</td>\n",
       "    </tr>\n",
       "    <tr>\n",
       "      <th>1</th>\n",
       "      <td>2019</td>\n",
       "      <td>2019-01-14</td>\n",
       "      <td>A. Swati</td>\n",
       "      <td>2</td>\n",
       "      <td>3</td>\n",
       "      <td>Senior Software Engineer</td>\n",
       "      <td>Tokyo</td>\n",
       "      <td>2530100</td>\n",
       "      <td>0.15</td>\n",
       "      <td>7</td>\n",
       "      <td>Between 50th to 75th</td>\n",
       "      <td>5.21</td>\n",
       "      <td>1.00</td>\n",
       "      <td>379515.00</td>\n",
       "      <td>20000</td>\n",
       "    </tr>\n",
       "    <tr>\n",
       "      <th>2</th>\n",
       "      <td>2019</td>\n",
       "      <td>2019-01-14</td>\n",
       "      <td>C. Poornima</td>\n",
       "      <td>3</td>\n",
       "      <td>4</td>\n",
       "      <td>Lead Engineer</td>\n",
       "      <td>Gemcon</td>\n",
       "      <td>3330113</td>\n",
       "      <td>0.15</td>\n",
       "      <td>10</td>\n",
       "      <td>Above 75th</td>\n",
       "      <td>5.21</td>\n",
       "      <td>1.00</td>\n",
       "      <td>249758.47</td>\n",
       "      <td>0</td>\n",
       "    </tr>\n",
       "    <tr>\n",
       "      <th>3</th>\n",
       "      <td>2019</td>\n",
       "      <td>2019-01-21</td>\n",
       "      <td>D. Manish</td>\n",
       "      <td>4</td>\n",
       "      <td>2</td>\n",
       "      <td>Software Engineer</td>\n",
       "      <td>Gemcon</td>\n",
       "      <td>2767233</td>\n",
       "      <td>0.10</td>\n",
       "      <td>10</td>\n",
       "      <td>Above 75th</td>\n",
       "      <td>5.19</td>\n",
       "      <td>1.00</td>\n",
       "      <td>138361.65</td>\n",
       "      <td>0</td>\n",
       "    </tr>\n",
       "    <tr>\n",
       "      <th>4</th>\n",
       "      <td>2019</td>\n",
       "      <td>2019-01-21</td>\n",
       "      <td>R. Manoj</td>\n",
       "      <td>5</td>\n",
       "      <td>2</td>\n",
       "      <td>Software Engineer</td>\n",
       "      <td>Gemcon</td>\n",
       "      <td>2023602</td>\n",
       "      <td>0.10</td>\n",
       "      <td>8</td>\n",
       "      <td>Between 25th to 50th</td>\n",
       "      <td>5.19</td>\n",
       "      <td>1.00</td>\n",
       "      <td>101180.10</td>\n",
       "      <td>0</td>\n",
       "    </tr>\n",
       "    <tr>\n",
       "      <th>...</th>\n",
       "      <td>...</td>\n",
       "      <td>...</td>\n",
       "      <td>...</td>\n",
       "      <td>...</td>\n",
       "      <td>...</td>\n",
       "      <td>...</td>\n",
       "      <td>...</td>\n",
       "      <td>...</td>\n",
       "      <td>...</td>\n",
       "      <td>...</td>\n",
       "      <td>...</td>\n",
       "      <td>...</td>\n",
       "      <td>...</td>\n",
       "      <td>...</td>\n",
       "      <td>...</td>\n",
       "    </tr>\n",
       "    <tr>\n",
       "      <th>556</th>\n",
       "      <td>2023</td>\n",
       "      <td>2023-08-21</td>\n",
       "      <td>K. Shreya</td>\n",
       "      <td>557</td>\n",
       "      <td>3</td>\n",
       "      <td>Senior Software Engineer</td>\n",
       "      <td>Gemcon</td>\n",
       "      <td>2697410</td>\n",
       "      <td>0.15</td>\n",
       "      <td>7</td>\n",
       "      <td>Above 75th</td>\n",
       "      <td>0.61</td>\n",
       "      <td>0.61</td>\n",
       "      <td>123406.51</td>\n",
       "      <td>0</td>\n",
       "    </tr>\n",
       "    <tr>\n",
       "      <th>557</th>\n",
       "      <td>2023</td>\n",
       "      <td>2023-08-21</td>\n",
       "      <td>S. Mani</td>\n",
       "      <td>558</td>\n",
       "      <td>4</td>\n",
       "      <td>Lead Engineer</td>\n",
       "      <td>Tokyo</td>\n",
       "      <td>2467364</td>\n",
       "      <td>0.15</td>\n",
       "      <td>8</td>\n",
       "      <td>Between 25th to 50th</td>\n",
       "      <td>0.61</td>\n",
       "      <td>0.61</td>\n",
       "      <td>225763.81</td>\n",
       "      <td>0</td>\n",
       "    </tr>\n",
       "    <tr>\n",
       "      <th>558</th>\n",
       "      <td>2023</td>\n",
       "      <td>2023-08-21</td>\n",
       "      <td>M. Bhavana</td>\n",
       "      <td>559</td>\n",
       "      <td>3</td>\n",
       "      <td>Senior Software Engineer</td>\n",
       "      <td>Tokyo</td>\n",
       "      <td>2397438</td>\n",
       "      <td>0.15</td>\n",
       "      <td>10</td>\n",
       "      <td>Between 25th to 50th</td>\n",
       "      <td>0.61</td>\n",
       "      <td>0.61</td>\n",
       "      <td>219365.58</td>\n",
       "      <td>0</td>\n",
       "    </tr>\n",
       "    <tr>\n",
       "      <th>559</th>\n",
       "      <td>2023</td>\n",
       "      <td>2023-08-21</td>\n",
       "      <td>N. Naveen</td>\n",
       "      <td>560</td>\n",
       "      <td>1</td>\n",
       "      <td>Associate</td>\n",
       "      <td>Tokyo</td>\n",
       "      <td>1000000</td>\n",
       "      <td>0.10</td>\n",
       "      <td>9</td>\n",
       "      <td>Below 25th</td>\n",
       "      <td>0.61</td>\n",
       "      <td>0.61</td>\n",
       "      <td>61000.00</td>\n",
       "      <td>0</td>\n",
       "    </tr>\n",
       "    <tr>\n",
       "      <th>560</th>\n",
       "      <td>2023</td>\n",
       "      <td>2023-08-21</td>\n",
       "      <td>R. Renuka</td>\n",
       "      <td>561</td>\n",
       "      <td>1</td>\n",
       "      <td>Associate</td>\n",
       "      <td>Tokyo</td>\n",
       "      <td>1000000</td>\n",
       "      <td>0.10</td>\n",
       "      <td>9</td>\n",
       "      <td>Below 25th</td>\n",
       "      <td>0.61</td>\n",
       "      <td>0.61</td>\n",
       "      <td>61000.00</td>\n",
       "      <td>0</td>\n",
       "    </tr>\n",
       "  </tbody>\n",
       "</table>\n",
       "<p>561 rows × 15 columns</p>\n",
       "</div>"
      ],
      "text/plain": [
       "     Start_Year Start_Date Employee_Name unique_ID  Level_ID  \\\n",
       "0          2019 2019-01-07       S.Kumar         1         4   \n",
       "1          2019 2019-01-14      A. Swati         2         3   \n",
       "2          2019 2019-01-14   C. Poornima         3         4   \n",
       "3          2019 2019-01-21     D. Manish         4         2   \n",
       "4          2019 2019-01-21      R. Manoj         5         2   \n",
       "..          ...        ...           ...       ...       ...   \n",
       "556        2023 2023-08-21     K. Shreya       557         3   \n",
       "557        2023 2023-08-21       S. Mani       558         4   \n",
       "558        2023 2023-08-21    M. Bhavana       559         3   \n",
       "559        2023 2023-08-21     N. Naveen       560         1   \n",
       "560        2023 2023-08-21     R. Renuka       561         1   \n",
       "\n",
       "                        Grade Project  Current_Base_Pay  Bonus_entitlement  \\\n",
       "0               Lead Engineer  Gemcon           3219629               0.15   \n",
       "1    Senior Software Engineer   Tokyo           2530100               0.15   \n",
       "2               Lead Engineer  Gemcon           3330113               0.15   \n",
       "3           Software Engineer  Gemcon           2767233               0.10   \n",
       "4           Software Engineer  Gemcon           2023602               0.10   \n",
       "..                        ...     ...               ...                ...   \n",
       "556  Senior Software Engineer  Gemcon           2697410               0.15   \n",
       "557             Lead Engineer   Tokyo           2467364               0.15   \n",
       "558  Senior Software Engineer   Tokyo           2397438               0.15   \n",
       "559                 Associate   Tokyo           1000000               0.10   \n",
       "560                 Associate   Tokyo           1000000               0.10   \n",
       "\n",
       "     Rating   percentile_category  Time_In_Company  Prorated  Regular_Bonus  \\\n",
       "0        10            Above 75th             5.23      1.00      241472.18   \n",
       "1         7  Between 50th to 75th             5.21      1.00      379515.00   \n",
       "2        10            Above 75th             5.21      1.00      249758.47   \n",
       "3        10            Above 75th             5.19      1.00      138361.65   \n",
       "4         8  Between 25th to 50th             5.19      1.00      101180.10   \n",
       "..      ...                   ...              ...       ...            ...   \n",
       "556       7            Above 75th             0.61      0.61      123406.51   \n",
       "557       8  Between 25th to 50th             0.61      0.61      225763.81   \n",
       "558      10  Between 25th to 50th             0.61      0.61      219365.58   \n",
       "559       9            Below 25th             0.61      0.61       61000.00   \n",
       "560       9            Below 25th             0.61      0.61       61000.00   \n",
       "\n",
       "     Additional_Bonus  \n",
       "0                   0  \n",
       "1               20000  \n",
       "2                   0  \n",
       "3                   0  \n",
       "4                   0  \n",
       "..                ...  \n",
       "556                 0  \n",
       "557                 0  \n",
       "558                 0  \n",
       "559                 0  \n",
       "560                 0  \n",
       "\n",
       "[561 rows x 15 columns]"
      ]
     },
     "execution_count": 27,
     "metadata": {},
     "output_type": "execute_result"
    }
   ],
   "source": [
    "\n",
    "\n",
    "# Function to calculate Additional_Bonus\n",
    "def calculate_additional_bonus(row):\n",
    "    if row['Project'] == 'Venice':\n",
    "        if row['Rating'] >= 7:\n",
    "            if row['Time_In_Company'] >= 3:\n",
    "                return 50000\n",
    "            elif row['Time_In_Company'] >= 2:\n",
    "                return 25000\n",
    "    elif row['Project'] == 'Tokyo':\n",
    "        if row['Rating'] >= 7:\n",
    "            if row['Time_In_Company'] >= 3:\n",
    "                return 20000\n",
    "            elif row['Time_In_Company'] >= 2:\n",
    "                return 10000\n",
    "    return 0\n",
    "\n",
    "# Apply function to calculate Additional_Bonus\n",
    "df['Additional_Bonus'] = df.apply(calculate_additional_bonus, axis=1)\n",
    "\n",
    "df\n",
    "\n"
   ]
  },
  {
   "cell_type": "code",
   "execution_count": 28,
   "id": "f523d0b9",
   "metadata": {},
   "outputs": [],
   "source": [
    "df['Total_Bonus'] = df['Regular_Bonus'] + df['Additional_Bonus']"
   ]
  },
  {
   "cell_type": "code",
   "execution_count": 29,
   "id": "328c839a",
   "metadata": {},
   "outputs": [
    {
     "data": {
      "text/html": [
       "<div>\n",
       "<style scoped>\n",
       "    .dataframe tbody tr th:only-of-type {\n",
       "        vertical-align: middle;\n",
       "    }\n",
       "\n",
       "    .dataframe tbody tr th {\n",
       "        vertical-align: top;\n",
       "    }\n",
       "\n",
       "    .dataframe thead th {\n",
       "        text-align: right;\n",
       "    }\n",
       "</style>\n",
       "<table border=\"1\" class=\"dataframe\">\n",
       "  <thead>\n",
       "    <tr style=\"text-align: right;\">\n",
       "      <th></th>\n",
       "      <th>Start_Year</th>\n",
       "      <th>Start_Date</th>\n",
       "      <th>Employee_Name</th>\n",
       "      <th>unique_ID</th>\n",
       "      <th>Level_ID</th>\n",
       "      <th>Grade</th>\n",
       "      <th>Project</th>\n",
       "      <th>Current_Base_Pay</th>\n",
       "      <th>Bonus_entitlement</th>\n",
       "      <th>Rating</th>\n",
       "      <th>percentile_category</th>\n",
       "      <th>Time_In_Company</th>\n",
       "      <th>Prorated</th>\n",
       "      <th>Regular_Bonus</th>\n",
       "      <th>Additional_Bonus</th>\n",
       "      <th>Total_Bonus</th>\n",
       "    </tr>\n",
       "  </thead>\n",
       "  <tbody>\n",
       "    <tr>\n",
       "      <th>0</th>\n",
       "      <td>2019</td>\n",
       "      <td>2019-01-07</td>\n",
       "      <td>S.Kumar</td>\n",
       "      <td>1</td>\n",
       "      <td>4</td>\n",
       "      <td>Lead Engineer</td>\n",
       "      <td>Gemcon</td>\n",
       "      <td>3219629</td>\n",
       "      <td>0.15</td>\n",
       "      <td>10</td>\n",
       "      <td>Above 75th</td>\n",
       "      <td>5.23</td>\n",
       "      <td>1.0</td>\n",
       "      <td>241472.18</td>\n",
       "      <td>0</td>\n",
       "      <td>241472.18</td>\n",
       "    </tr>\n",
       "    <tr>\n",
       "      <th>1</th>\n",
       "      <td>2019</td>\n",
       "      <td>2019-01-14</td>\n",
       "      <td>A. Swati</td>\n",
       "      <td>2</td>\n",
       "      <td>3</td>\n",
       "      <td>Senior Software Engineer</td>\n",
       "      <td>Tokyo</td>\n",
       "      <td>2530100</td>\n",
       "      <td>0.15</td>\n",
       "      <td>7</td>\n",
       "      <td>Between 50th to 75th</td>\n",
       "      <td>5.21</td>\n",
       "      <td>1.0</td>\n",
       "      <td>379515.00</td>\n",
       "      <td>20000</td>\n",
       "      <td>399515.00</td>\n",
       "    </tr>\n",
       "    <tr>\n",
       "      <th>2</th>\n",
       "      <td>2019</td>\n",
       "      <td>2019-01-14</td>\n",
       "      <td>C. Poornima</td>\n",
       "      <td>3</td>\n",
       "      <td>4</td>\n",
       "      <td>Lead Engineer</td>\n",
       "      <td>Gemcon</td>\n",
       "      <td>3330113</td>\n",
       "      <td>0.15</td>\n",
       "      <td>10</td>\n",
       "      <td>Above 75th</td>\n",
       "      <td>5.21</td>\n",
       "      <td>1.0</td>\n",
       "      <td>249758.47</td>\n",
       "      <td>0</td>\n",
       "      <td>249758.47</td>\n",
       "    </tr>\n",
       "    <tr>\n",
       "      <th>3</th>\n",
       "      <td>2019</td>\n",
       "      <td>2019-01-21</td>\n",
       "      <td>D. Manish</td>\n",
       "      <td>4</td>\n",
       "      <td>2</td>\n",
       "      <td>Software Engineer</td>\n",
       "      <td>Gemcon</td>\n",
       "      <td>2767233</td>\n",
       "      <td>0.10</td>\n",
       "      <td>10</td>\n",
       "      <td>Above 75th</td>\n",
       "      <td>5.19</td>\n",
       "      <td>1.0</td>\n",
       "      <td>138361.65</td>\n",
       "      <td>0</td>\n",
       "      <td>138361.65</td>\n",
       "    </tr>\n",
       "    <tr>\n",
       "      <th>4</th>\n",
       "      <td>2019</td>\n",
       "      <td>2019-01-21</td>\n",
       "      <td>R. Manoj</td>\n",
       "      <td>5</td>\n",
       "      <td>2</td>\n",
       "      <td>Software Engineer</td>\n",
       "      <td>Gemcon</td>\n",
       "      <td>2023602</td>\n",
       "      <td>0.10</td>\n",
       "      <td>8</td>\n",
       "      <td>Between 25th to 50th</td>\n",
       "      <td>5.19</td>\n",
       "      <td>1.0</td>\n",
       "      <td>101180.10</td>\n",
       "      <td>0</td>\n",
       "      <td>101180.10</td>\n",
       "    </tr>\n",
       "  </tbody>\n",
       "</table>\n",
       "</div>"
      ],
      "text/plain": [
       "   Start_Year Start_Date Employee_Name unique_ID  Level_ID  \\\n",
       "0        2019 2019-01-07       S.Kumar         1         4   \n",
       "1        2019 2019-01-14      A. Swati         2         3   \n",
       "2        2019 2019-01-14   C. Poornima         3         4   \n",
       "3        2019 2019-01-21     D. Manish         4         2   \n",
       "4        2019 2019-01-21      R. Manoj         5         2   \n",
       "\n",
       "                      Grade Project  Current_Base_Pay  Bonus_entitlement  \\\n",
       "0             Lead Engineer  Gemcon           3219629               0.15   \n",
       "1  Senior Software Engineer   Tokyo           2530100               0.15   \n",
       "2             Lead Engineer  Gemcon           3330113               0.15   \n",
       "3         Software Engineer  Gemcon           2767233               0.10   \n",
       "4         Software Engineer  Gemcon           2023602               0.10   \n",
       "\n",
       "   Rating   percentile_category  Time_In_Company  Prorated  Regular_Bonus  \\\n",
       "0      10            Above 75th             5.23       1.0      241472.18   \n",
       "1       7  Between 50th to 75th             5.21       1.0      379515.00   \n",
       "2      10            Above 75th             5.21       1.0      249758.47   \n",
       "3      10            Above 75th             5.19       1.0      138361.65   \n",
       "4       8  Between 25th to 50th             5.19       1.0      101180.10   \n",
       "\n",
       "   Additional_Bonus  Total_Bonus  \n",
       "0                 0    241472.18  \n",
       "1             20000    399515.00  \n",
       "2                 0    249758.47  \n",
       "3                 0    138361.65  \n",
       "4                 0    101180.10  "
      ]
     },
     "execution_count": 29,
     "metadata": {},
     "output_type": "execute_result"
    }
   ],
   "source": [
    "df.head(5)"
   ]
  },
  {
   "cell_type": "markdown",
   "id": "5cf74df8",
   "metadata": {},
   "source": [
    "Percent Hike"
   ]
  },
  {
   "cell_type": "code",
   "execution_count": 30,
   "id": "7bdf4364",
   "metadata": {},
   "outputs": [
    {
     "data": {
      "text/html": [
       "<div>\n",
       "<style scoped>\n",
       "    .dataframe tbody tr th:only-of-type {\n",
       "        vertical-align: middle;\n",
       "    }\n",
       "\n",
       "    .dataframe tbody tr th {\n",
       "        vertical-align: top;\n",
       "    }\n",
       "\n",
       "    .dataframe thead th {\n",
       "        text-align: right;\n",
       "    }\n",
       "</style>\n",
       "<table border=\"1\" class=\"dataframe\">\n",
       "  <thead>\n",
       "    <tr style=\"text-align: right;\">\n",
       "      <th></th>\n",
       "      <th>Start_Year</th>\n",
       "      <th>Start_Date</th>\n",
       "      <th>Employee_Name</th>\n",
       "      <th>unique_ID</th>\n",
       "      <th>Level_ID</th>\n",
       "      <th>Grade</th>\n",
       "      <th>Project</th>\n",
       "      <th>Current_Base_Pay</th>\n",
       "      <th>Bonus_entitlement</th>\n",
       "      <th>Rating</th>\n",
       "      <th>percentile_category</th>\n",
       "      <th>Time_In_Company</th>\n",
       "      <th>Prorated</th>\n",
       "      <th>Regular_Bonus</th>\n",
       "      <th>Additional_Bonus</th>\n",
       "      <th>Total_Bonus</th>\n",
       "      <th>Hike Percent</th>\n",
       "    </tr>\n",
       "  </thead>\n",
       "  <tbody>\n",
       "    <tr>\n",
       "      <th>0</th>\n",
       "      <td>2019</td>\n",
       "      <td>2019-01-07</td>\n",
       "      <td>S.Kumar</td>\n",
       "      <td>1</td>\n",
       "      <td>4</td>\n",
       "      <td>Lead Engineer</td>\n",
       "      <td>Gemcon</td>\n",
       "      <td>3219629</td>\n",
       "      <td>0.15</td>\n",
       "      <td>10</td>\n",
       "      <td>Above 75th</td>\n",
       "      <td>5.23</td>\n",
       "      <td>1.00</td>\n",
       "      <td>241472.18</td>\n",
       "      <td>0</td>\n",
       "      <td>241472.18</td>\n",
       "      <td>0.05</td>\n",
       "    </tr>\n",
       "    <tr>\n",
       "      <th>1</th>\n",
       "      <td>2019</td>\n",
       "      <td>2019-01-14</td>\n",
       "      <td>A. Swati</td>\n",
       "      <td>2</td>\n",
       "      <td>3</td>\n",
       "      <td>Senior Software Engineer</td>\n",
       "      <td>Tokyo</td>\n",
       "      <td>2530100</td>\n",
       "      <td>0.15</td>\n",
       "      <td>7</td>\n",
       "      <td>Between 50th to 75th</td>\n",
       "      <td>5.21</td>\n",
       "      <td>1.00</td>\n",
       "      <td>379515.00</td>\n",
       "      <td>20000</td>\n",
       "      <td>399515.00</td>\n",
       "      <td>0.10</td>\n",
       "    </tr>\n",
       "    <tr>\n",
       "      <th>2</th>\n",
       "      <td>2019</td>\n",
       "      <td>2019-01-14</td>\n",
       "      <td>C. Poornima</td>\n",
       "      <td>3</td>\n",
       "      <td>4</td>\n",
       "      <td>Lead Engineer</td>\n",
       "      <td>Gemcon</td>\n",
       "      <td>3330113</td>\n",
       "      <td>0.15</td>\n",
       "      <td>10</td>\n",
       "      <td>Above 75th</td>\n",
       "      <td>5.21</td>\n",
       "      <td>1.00</td>\n",
       "      <td>249758.47</td>\n",
       "      <td>0</td>\n",
       "      <td>249758.47</td>\n",
       "      <td>0.05</td>\n",
       "    </tr>\n",
       "    <tr>\n",
       "      <th>3</th>\n",
       "      <td>2019</td>\n",
       "      <td>2019-01-21</td>\n",
       "      <td>D. Manish</td>\n",
       "      <td>4</td>\n",
       "      <td>2</td>\n",
       "      <td>Software Engineer</td>\n",
       "      <td>Gemcon</td>\n",
       "      <td>2767233</td>\n",
       "      <td>0.10</td>\n",
       "      <td>10</td>\n",
       "      <td>Above 75th</td>\n",
       "      <td>5.19</td>\n",
       "      <td>1.00</td>\n",
       "      <td>138361.65</td>\n",
       "      <td>0</td>\n",
       "      <td>138361.65</td>\n",
       "      <td>0.05</td>\n",
       "    </tr>\n",
       "    <tr>\n",
       "      <th>4</th>\n",
       "      <td>2019</td>\n",
       "      <td>2019-01-21</td>\n",
       "      <td>R. Manoj</td>\n",
       "      <td>5</td>\n",
       "      <td>2</td>\n",
       "      <td>Software Engineer</td>\n",
       "      <td>Gemcon</td>\n",
       "      <td>2023602</td>\n",
       "      <td>0.10</td>\n",
       "      <td>8</td>\n",
       "      <td>Between 25th to 50th</td>\n",
       "      <td>5.19</td>\n",
       "      <td>1.00</td>\n",
       "      <td>101180.10</td>\n",
       "      <td>0</td>\n",
       "      <td>101180.10</td>\n",
       "      <td>0.05</td>\n",
       "    </tr>\n",
       "    <tr>\n",
       "      <th>...</th>\n",
       "      <td>...</td>\n",
       "      <td>...</td>\n",
       "      <td>...</td>\n",
       "      <td>...</td>\n",
       "      <td>...</td>\n",
       "      <td>...</td>\n",
       "      <td>...</td>\n",
       "      <td>...</td>\n",
       "      <td>...</td>\n",
       "      <td>...</td>\n",
       "      <td>...</td>\n",
       "      <td>...</td>\n",
       "      <td>...</td>\n",
       "      <td>...</td>\n",
       "      <td>...</td>\n",
       "      <td>...</td>\n",
       "      <td>...</td>\n",
       "    </tr>\n",
       "    <tr>\n",
       "      <th>556</th>\n",
       "      <td>2023</td>\n",
       "      <td>2023-08-21</td>\n",
       "      <td>K. Shreya</td>\n",
       "      <td>557</td>\n",
       "      <td>3</td>\n",
       "      <td>Senior Software Engineer</td>\n",
       "      <td>Gemcon</td>\n",
       "      <td>2697410</td>\n",
       "      <td>0.15</td>\n",
       "      <td>7</td>\n",
       "      <td>Above 75th</td>\n",
       "      <td>0.61</td>\n",
       "      <td>0.61</td>\n",
       "      <td>123406.51</td>\n",
       "      <td>0</td>\n",
       "      <td>123406.51</td>\n",
       "      <td>0.05</td>\n",
       "    </tr>\n",
       "    <tr>\n",
       "      <th>557</th>\n",
       "      <td>2023</td>\n",
       "      <td>2023-08-21</td>\n",
       "      <td>S. Mani</td>\n",
       "      <td>558</td>\n",
       "      <td>4</td>\n",
       "      <td>Lead Engineer</td>\n",
       "      <td>Tokyo</td>\n",
       "      <td>2467364</td>\n",
       "      <td>0.15</td>\n",
       "      <td>8</td>\n",
       "      <td>Between 25th to 50th</td>\n",
       "      <td>0.61</td>\n",
       "      <td>0.61</td>\n",
       "      <td>225763.81</td>\n",
       "      <td>0</td>\n",
       "      <td>225763.81</td>\n",
       "      <td>0.12</td>\n",
       "    </tr>\n",
       "    <tr>\n",
       "      <th>558</th>\n",
       "      <td>2023</td>\n",
       "      <td>2023-08-21</td>\n",
       "      <td>M. Bhavana</td>\n",
       "      <td>559</td>\n",
       "      <td>3</td>\n",
       "      <td>Senior Software Engineer</td>\n",
       "      <td>Tokyo</td>\n",
       "      <td>2397438</td>\n",
       "      <td>0.15</td>\n",
       "      <td>10</td>\n",
       "      <td>Between 25th to 50th</td>\n",
       "      <td>0.61</td>\n",
       "      <td>0.61</td>\n",
       "      <td>219365.58</td>\n",
       "      <td>0</td>\n",
       "      <td>219365.58</td>\n",
       "      <td>0.12</td>\n",
       "    </tr>\n",
       "    <tr>\n",
       "      <th>559</th>\n",
       "      <td>2023</td>\n",
       "      <td>2023-08-21</td>\n",
       "      <td>N. Naveen</td>\n",
       "      <td>560</td>\n",
       "      <td>1</td>\n",
       "      <td>Associate</td>\n",
       "      <td>Tokyo</td>\n",
       "      <td>1000000</td>\n",
       "      <td>0.10</td>\n",
       "      <td>9</td>\n",
       "      <td>Below 25th</td>\n",
       "      <td>0.61</td>\n",
       "      <td>0.61</td>\n",
       "      <td>61000.00</td>\n",
       "      <td>0</td>\n",
       "      <td>61000.00</td>\n",
       "      <td>0.12</td>\n",
       "    </tr>\n",
       "    <tr>\n",
       "      <th>560</th>\n",
       "      <td>2023</td>\n",
       "      <td>2023-08-21</td>\n",
       "      <td>R. Renuka</td>\n",
       "      <td>561</td>\n",
       "      <td>1</td>\n",
       "      <td>Associate</td>\n",
       "      <td>Tokyo</td>\n",
       "      <td>1000000</td>\n",
       "      <td>0.10</td>\n",
       "      <td>9</td>\n",
       "      <td>Below 25th</td>\n",
       "      <td>0.61</td>\n",
       "      <td>0.61</td>\n",
       "      <td>61000.00</td>\n",
       "      <td>0</td>\n",
       "      <td>61000.00</td>\n",
       "      <td>0.12</td>\n",
       "    </tr>\n",
       "  </tbody>\n",
       "</table>\n",
       "<p>561 rows × 17 columns</p>\n",
       "</div>"
      ],
      "text/plain": [
       "     Start_Year Start_Date Employee_Name unique_ID  Level_ID  \\\n",
       "0          2019 2019-01-07       S.Kumar         1         4   \n",
       "1          2019 2019-01-14      A. Swati         2         3   \n",
       "2          2019 2019-01-14   C. Poornima         3         4   \n",
       "3          2019 2019-01-21     D. Manish         4         2   \n",
       "4          2019 2019-01-21      R. Manoj         5         2   \n",
       "..          ...        ...           ...       ...       ...   \n",
       "556        2023 2023-08-21     K. Shreya       557         3   \n",
       "557        2023 2023-08-21       S. Mani       558         4   \n",
       "558        2023 2023-08-21    M. Bhavana       559         3   \n",
       "559        2023 2023-08-21     N. Naveen       560         1   \n",
       "560        2023 2023-08-21     R. Renuka       561         1   \n",
       "\n",
       "                        Grade Project  Current_Base_Pay  Bonus_entitlement  \\\n",
       "0               Lead Engineer  Gemcon           3219629               0.15   \n",
       "1    Senior Software Engineer   Tokyo           2530100               0.15   \n",
       "2               Lead Engineer  Gemcon           3330113               0.15   \n",
       "3           Software Engineer  Gemcon           2767233               0.10   \n",
       "4           Software Engineer  Gemcon           2023602               0.10   \n",
       "..                        ...     ...               ...                ...   \n",
       "556  Senior Software Engineer  Gemcon           2697410               0.15   \n",
       "557             Lead Engineer   Tokyo           2467364               0.15   \n",
       "558  Senior Software Engineer   Tokyo           2397438               0.15   \n",
       "559                 Associate   Tokyo           1000000               0.10   \n",
       "560                 Associate   Tokyo           1000000               0.10   \n",
       "\n",
       "     Rating   percentile_category  Time_In_Company  Prorated  Regular_Bonus  \\\n",
       "0        10            Above 75th             5.23      1.00      241472.18   \n",
       "1         7  Between 50th to 75th             5.21      1.00      379515.00   \n",
       "2        10            Above 75th             5.21      1.00      249758.47   \n",
       "3        10            Above 75th             5.19      1.00      138361.65   \n",
       "4         8  Between 25th to 50th             5.19      1.00      101180.10   \n",
       "..      ...                   ...              ...       ...            ...   \n",
       "556       7            Above 75th             0.61      0.61      123406.51   \n",
       "557       8  Between 25th to 50th             0.61      0.61      225763.81   \n",
       "558      10  Between 25th to 50th             0.61      0.61      219365.58   \n",
       "559       9            Below 25th             0.61      0.61       61000.00   \n",
       "560       9            Below 25th             0.61      0.61       61000.00   \n",
       "\n",
       "     Additional_Bonus  Total_Bonus  Hike Percent  \n",
       "0                   0    241472.18          0.05  \n",
       "1               20000    399515.00          0.10  \n",
       "2                   0    249758.47          0.05  \n",
       "3                   0    138361.65          0.05  \n",
       "4                   0    101180.10          0.05  \n",
       "..                ...          ...           ...  \n",
       "556                 0    123406.51          0.05  \n",
       "557                 0    225763.81          0.12  \n",
       "558                 0    219365.58          0.12  \n",
       "559                 0     61000.00          0.12  \n",
       "560                 0     61000.00          0.12  \n",
       "\n",
       "[561 rows x 17 columns]"
      ]
     },
     "execution_count": 30,
     "metadata": {},
     "output_type": "execute_result"
    }
   ],
   "source": [
    "\n",
    "# Function to calculate Hike Percent\n",
    "def calculate_hike_percent(row):\n",
    "    if row['Project'] == 'Venice':\n",
    "        if row['Rating'] >= 7:\n",
    "            if row['percentile_category'] == 'Below 25th' or row['percentile_category'] == 'Between 25th to 50th':\n",
    "                return 0.18\n",
    "            elif row['percentile_category'] == 'Between 50th to 75th' or row['percentile_category'] == 'Above 75th':\n",
    "                return 0.12\n",
    "    elif row['Project'] == 'Tokyo':\n",
    "        if row['Rating'] >= 7:\n",
    "            if row['percentile_category'] == 'Below 25th' or row['percentile_category'] == 'Between 25th to 50th':\n",
    "                return 0.12\n",
    "            elif row['percentile_category'] == 'Between 50th to 75th' or row['percentile_category'] == 'Above 75th':\n",
    "                return 0.10\n",
    "    return 0.05\n",
    "\n",
    "# Apply function to calculate Hike Percent\n",
    "df['Hike Percent'] = df.apply(calculate_hike_percent, axis=1)\n",
    "\n",
    "df\n"
   ]
  },
  {
   "cell_type": "code",
   "execution_count": 31,
   "id": "920175d5",
   "metadata": {},
   "outputs": [],
   "source": [
    "df['New_Base_Pay'] =  df['Current_Base_Pay'] + (df['Current_Base_Pay']*df['Prorated']* df['Hike Percent'])"
   ]
  },
  {
   "cell_type": "code",
   "execution_count": 32,
   "id": "0c4c7e6b",
   "metadata": {},
   "outputs": [],
   "source": [
    "df['New_Base_Pay']=df['New_Base_Pay'].round(0)"
   ]
  },
  {
   "cell_type": "code",
   "execution_count": 33,
   "id": "87d7212c",
   "metadata": {},
   "outputs": [
    {
     "data": {
      "text/html": [
       "<div>\n",
       "<style scoped>\n",
       "    .dataframe tbody tr th:only-of-type {\n",
       "        vertical-align: middle;\n",
       "    }\n",
       "\n",
       "    .dataframe tbody tr th {\n",
       "        vertical-align: top;\n",
       "    }\n",
       "\n",
       "    .dataframe thead th {\n",
       "        text-align: right;\n",
       "    }\n",
       "</style>\n",
       "<table border=\"1\" class=\"dataframe\">\n",
       "  <thead>\n",
       "    <tr style=\"text-align: right;\">\n",
       "      <th></th>\n",
       "      <th>Start_Year</th>\n",
       "      <th>Start_Date</th>\n",
       "      <th>Employee_Name</th>\n",
       "      <th>unique_ID</th>\n",
       "      <th>Level_ID</th>\n",
       "      <th>Grade</th>\n",
       "      <th>Project</th>\n",
       "      <th>Current_Base_Pay</th>\n",
       "      <th>Bonus_entitlement</th>\n",
       "      <th>Rating</th>\n",
       "      <th>percentile_category</th>\n",
       "      <th>Time_In_Company</th>\n",
       "      <th>Prorated</th>\n",
       "      <th>Regular_Bonus</th>\n",
       "      <th>Additional_Bonus</th>\n",
       "      <th>Total_Bonus</th>\n",
       "      <th>Hike Percent</th>\n",
       "      <th>New_Base_Pay</th>\n",
       "    </tr>\n",
       "  </thead>\n",
       "  <tbody>\n",
       "    <tr>\n",
       "      <th>0</th>\n",
       "      <td>2019</td>\n",
       "      <td>2019-01-07</td>\n",
       "      <td>S.Kumar</td>\n",
       "      <td>1</td>\n",
       "      <td>4</td>\n",
       "      <td>Lead Engineer</td>\n",
       "      <td>Gemcon</td>\n",
       "      <td>3219629</td>\n",
       "      <td>0.15</td>\n",
       "      <td>10</td>\n",
       "      <td>Above 75th</td>\n",
       "      <td>5.23</td>\n",
       "      <td>1.00</td>\n",
       "      <td>241472.18</td>\n",
       "      <td>0</td>\n",
       "      <td>241472.18</td>\n",
       "      <td>0.05</td>\n",
       "      <td>3380610.0</td>\n",
       "    </tr>\n",
       "    <tr>\n",
       "      <th>1</th>\n",
       "      <td>2019</td>\n",
       "      <td>2019-01-14</td>\n",
       "      <td>A. Swati</td>\n",
       "      <td>2</td>\n",
       "      <td>3</td>\n",
       "      <td>Senior Software Engineer</td>\n",
       "      <td>Tokyo</td>\n",
       "      <td>2530100</td>\n",
       "      <td>0.15</td>\n",
       "      <td>7</td>\n",
       "      <td>Between 50th to 75th</td>\n",
       "      <td>5.21</td>\n",
       "      <td>1.00</td>\n",
       "      <td>379515.00</td>\n",
       "      <td>20000</td>\n",
       "      <td>399515.00</td>\n",
       "      <td>0.10</td>\n",
       "      <td>2783110.0</td>\n",
       "    </tr>\n",
       "    <tr>\n",
       "      <th>2</th>\n",
       "      <td>2019</td>\n",
       "      <td>2019-01-14</td>\n",
       "      <td>C. Poornima</td>\n",
       "      <td>3</td>\n",
       "      <td>4</td>\n",
       "      <td>Lead Engineer</td>\n",
       "      <td>Gemcon</td>\n",
       "      <td>3330113</td>\n",
       "      <td>0.15</td>\n",
       "      <td>10</td>\n",
       "      <td>Above 75th</td>\n",
       "      <td>5.21</td>\n",
       "      <td>1.00</td>\n",
       "      <td>249758.47</td>\n",
       "      <td>0</td>\n",
       "      <td>249758.47</td>\n",
       "      <td>0.05</td>\n",
       "      <td>3496619.0</td>\n",
       "    </tr>\n",
       "    <tr>\n",
       "      <th>3</th>\n",
       "      <td>2019</td>\n",
       "      <td>2019-01-21</td>\n",
       "      <td>D. Manish</td>\n",
       "      <td>4</td>\n",
       "      <td>2</td>\n",
       "      <td>Software Engineer</td>\n",
       "      <td>Gemcon</td>\n",
       "      <td>2767233</td>\n",
       "      <td>0.10</td>\n",
       "      <td>10</td>\n",
       "      <td>Above 75th</td>\n",
       "      <td>5.19</td>\n",
       "      <td>1.00</td>\n",
       "      <td>138361.65</td>\n",
       "      <td>0</td>\n",
       "      <td>138361.65</td>\n",
       "      <td>0.05</td>\n",
       "      <td>2905595.0</td>\n",
       "    </tr>\n",
       "    <tr>\n",
       "      <th>4</th>\n",
       "      <td>2019</td>\n",
       "      <td>2019-01-21</td>\n",
       "      <td>R. Manoj</td>\n",
       "      <td>5</td>\n",
       "      <td>2</td>\n",
       "      <td>Software Engineer</td>\n",
       "      <td>Gemcon</td>\n",
       "      <td>2023602</td>\n",
       "      <td>0.10</td>\n",
       "      <td>8</td>\n",
       "      <td>Between 25th to 50th</td>\n",
       "      <td>5.19</td>\n",
       "      <td>1.00</td>\n",
       "      <td>101180.10</td>\n",
       "      <td>0</td>\n",
       "      <td>101180.10</td>\n",
       "      <td>0.05</td>\n",
       "      <td>2124782.0</td>\n",
       "    </tr>\n",
       "    <tr>\n",
       "      <th>...</th>\n",
       "      <td>...</td>\n",
       "      <td>...</td>\n",
       "      <td>...</td>\n",
       "      <td>...</td>\n",
       "      <td>...</td>\n",
       "      <td>...</td>\n",
       "      <td>...</td>\n",
       "      <td>...</td>\n",
       "      <td>...</td>\n",
       "      <td>...</td>\n",
       "      <td>...</td>\n",
       "      <td>...</td>\n",
       "      <td>...</td>\n",
       "      <td>...</td>\n",
       "      <td>...</td>\n",
       "      <td>...</td>\n",
       "      <td>...</td>\n",
       "      <td>...</td>\n",
       "    </tr>\n",
       "    <tr>\n",
       "      <th>556</th>\n",
       "      <td>2023</td>\n",
       "      <td>2023-08-21</td>\n",
       "      <td>K. Shreya</td>\n",
       "      <td>557</td>\n",
       "      <td>3</td>\n",
       "      <td>Senior Software Engineer</td>\n",
       "      <td>Gemcon</td>\n",
       "      <td>2697410</td>\n",
       "      <td>0.15</td>\n",
       "      <td>7</td>\n",
       "      <td>Above 75th</td>\n",
       "      <td>0.61</td>\n",
       "      <td>0.61</td>\n",
       "      <td>123406.51</td>\n",
       "      <td>0</td>\n",
       "      <td>123406.51</td>\n",
       "      <td>0.05</td>\n",
       "      <td>2779681.0</td>\n",
       "    </tr>\n",
       "    <tr>\n",
       "      <th>557</th>\n",
       "      <td>2023</td>\n",
       "      <td>2023-08-21</td>\n",
       "      <td>S. Mani</td>\n",
       "      <td>558</td>\n",
       "      <td>4</td>\n",
       "      <td>Lead Engineer</td>\n",
       "      <td>Tokyo</td>\n",
       "      <td>2467364</td>\n",
       "      <td>0.15</td>\n",
       "      <td>8</td>\n",
       "      <td>Between 25th to 50th</td>\n",
       "      <td>0.61</td>\n",
       "      <td>0.61</td>\n",
       "      <td>225763.81</td>\n",
       "      <td>0</td>\n",
       "      <td>225763.81</td>\n",
       "      <td>0.12</td>\n",
       "      <td>2647975.0</td>\n",
       "    </tr>\n",
       "    <tr>\n",
       "      <th>558</th>\n",
       "      <td>2023</td>\n",
       "      <td>2023-08-21</td>\n",
       "      <td>M. Bhavana</td>\n",
       "      <td>559</td>\n",
       "      <td>3</td>\n",
       "      <td>Senior Software Engineer</td>\n",
       "      <td>Tokyo</td>\n",
       "      <td>2397438</td>\n",
       "      <td>0.15</td>\n",
       "      <td>10</td>\n",
       "      <td>Between 25th to 50th</td>\n",
       "      <td>0.61</td>\n",
       "      <td>0.61</td>\n",
       "      <td>219365.58</td>\n",
       "      <td>0</td>\n",
       "      <td>219365.58</td>\n",
       "      <td>0.12</td>\n",
       "      <td>2572930.0</td>\n",
       "    </tr>\n",
       "    <tr>\n",
       "      <th>559</th>\n",
       "      <td>2023</td>\n",
       "      <td>2023-08-21</td>\n",
       "      <td>N. Naveen</td>\n",
       "      <td>560</td>\n",
       "      <td>1</td>\n",
       "      <td>Associate</td>\n",
       "      <td>Tokyo</td>\n",
       "      <td>1000000</td>\n",
       "      <td>0.10</td>\n",
       "      <td>9</td>\n",
       "      <td>Below 25th</td>\n",
       "      <td>0.61</td>\n",
       "      <td>0.61</td>\n",
       "      <td>61000.00</td>\n",
       "      <td>0</td>\n",
       "      <td>61000.00</td>\n",
       "      <td>0.12</td>\n",
       "      <td>1073200.0</td>\n",
       "    </tr>\n",
       "    <tr>\n",
       "      <th>560</th>\n",
       "      <td>2023</td>\n",
       "      <td>2023-08-21</td>\n",
       "      <td>R. Renuka</td>\n",
       "      <td>561</td>\n",
       "      <td>1</td>\n",
       "      <td>Associate</td>\n",
       "      <td>Tokyo</td>\n",
       "      <td>1000000</td>\n",
       "      <td>0.10</td>\n",
       "      <td>9</td>\n",
       "      <td>Below 25th</td>\n",
       "      <td>0.61</td>\n",
       "      <td>0.61</td>\n",
       "      <td>61000.00</td>\n",
       "      <td>0</td>\n",
       "      <td>61000.00</td>\n",
       "      <td>0.12</td>\n",
       "      <td>1073200.0</td>\n",
       "    </tr>\n",
       "  </tbody>\n",
       "</table>\n",
       "<p>561 rows × 18 columns</p>\n",
       "</div>"
      ],
      "text/plain": [
       "     Start_Year Start_Date Employee_Name unique_ID  Level_ID  \\\n",
       "0          2019 2019-01-07       S.Kumar         1         4   \n",
       "1          2019 2019-01-14      A. Swati         2         3   \n",
       "2          2019 2019-01-14   C. Poornima         3         4   \n",
       "3          2019 2019-01-21     D. Manish         4         2   \n",
       "4          2019 2019-01-21      R. Manoj         5         2   \n",
       "..          ...        ...           ...       ...       ...   \n",
       "556        2023 2023-08-21     K. Shreya       557         3   \n",
       "557        2023 2023-08-21       S. Mani       558         4   \n",
       "558        2023 2023-08-21    M. Bhavana       559         3   \n",
       "559        2023 2023-08-21     N. Naveen       560         1   \n",
       "560        2023 2023-08-21     R. Renuka       561         1   \n",
       "\n",
       "                        Grade Project  Current_Base_Pay  Bonus_entitlement  \\\n",
       "0               Lead Engineer  Gemcon           3219629               0.15   \n",
       "1    Senior Software Engineer   Tokyo           2530100               0.15   \n",
       "2               Lead Engineer  Gemcon           3330113               0.15   \n",
       "3           Software Engineer  Gemcon           2767233               0.10   \n",
       "4           Software Engineer  Gemcon           2023602               0.10   \n",
       "..                        ...     ...               ...                ...   \n",
       "556  Senior Software Engineer  Gemcon           2697410               0.15   \n",
       "557             Lead Engineer   Tokyo           2467364               0.15   \n",
       "558  Senior Software Engineer   Tokyo           2397438               0.15   \n",
       "559                 Associate   Tokyo           1000000               0.10   \n",
       "560                 Associate   Tokyo           1000000               0.10   \n",
       "\n",
       "     Rating   percentile_category  Time_In_Company  Prorated  Regular_Bonus  \\\n",
       "0        10            Above 75th             5.23      1.00      241472.18   \n",
       "1         7  Between 50th to 75th             5.21      1.00      379515.00   \n",
       "2        10            Above 75th             5.21      1.00      249758.47   \n",
       "3        10            Above 75th             5.19      1.00      138361.65   \n",
       "4         8  Between 25th to 50th             5.19      1.00      101180.10   \n",
       "..      ...                   ...              ...       ...            ...   \n",
       "556       7            Above 75th             0.61      0.61      123406.51   \n",
       "557       8  Between 25th to 50th             0.61      0.61      225763.81   \n",
       "558      10  Between 25th to 50th             0.61      0.61      219365.58   \n",
       "559       9            Below 25th             0.61      0.61       61000.00   \n",
       "560       9            Below 25th             0.61      0.61       61000.00   \n",
       "\n",
       "     Additional_Bonus  Total_Bonus  Hike Percent  New_Base_Pay  \n",
       "0                   0    241472.18          0.05     3380610.0  \n",
       "1               20000    399515.00          0.10     2783110.0  \n",
       "2                   0    249758.47          0.05     3496619.0  \n",
       "3                   0    138361.65          0.05     2905595.0  \n",
       "4                   0    101180.10          0.05     2124782.0  \n",
       "..                ...          ...           ...           ...  \n",
       "556                 0    123406.51          0.05     2779681.0  \n",
       "557                 0    225763.81          0.12     2647975.0  \n",
       "558                 0    219365.58          0.12     2572930.0  \n",
       "559                 0     61000.00          0.12     1073200.0  \n",
       "560                 0     61000.00          0.12     1073200.0  \n",
       "\n",
       "[561 rows x 18 columns]"
      ]
     },
     "execution_count": 33,
     "metadata": {},
     "output_type": "execute_result"
    }
   ],
   "source": [
    "df"
   ]
  },
  {
   "cell_type": "code",
   "execution_count": 34,
   "id": "7d3fac40",
   "metadata": {},
   "outputs": [
    {
     "data": {
      "text/html": [
       "<div>\n",
       "<style scoped>\n",
       "    .dataframe tbody tr th:only-of-type {\n",
       "        vertical-align: middle;\n",
       "    }\n",
       "\n",
       "    .dataframe tbody tr th {\n",
       "        vertical-align: top;\n",
       "    }\n",
       "\n",
       "    .dataframe thead th {\n",
       "        text-align: right;\n",
       "    }\n",
       "</style>\n",
       "<table border=\"1\" class=\"dataframe\">\n",
       "  <thead>\n",
       "    <tr style=\"text-align: right;\">\n",
       "      <th></th>\n",
       "      <th>Start_Year</th>\n",
       "      <th>Start_Date</th>\n",
       "      <th>Employee_Name</th>\n",
       "      <th>unique_ID</th>\n",
       "      <th>Level_ID</th>\n",
       "      <th>Grade</th>\n",
       "      <th>Project</th>\n",
       "      <th>Current_Base_Pay</th>\n",
       "      <th>Bonus_entitlement</th>\n",
       "      <th>Rating</th>\n",
       "      <th>percentile_category</th>\n",
       "      <th>Time_In_Company</th>\n",
       "      <th>Prorated</th>\n",
       "      <th>Regular_Bonus</th>\n",
       "      <th>Additional_Bonus</th>\n",
       "      <th>Total_Bonus</th>\n",
       "      <th>Hike Percent</th>\n",
       "      <th>New_Base_Pay</th>\n",
       "    </tr>\n",
       "  </thead>\n",
       "  <tbody>\n",
       "    <tr>\n",
       "      <th>556</th>\n",
       "      <td>2023</td>\n",
       "      <td>2023-08-21</td>\n",
       "      <td>K. Shreya</td>\n",
       "      <td>557</td>\n",
       "      <td>3</td>\n",
       "      <td>Senior Software Engineer</td>\n",
       "      <td>Gemcon</td>\n",
       "      <td>2697410</td>\n",
       "      <td>0.15</td>\n",
       "      <td>7</td>\n",
       "      <td>Above 75th</td>\n",
       "      <td>0.61</td>\n",
       "      <td>0.61</td>\n",
       "      <td>123406.51</td>\n",
       "      <td>0</td>\n",
       "      <td>123406.51</td>\n",
       "      <td>0.05</td>\n",
       "      <td>2779681.0</td>\n",
       "    </tr>\n",
       "  </tbody>\n",
       "</table>\n",
       "</div>"
      ],
      "text/plain": [
       "     Start_Year Start_Date Employee_Name unique_ID  Level_ID  \\\n",
       "556        2023 2023-08-21     K. Shreya       557         3   \n",
       "\n",
       "                        Grade Project  Current_Base_Pay  Bonus_entitlement  \\\n",
       "556  Senior Software Engineer  Gemcon           2697410               0.15   \n",
       "\n",
       "     Rating percentile_category  Time_In_Company  Prorated  Regular_Bonus  \\\n",
       "556       7          Above 75th             0.61      0.61      123406.51   \n",
       "\n",
       "     Additional_Bonus  Total_Bonus  Hike Percent  New_Base_Pay  \n",
       "556                 0    123406.51          0.05     2779681.0  "
      ]
     },
     "execution_count": 34,
     "metadata": {},
     "output_type": "execute_result"
    }
   ],
   "source": [
    "df[df['unique_ID']==557]"
   ]
  },
  {
   "cell_type": "code",
   "execution_count": 35,
   "id": "a57b8e0d",
   "metadata": {},
   "outputs": [
    {
     "data": {
      "text/html": [
       "<div>\n",
       "<style scoped>\n",
       "    .dataframe tbody tr th:only-of-type {\n",
       "        vertical-align: middle;\n",
       "    }\n",
       "\n",
       "    .dataframe tbody tr th {\n",
       "        vertical-align: top;\n",
       "    }\n",
       "\n",
       "    .dataframe thead th {\n",
       "        text-align: right;\n",
       "    }\n",
       "</style>\n",
       "<table border=\"1\" class=\"dataframe\">\n",
       "  <thead>\n",
       "    <tr style=\"text-align: right;\">\n",
       "      <th></th>\n",
       "      <th>Start_Year</th>\n",
       "      <th>Start_Date</th>\n",
       "      <th>Employee_Name</th>\n",
       "      <th>unique_ID</th>\n",
       "      <th>Level_ID</th>\n",
       "      <th>Grade</th>\n",
       "      <th>Project</th>\n",
       "      <th>Current_Base_Pay</th>\n",
       "      <th>Bonus_entitlement</th>\n",
       "      <th>Rating</th>\n",
       "      <th>percentile_category</th>\n",
       "      <th>Time_In_Company</th>\n",
       "      <th>Prorated</th>\n",
       "      <th>Regular_Bonus</th>\n",
       "      <th>Additional_Bonus</th>\n",
       "      <th>Total_Bonus</th>\n",
       "      <th>Hike Percent</th>\n",
       "      <th>New_Base_Pay</th>\n",
       "    </tr>\n",
       "  </thead>\n",
       "  <tbody>\n",
       "    <tr>\n",
       "      <th>0</th>\n",
       "      <td>2019</td>\n",
       "      <td>2019-01-07</td>\n",
       "      <td>S.Kumar</td>\n",
       "      <td>1</td>\n",
       "      <td>4</td>\n",
       "      <td>Lead Engineer</td>\n",
       "      <td>Gemcon</td>\n",
       "      <td>3219629</td>\n",
       "      <td>0.15</td>\n",
       "      <td>10</td>\n",
       "      <td>Above 75th</td>\n",
       "      <td>5.23</td>\n",
       "      <td>1.0</td>\n",
       "      <td>241472.18</td>\n",
       "      <td>0</td>\n",
       "      <td>241472.18</td>\n",
       "      <td>0.05</td>\n",
       "      <td>3380610.0</td>\n",
       "    </tr>\n",
       "    <tr>\n",
       "      <th>1</th>\n",
       "      <td>2019</td>\n",
       "      <td>2019-01-14</td>\n",
       "      <td>A. Swati</td>\n",
       "      <td>2</td>\n",
       "      <td>3</td>\n",
       "      <td>Senior Software Engineer</td>\n",
       "      <td>Tokyo</td>\n",
       "      <td>2530100</td>\n",
       "      <td>0.15</td>\n",
       "      <td>7</td>\n",
       "      <td>Between 50th to 75th</td>\n",
       "      <td>5.21</td>\n",
       "      <td>1.0</td>\n",
       "      <td>379515.00</td>\n",
       "      <td>20000</td>\n",
       "      <td>399515.00</td>\n",
       "      <td>0.10</td>\n",
       "      <td>2783110.0</td>\n",
       "    </tr>\n",
       "    <tr>\n",
       "      <th>2</th>\n",
       "      <td>2019</td>\n",
       "      <td>2019-01-14</td>\n",
       "      <td>C. Poornima</td>\n",
       "      <td>3</td>\n",
       "      <td>4</td>\n",
       "      <td>Lead Engineer</td>\n",
       "      <td>Gemcon</td>\n",
       "      <td>3330113</td>\n",
       "      <td>0.15</td>\n",
       "      <td>10</td>\n",
       "      <td>Above 75th</td>\n",
       "      <td>5.21</td>\n",
       "      <td>1.0</td>\n",
       "      <td>249758.47</td>\n",
       "      <td>0</td>\n",
       "      <td>249758.47</td>\n",
       "      <td>0.05</td>\n",
       "      <td>3496619.0</td>\n",
       "    </tr>\n",
       "    <tr>\n",
       "      <th>3</th>\n",
       "      <td>2019</td>\n",
       "      <td>2019-01-21</td>\n",
       "      <td>D. Manish</td>\n",
       "      <td>4</td>\n",
       "      <td>2</td>\n",
       "      <td>Software Engineer</td>\n",
       "      <td>Gemcon</td>\n",
       "      <td>2767233</td>\n",
       "      <td>0.10</td>\n",
       "      <td>10</td>\n",
       "      <td>Above 75th</td>\n",
       "      <td>5.19</td>\n",
       "      <td>1.0</td>\n",
       "      <td>138361.65</td>\n",
       "      <td>0</td>\n",
       "      <td>138361.65</td>\n",
       "      <td>0.05</td>\n",
       "      <td>2905595.0</td>\n",
       "    </tr>\n",
       "    <tr>\n",
       "      <th>4</th>\n",
       "      <td>2019</td>\n",
       "      <td>2019-01-21</td>\n",
       "      <td>R. Manoj</td>\n",
       "      <td>5</td>\n",
       "      <td>2</td>\n",
       "      <td>Software Engineer</td>\n",
       "      <td>Gemcon</td>\n",
       "      <td>2023602</td>\n",
       "      <td>0.10</td>\n",
       "      <td>8</td>\n",
       "      <td>Between 25th to 50th</td>\n",
       "      <td>5.19</td>\n",
       "      <td>1.0</td>\n",
       "      <td>101180.10</td>\n",
       "      <td>0</td>\n",
       "      <td>101180.10</td>\n",
       "      <td>0.05</td>\n",
       "      <td>2124782.0</td>\n",
       "    </tr>\n",
       "  </tbody>\n",
       "</table>\n",
       "</div>"
      ],
      "text/plain": [
       "   Start_Year Start_Date Employee_Name unique_ID  Level_ID  \\\n",
       "0        2019 2019-01-07       S.Kumar         1         4   \n",
       "1        2019 2019-01-14      A. Swati         2         3   \n",
       "2        2019 2019-01-14   C. Poornima         3         4   \n",
       "3        2019 2019-01-21     D. Manish         4         2   \n",
       "4        2019 2019-01-21      R. Manoj         5         2   \n",
       "\n",
       "                      Grade Project  Current_Base_Pay  Bonus_entitlement  \\\n",
       "0             Lead Engineer  Gemcon           3219629               0.15   \n",
       "1  Senior Software Engineer   Tokyo           2530100               0.15   \n",
       "2             Lead Engineer  Gemcon           3330113               0.15   \n",
       "3         Software Engineer  Gemcon           2767233               0.10   \n",
       "4         Software Engineer  Gemcon           2023602               0.10   \n",
       "\n",
       "   Rating   percentile_category  Time_In_Company  Prorated  Regular_Bonus  \\\n",
       "0      10            Above 75th             5.23       1.0      241472.18   \n",
       "1       7  Between 50th to 75th             5.21       1.0      379515.00   \n",
       "2      10            Above 75th             5.21       1.0      249758.47   \n",
       "3      10            Above 75th             5.19       1.0      138361.65   \n",
       "4       8  Between 25th to 50th             5.19       1.0      101180.10   \n",
       "\n",
       "   Additional_Bonus  Total_Bonus  Hike Percent  New_Base_Pay  \n",
       "0                 0    241472.18          0.05     3380610.0  \n",
       "1             20000    399515.00          0.10     2783110.0  \n",
       "2                 0    249758.47          0.05     3496619.0  \n",
       "3                 0    138361.65          0.05     2905595.0  \n",
       "4                 0    101180.10          0.05     2124782.0  "
      ]
     },
     "execution_count": 35,
     "metadata": {},
     "output_type": "execute_result"
    }
   ],
   "source": [
    "df.head()"
   ]
  },
  {
   "cell_type": "code",
   "execution_count": 58,
   "id": "8a7f5391",
   "metadata": {},
   "outputs": [
    {
     "data": {
      "application/vnd.plotly.v1+json": {
       "config": {
        "plotlyServerURL": "https://plot.ly"
       },
       "data": [
        {
         "hovertemplate": "Grade=%{x}<br>Current_Base_Pay=%{y}<extra></extra>",
         "legendgroup": "",
         "marker": {
          "color": "#636efa",
          "symbol": "circle"
         },
         "mode": "markers",
         "name": "",
         "orientation": "v",
         "showlegend": false,
         "textposition": "top center",
         "type": "scatter",
         "x": [
          "Lead Engineer",
          "Senior Software Engineer",
          "Lead Engineer",
          "Software Engineer",
          "Software Engineer",
          "Senior Software Engineer",
          "Lead Engineer",
          "Lead Engineer",
          "Senior Software Engineer",
          "Lead Engineer",
          "Senior Software Engineer",
          "Software Engineer",
          "Software Engineer",
          "Software Engineer",
          "Lead Engineer",
          "Software Engineer",
          "Lead Engineer",
          "Senior Software Engineer",
          "Senior Software Engineer",
          "Lead Engineer",
          "Senior Software Engineer",
          "Senior Software Engineer",
          "Software Engineer",
          "Software Engineer",
          "Lead Engineer",
          "Software Engineer",
          "Senior Software Engineer",
          "Lead Engineer",
          "Software Engineer",
          "Senior Software Engineer",
          "Software Engineer",
          "Software Engineer",
          "Software Engineer",
          "Software Engineer",
          "Software Engineer",
          "Lead Engineer",
          "Senior Software Engineer",
          "Senior Software Engineer",
          "Senior Software Engineer",
          "Software Engineer",
          "Lead Engineer",
          "Senior Software Engineer",
          "Senior Software Engineer",
          "Senior Software Engineer",
          "Senior Software Engineer",
          "Senior Software Engineer",
          "Lead Engineer",
          "Lead Engineer",
          "Software Engineer",
          "Lead Engineer",
          "Lead Engineer",
          "Lead Engineer",
          "Software Engineer",
          "Software Engineer",
          "Software Engineer",
          "Software Engineer",
          "Software Engineer",
          "Senior Software Engineer",
          "Senior Software Engineer",
          "Software Engineer",
          "Senior Software Engineer",
          "Senior Software Engineer",
          "Software Engineer",
          "Senior Software Engineer",
          "Senior Software Engineer",
          "Senior Software Engineer",
          "Software Engineer",
          "Senior Software Engineer",
          "Software Engineer",
          "Software Engineer",
          "Senior Software Engineer",
          "Senior Software Engineer",
          "Software Engineer",
          "Software Engineer",
          "Software Engineer",
          "Software Engineer",
          "Senior Software Engineer",
          "Senior Software Engineer",
          "Senior Software Engineer",
          "Software Engineer",
          "Software Engineer",
          "Senior Software Engineer",
          "Senior Software Engineer",
          "Senior Software Engineer",
          "Senior Software Engineer",
          "Software Engineer",
          "Software Engineer",
          "Senior Software Engineer",
          "Senior Software Engineer",
          "Senior Software Engineer",
          "Software Engineer",
          "Software Engineer",
          "Senior Software Engineer",
          "Software Engineer",
          "Senior Software Engineer",
          "Senior Software Engineer",
          "Software Engineer",
          "Senior Software Engineer",
          "Software Engineer",
          "Software Engineer",
          "Software Engineer",
          "Software Engineer",
          "Senior Software Engineer",
          "Senior Software Engineer",
          "Senior Software Engineer",
          "Software Engineer",
          "Software Engineer",
          "Software Engineer",
          "Senior Software Engineer",
          "Software Engineer",
          "Senior Software Engineer",
          "Senior Software Engineer",
          "Senior Software Engineer",
          "Senior Software Engineer",
          "Senior Software Engineer",
          "Software Engineer",
          "Software Engineer",
          "Senior Software Engineer",
          "Software Engineer",
          "Software Engineer",
          "Senior Software Engineer",
          "Software Engineer",
          "Software Engineer",
          "Senior Software Engineer",
          "Senior Software Engineer",
          "Software Engineer",
          "Senior Software Engineer",
          "Software Engineer",
          "Senior Software Engineer",
          "Software Engineer",
          "Software Engineer",
          "Software Engineer",
          "Senior Software Engineer",
          "Software Engineer",
          "Senior Software Engineer",
          "Senior Software Engineer",
          "Senior Software Engineer",
          "Software Engineer",
          "Software Engineer",
          "Software Engineer",
          "Senior Software Engineer",
          "Senior Software Engineer",
          "Senior Software Engineer",
          "Senior Software Engineer",
          "Software Engineer",
          "Senior Software Engineer",
          "Software Engineer",
          "Senior Software Engineer",
          "Software Engineer",
          "Senior Software Engineer",
          "Senior Software Engineer",
          "Software Engineer",
          "Senior Software Engineer",
          "Senior Software Engineer",
          "Senior Software Engineer",
          "Senior Software Engineer",
          "Software Engineer",
          "Senior Software Engineer",
          "Software Engineer",
          "Senior Software Engineer",
          "Senior Software Engineer",
          "Software Engineer",
          "Software Engineer",
          "Senior Software Engineer",
          "Senior Software Engineer",
          "Senior Software Engineer",
          "Software Engineer",
          "Software Engineer",
          "Senior Software Engineer",
          "Software Engineer",
          "Senior Software Engineer",
          "Software Engineer",
          "Software Engineer",
          "Software Engineer",
          "Software Engineer",
          "Senior Software Engineer",
          "Senior Software Engineer",
          "Senior Software Engineer",
          "Senior Software Engineer",
          "Software Engineer",
          "Senior Software Engineer",
          "Senior Software Engineer",
          "Software Engineer",
          "Software Engineer",
          "Senior Software Engineer",
          "Software Engineer",
          "Senior Software Engineer",
          "Software Engineer",
          "Senior Software Engineer",
          "Senior Software Engineer",
          "Software Engineer",
          "Senior Software Engineer",
          "Senior Software Engineer",
          "Software Engineer",
          "Senior Software Engineer",
          "Software Engineer",
          "Software Engineer",
          "Software Engineer",
          "Software Engineer",
          "Senior Software Engineer",
          "Senior Software Engineer",
          "Senior Software Engineer",
          "Senior Software Engineer",
          "Senior Software Engineer",
          "Senior Software Engineer",
          "Senior Software Engineer",
          "Senior Software Engineer",
          "Senior Software Engineer",
          "Software Engineer",
          "Senior Software Engineer",
          "Software Engineer",
          "Software Engineer",
          "Senior Software Engineer",
          "Software Engineer",
          "Software Engineer",
          "Software Engineer",
          "Software Engineer",
          "Software Engineer",
          "Senior Software Engineer",
          "Lead Engineer",
          "Senior Software Engineer",
          "Lead Engineer",
          "Senior Software Engineer",
          "Software Engineer",
          "Software Engineer",
          "Software Engineer",
          "Lead Engineer",
          "Software Engineer",
          "Associate",
          "Software Engineer",
          "Software Engineer",
          "Associate",
          "Associate",
          "Lead Engineer",
          "Associate",
          "Associate",
          "Associate",
          "Senior Software Engineer",
          "Software Engineer",
          "Lead Engineer",
          "Associate",
          "Associate",
          "Associate",
          "Software Engineer",
          "Associate",
          "Software Engineer",
          "Senior Software Engineer",
          "Associate",
          "Associate",
          "Senior Software Engineer",
          "Lead Engineer",
          "Associate",
          "Associate",
          "Associate",
          "Lead Engineer",
          "Senior Software Engineer",
          "Lead Engineer",
          "Software Engineer",
          "Senior Software Engineer",
          "Software Engineer",
          "Associate",
          "Associate",
          "Lead Engineer",
          "Associate",
          "Associate",
          "Associate",
          "Associate",
          "Software Engineer",
          "Software Engineer",
          "Associate",
          "Software Engineer",
          "Associate",
          "Senior Software Engineer",
          "Senior Software Engineer",
          "Associate",
          "Associate",
          "Lead Engineer",
          "Senior Software Engineer",
          "Associate",
          "Associate",
          "Associate",
          "Software Engineer",
          "Associate",
          "Associate",
          "Associate",
          "Software Engineer",
          "Associate",
          "Lead Engineer",
          "Lead Engineer",
          "Senior Software Engineer",
          "Associate",
          "Senior Software Engineer",
          "Associate",
          "Associate",
          "Senior Software Engineer",
          "Associate",
          "Associate",
          "Associate",
          "Associate",
          "Associate",
          "Lead Engineer",
          "Lead Engineer",
          "Software Engineer",
          "Senior Software Engineer",
          "Software Engineer",
          "Software Engineer",
          "Lead Engineer",
          "Lead Engineer",
          "Lead Engineer",
          "Lead Engineer",
          "Software Engineer",
          "Associate",
          "Senior Software Engineer",
          "Software Engineer",
          "Software Engineer",
          "Senior Software Engineer",
          "Associate",
          "Associate",
          "Software Engineer",
          "Associate",
          "Associate",
          "Lead Engineer",
          "Lead Engineer",
          "Software Engineer",
          "Senior Software Engineer",
          "Software Engineer",
          "Associate",
          "Software Engineer",
          "Software Engineer",
          "Associate",
          "Software Engineer",
          "Associate",
          "Associate",
          "Associate",
          "Software Engineer",
          "Software Engineer",
          "Associate",
          "Associate",
          "Software Engineer",
          "Associate",
          "Software Engineer",
          "Software Engineer",
          "Software Engineer",
          "Associate",
          "Associate",
          "Associate",
          "Software Engineer",
          "Associate",
          "Associate",
          "Associate",
          "Associate",
          "Associate",
          "Software Engineer",
          "Associate",
          "Software Engineer",
          "Software Engineer",
          "Associate",
          "Software Engineer",
          "Software Engineer",
          "Software Engineer",
          "Software Engineer",
          "Software Engineer",
          "Software Engineer",
          "Software Engineer",
          "Associate",
          "Associate",
          "Associate",
          "Software Engineer",
          "Software Engineer",
          "Software Engineer",
          "Software Engineer",
          "Associate",
          "Software Engineer",
          "Associate",
          "Associate",
          "Associate",
          "Software Engineer",
          "Software Engineer",
          "Associate",
          "Software Engineer",
          "Software Engineer",
          "Software Engineer",
          "Software Engineer",
          "Associate",
          "Associate",
          "Associate",
          "Software Engineer",
          "Associate",
          "Software Engineer",
          "Software Engineer",
          "Associate",
          "Software Engineer",
          "Associate",
          "Software Engineer",
          "Associate",
          "Software Engineer",
          "Software Engineer",
          "Associate",
          "Associate",
          "Software Engineer",
          "Associate",
          "Software Engineer",
          "Associate",
          "Associate",
          "Software Engineer",
          "Associate",
          "Software Engineer",
          "Software Engineer",
          "Associate",
          "Associate",
          "Software Engineer",
          "Associate",
          "Associate",
          "Software Engineer",
          "Software Engineer",
          "Software Engineer",
          "Associate",
          "Associate",
          "Associate",
          "Software Engineer",
          "Associate",
          "Associate",
          "Software Engineer",
          "Software Engineer",
          "Software Engineer",
          "Associate",
          "Software Engineer",
          "Associate",
          "Software Engineer",
          "Senior Software Engineer",
          "Lead Engineer",
          "Lead Engineer",
          "Associate",
          "Software Engineer",
          "Senior Software Engineer",
          "Lead Engineer",
          "Senior Software Engineer",
          "Software Engineer",
          "Senior Software Engineer",
          "Senior Software Engineer",
          "Lead Engineer",
          "Software Engineer",
          "Lead Engineer",
          "Lead Engineer",
          "Senior Software Engineer",
          "Senior Software Engineer",
          "Associate",
          "Associate",
          "Associate",
          "Associate",
          "Lead Engineer",
          "Software Engineer",
          "Senior Software Engineer",
          "Lead Engineer",
          "Senior Software Engineer",
          "Senior Software Engineer",
          "Lead Engineer",
          "Senior Software Engineer",
          "Senior Software Engineer",
          "Software Engineer",
          "Senior Software Engineer",
          "Associate",
          "Associate",
          "Associate",
          "Senior Software Engineer",
          "Lead Engineer",
          "Lead Engineer",
          "Associate",
          "Associate",
          "Senior Software Engineer",
          "Senior Software Engineer",
          "Software Engineer",
          "Lead Engineer",
          "Senior Software Engineer",
          "Senior Software Engineer",
          "Lead Engineer",
          "Lead Engineer",
          "Lead Engineer",
          "Associate",
          "Associate",
          "Senior Software Engineer",
          "Lead Engineer",
          "Senior Software Engineer",
          "Software Engineer",
          "Senior Software Engineer",
          "Senior Software Engineer",
          "Senior Software Engineer",
          "Associate",
          "Associate",
          "Senior Software Engineer",
          "Senior Software Engineer",
          "Associate",
          "Lead Engineer",
          "Lead Engineer",
          "Senior Software Engineer",
          "Software Engineer",
          "Software Engineer",
          "Lead Engineer",
          "Senior Software Engineer",
          "Senior Software Engineer",
          "Software Engineer",
          "Lead Engineer",
          "Senior Software Engineer",
          "Lead Engineer",
          "Senior Software Engineer",
          "Senior Software Engineer",
          "Lead Engineer",
          "Associate",
          "Software Engineer",
          "Software Engineer",
          "Senior Software Engineer",
          "Associate",
          "Associate",
          "Senior Software Engineer",
          "Lead Engineer",
          "Lead Engineer",
          "Lead Engineer",
          "Lead Engineer",
          "Senior Software Engineer",
          "Lead Engineer",
          "Lead Engineer",
          "Lead Engineer",
          "Senior Software Engineer",
          "Software Engineer",
          "Lead Engineer",
          "Lead Engineer",
          "Lead Engineer",
          "Lead Engineer",
          "Lead Engineer",
          "Senior Software Engineer",
          "Associate",
          "Associate",
          "Software Engineer",
          "Lead Engineer",
          "Lead Engineer",
          "Associate",
          "Senior Software Engineer",
          "Lead Engineer",
          "Software Engineer",
          "Lead Engineer",
          "Lead Engineer",
          "Lead Engineer",
          "Lead Engineer",
          "Senior Software Engineer",
          "Lead Engineer",
          "Lead Engineer",
          "Software Engineer",
          "Lead Engineer",
          "Senior Software Engineer",
          "Associate",
          "Associate",
          "Lead Engineer",
          "Associate",
          "Associate",
          "Lead Engineer",
          "Lead Engineer",
          "Senior Software Engineer",
          "Lead Engineer",
          "Senior Software Engineer",
          "Associate",
          "Associate"
         ],
         "xaxis": "x",
         "y": [
          3219629,
          2530100,
          3330113,
          2767233,
          2023602,
          2375264,
          3026382,
          3265078,
          2433884,
          2554192,
          2164358,
          2002191,
          3204745,
          2266459,
          2788632,
          2837953,
          2781013,
          2870337,
          2600259,
          3022640,
          2484385,
          2899759,
          2660394,
          2506601,
          3280060,
          2646876,
          2013768,
          3613374,
          2371527,
          2244047,
          2314793,
          2551156,
          2120746,
          2491029,
          2369640,
          3386141,
          2874680,
          2592622,
          2814168,
          2317381,
          3201899,
          2010923,
          2773840,
          2156985,
          2709348,
          2761146,
          4523720,
          4257572,
          2446651,
          3222322,
          4301676,
          3522088,
          2053752,
          2782831,
          2012384,
          2061800,
          2758975,
          1849782,
          2120608,
          1924555,
          2277182,
          1832035,
          2591372,
          2684159,
          2018421,
          1917677,
          1846972,
          1922522,
          2177967,
          1781139,
          2397864,
          2595992,
          2275216,
          2365640,
          1946075,
          1914211,
          2412462,
          2486190,
          2636270,
          1989941,
          1784500,
          2332846,
          2394434,
          1933658,
          1789723,
          1929879,
          2402792,
          2584060,
          2223603,
          2729726,
          2784748,
          2045376,
          2717482,
          2323814,
          2723412,
          1916028,
          2737911,
          2483244,
          1830873,
          2667857,
          1882249,
          2768806,
          1797188,
          2248665,
          2607492,
          2133816,
          2536270,
          2166999,
          2754693,
          1705163,
          2385509,
          2669020,
          1920125,
          2489769,
          2272877,
          2295139,
          2673045,
          2586800,
          2562450,
          2168331,
          2424314,
          2249459,
          2426130,
          2557522,
          1810476,
          2178084,
          2690518,
          2501869,
          2512061,
          2112051,
          2460143,
          2766429,
          2402395,
          2630167,
          1873908,
          2052276,
          1727925,
          2161860,
          2580481,
          2276052,
          2461517,
          1765745,
          1778345,
          2617523,
          2415300,
          2364215,
          1778182,
          2538847,
          2591155,
          1881811,
          2065467,
          2014046,
          2676550,
          2535770,
          2506448,
          2261169,
          2509817,
          2197526,
          2442367,
          2300308,
          2769095,
          1798054,
          1702497,
          2709196,
          1738362,
          2665154,
          1936322,
          2748924,
          1938033,
          2169685,
          2395030,
          1744859,
          1778758,
          1962851,
          2620312,
          2004431,
          1766153,
          2611748,
          2560963,
          2451788,
          2165541,
          1962052,
          2687219,
          2285362,
          2147227,
          2272984,
          2132497,
          2306251,
          2596309,
          1840238,
          2188048,
          2649986,
          2207158,
          2567734,
          2447937,
          2362730,
          2487663,
          2133927,
          2354269,
          2328126,
          2383742,
          1742480,
          2347060,
          2302729,
          2203526,
          1815539,
          2282156,
          1902309,
          2084614,
          2689066,
          2396134,
          1870670,
          1862747,
          2603069,
          2257449,
          2642488,
          2121852,
          2306162,
          1958015,
          1963506,
          2276636,
          2016381,
          2535381,
          2193874,
          2040919,
          1955689,
          2491501,
          2644214,
          1823311,
          2461133,
          2148839,
          1323693,
          1480277,
          2522673,
          1412183,
          1664712,
          1302630,
          2281095,
          2387601,
          2090081,
          1619817,
          1320057,
          1894695,
          2313064,
          1758818,
          2169993,
          2034463,
          1754622,
          1350826,
          2391356,
          2656139,
          1493839,
          1627035,
          1822828,
          2511992,
          2634770,
          2022613,
          2031180,
          2169310,
          2051079,
          1716366,
          1491546,
          2662778,
          1883535,
          1204937,
          1826832,
          1818397,
          2030256,
          2321039,
          1399708,
          2385751,
          1704581,
          2134638,
          1963299,
          1416127,
          1875893,
          1991988,
          2247415,
          1355516,
          1862723,
          1394141,
          1907081,
          1398330,
          1855064,
          2250947,
          2050818,
          1223960,
          2409283,
          2364653,
          2682766,
          1266891,
          2471680,
          1864931,
          1289207,
          2192821,
          1334377,
          1849634,
          1324071,
          1443682,
          1407935,
          1956350,
          2635765,
          2568338,
          2062877,
          2445031,
          2101420,
          3549642,
          2150302,
          1901767,
          2155508,
          2043797,
          1648495,
          2282578,
          2693038,
          2107197,
          3163803,
          1273903,
          1640354,
          2694107,
          1350653,
          1253899,
          2588358,
          1914897,
          1967380,
          2497741,
          1664587,
          1702374,
          1439987,
          1771805,
          1671244,
          1564729,
          2466255,
          1854231,
          1794812,
          1423896,
          1838995,
          1443218,
          1796603,
          1884421,
          1528385,
          1425683,
          1411618,
          1588428,
          1673905,
          1685601,
          1807866,
          1614263,
          1670145,
          1621818,
          1565168,
          1596986,
          1579176,
          1529653,
          1463827,
          1808292,
          1814139,
          1790398,
          1238995,
          1612309,
          1608214,
          1736485,
          1814024,
          2881846,
          1838995,
          1489625,
          1748531,
          1493570,
          1741341,
          1531610,
          1731138,
          1439130,
          1762219,
          1784806,
          1772655,
          1712390,
          1483401,
          1629116,
          1664361,
          1798039,
          1749219,
          1470235,
          1793190,
          1626545,
          1791647,
          1474189,
          1775978,
          1598106,
          1538068,
          2754187,
          1838995,
          1703711,
          1837510,
          1572785,
          1494084,
          1663091,
          1476447,
          1582350,
          1847361,
          1480805,
          1843093,
          1759984,
          1516885,
          1642536,
          1506314,
          1674416,
          1460085,
          1660905,
          1838995,
          1827566,
          1600954,
          1535843,
          1406455,
          1560397,
          1875493,
          1822292,
          1798339,
          1518047,
          1700238,
          1631964,
          1657399,
          1701583,
          1589406,
          1663294,
          1897381,
          1871551,
          1681744,
          1569249,
          1700143,
          1833388,
          2736130,
          2358149,
          2905022,
          1000000,
          2136554,
          2595460,
          2413382,
          2719685,
          1996164,
          2779188,
          2849920,
          2583083,
          2044695,
          2828097,
          2864295,
          2847838,
          2667400,
          1000000,
          1000000,
          1000000,
          1000000,
          2759521,
          1908406,
          2983450,
          2810561,
          2719576,
          2895282,
          2361708,
          2736819,
          2446098,
          1775801,
          2675196,
          1000000,
          1000000,
          1000000,
          2927483,
          2552811,
          2997281,
          1000000,
          1000000,
          2681279,
          2909934,
          2319764,
          2856410,
          2337388,
          2640002,
          2787317,
          2592423,
          2751288,
          1000000,
          1000000,
          2866715,
          2855852,
          2848106,
          1883073,
          2786341,
          2614175,
          2964974,
          1000000,
          1000000,
          2723452,
          2749692,
          1000000,
          2334555,
          2918554,
          2395053,
          1674621,
          1524726,
          2462077,
          2576618,
          2529300,
          1665224,
          2714754,
          2413297,
          2903310,
          2540315,
          2564313,
          2346140,
          1000000,
          1988364,
          2046050,
          2808868,
          1000000,
          1000000,
          2832506,
          2882070,
          2516743,
          2865947,
          2497870,
          2591548,
          2766722,
          2361455,
          2936918,
          2509632,
          1874451,
          2738052,
          2403683,
          2817624,
          2693538,
          2569701,
          2570659,
          1000000,
          1000000,
          1551814,
          2671697,
          2426971,
          1000000,
          2696825,
          2861100,
          1651829,
          2510032,
          2839965,
          2505254,
          2548422,
          2572475,
          2753774,
          2700966,
          2071032,
          2582701,
          2466959,
          2025780,
          2029415,
          2906500,
          1000000,
          1700000,
          2459070,
          2747441,
          2697410,
          2467364,
          2397438,
          1000000,
          1000000
         ],
         "yaxis": "y"
        }
       ],
       "layout": {
        "legend": {
         "tracegroupgap": 0
        },
        "template": {
         "data": {
          "bar": [
           {
            "error_x": {
             "color": "#2a3f5f"
            },
            "error_y": {
             "color": "#2a3f5f"
            },
            "marker": {
             "line": {
              "color": "#E5ECF6",
              "width": 0.5
             },
             "pattern": {
              "fillmode": "overlay",
              "size": 10,
              "solidity": 0.2
             }
            },
            "type": "bar"
           }
          ],
          "barpolar": [
           {
            "marker": {
             "line": {
              "color": "#E5ECF6",
              "width": 0.5
             },
             "pattern": {
              "fillmode": "overlay",
              "size": 10,
              "solidity": 0.2
             }
            },
            "type": "barpolar"
           }
          ],
          "carpet": [
           {
            "aaxis": {
             "endlinecolor": "#2a3f5f",
             "gridcolor": "white",
             "linecolor": "white",
             "minorgridcolor": "white",
             "startlinecolor": "#2a3f5f"
            },
            "baxis": {
             "endlinecolor": "#2a3f5f",
             "gridcolor": "white",
             "linecolor": "white",
             "minorgridcolor": "white",
             "startlinecolor": "#2a3f5f"
            },
            "type": "carpet"
           }
          ],
          "choropleth": [
           {
            "colorbar": {
             "outlinewidth": 0,
             "ticks": ""
            },
            "type": "choropleth"
           }
          ],
          "contour": [
           {
            "colorbar": {
             "outlinewidth": 0,
             "ticks": ""
            },
            "colorscale": [
             [
              0,
              "#0d0887"
             ],
             [
              0.1111111111111111,
              "#46039f"
             ],
             [
              0.2222222222222222,
              "#7201a8"
             ],
             [
              0.3333333333333333,
              "#9c179e"
             ],
             [
              0.4444444444444444,
              "#bd3786"
             ],
             [
              0.5555555555555556,
              "#d8576b"
             ],
             [
              0.6666666666666666,
              "#ed7953"
             ],
             [
              0.7777777777777778,
              "#fb9f3a"
             ],
             [
              0.8888888888888888,
              "#fdca26"
             ],
             [
              1,
              "#f0f921"
             ]
            ],
            "type": "contour"
           }
          ],
          "contourcarpet": [
           {
            "colorbar": {
             "outlinewidth": 0,
             "ticks": ""
            },
            "type": "contourcarpet"
           }
          ],
          "heatmap": [
           {
            "colorbar": {
             "outlinewidth": 0,
             "ticks": ""
            },
            "colorscale": [
             [
              0,
              "#0d0887"
             ],
             [
              0.1111111111111111,
              "#46039f"
             ],
             [
              0.2222222222222222,
              "#7201a8"
             ],
             [
              0.3333333333333333,
              "#9c179e"
             ],
             [
              0.4444444444444444,
              "#bd3786"
             ],
             [
              0.5555555555555556,
              "#d8576b"
             ],
             [
              0.6666666666666666,
              "#ed7953"
             ],
             [
              0.7777777777777778,
              "#fb9f3a"
             ],
             [
              0.8888888888888888,
              "#fdca26"
             ],
             [
              1,
              "#f0f921"
             ]
            ],
            "type": "heatmap"
           }
          ],
          "heatmapgl": [
           {
            "colorbar": {
             "outlinewidth": 0,
             "ticks": ""
            },
            "colorscale": [
             [
              0,
              "#0d0887"
             ],
             [
              0.1111111111111111,
              "#46039f"
             ],
             [
              0.2222222222222222,
              "#7201a8"
             ],
             [
              0.3333333333333333,
              "#9c179e"
             ],
             [
              0.4444444444444444,
              "#bd3786"
             ],
             [
              0.5555555555555556,
              "#d8576b"
             ],
             [
              0.6666666666666666,
              "#ed7953"
             ],
             [
              0.7777777777777778,
              "#fb9f3a"
             ],
             [
              0.8888888888888888,
              "#fdca26"
             ],
             [
              1,
              "#f0f921"
             ]
            ],
            "type": "heatmapgl"
           }
          ],
          "histogram": [
           {
            "marker": {
             "pattern": {
              "fillmode": "overlay",
              "size": 10,
              "solidity": 0.2
             }
            },
            "type": "histogram"
           }
          ],
          "histogram2d": [
           {
            "colorbar": {
             "outlinewidth": 0,
             "ticks": ""
            },
            "colorscale": [
             [
              0,
              "#0d0887"
             ],
             [
              0.1111111111111111,
              "#46039f"
             ],
             [
              0.2222222222222222,
              "#7201a8"
             ],
             [
              0.3333333333333333,
              "#9c179e"
             ],
             [
              0.4444444444444444,
              "#bd3786"
             ],
             [
              0.5555555555555556,
              "#d8576b"
             ],
             [
              0.6666666666666666,
              "#ed7953"
             ],
             [
              0.7777777777777778,
              "#fb9f3a"
             ],
             [
              0.8888888888888888,
              "#fdca26"
             ],
             [
              1,
              "#f0f921"
             ]
            ],
            "type": "histogram2d"
           }
          ],
          "histogram2dcontour": [
           {
            "colorbar": {
             "outlinewidth": 0,
             "ticks": ""
            },
            "colorscale": [
             [
              0,
              "#0d0887"
             ],
             [
              0.1111111111111111,
              "#46039f"
             ],
             [
              0.2222222222222222,
              "#7201a8"
             ],
             [
              0.3333333333333333,
              "#9c179e"
             ],
             [
              0.4444444444444444,
              "#bd3786"
             ],
             [
              0.5555555555555556,
              "#d8576b"
             ],
             [
              0.6666666666666666,
              "#ed7953"
             ],
             [
              0.7777777777777778,
              "#fb9f3a"
             ],
             [
              0.8888888888888888,
              "#fdca26"
             ],
             [
              1,
              "#f0f921"
             ]
            ],
            "type": "histogram2dcontour"
           }
          ],
          "mesh3d": [
           {
            "colorbar": {
             "outlinewidth": 0,
             "ticks": ""
            },
            "type": "mesh3d"
           }
          ],
          "parcoords": [
           {
            "line": {
             "colorbar": {
              "outlinewidth": 0,
              "ticks": ""
             }
            },
            "type": "parcoords"
           }
          ],
          "pie": [
           {
            "automargin": true,
            "type": "pie"
           }
          ],
          "scatter": [
           {
            "marker": {
             "colorbar": {
              "outlinewidth": 0,
              "ticks": ""
             }
            },
            "type": "scatter"
           }
          ],
          "scatter3d": [
           {
            "line": {
             "colorbar": {
              "outlinewidth": 0,
              "ticks": ""
             }
            },
            "marker": {
             "colorbar": {
              "outlinewidth": 0,
              "ticks": ""
             }
            },
            "type": "scatter3d"
           }
          ],
          "scattercarpet": [
           {
            "marker": {
             "colorbar": {
              "outlinewidth": 0,
              "ticks": ""
             }
            },
            "type": "scattercarpet"
           }
          ],
          "scattergeo": [
           {
            "marker": {
             "colorbar": {
              "outlinewidth": 0,
              "ticks": ""
             }
            },
            "type": "scattergeo"
           }
          ],
          "scattergl": [
           {
            "marker": {
             "colorbar": {
              "outlinewidth": 0,
              "ticks": ""
             }
            },
            "type": "scattergl"
           }
          ],
          "scattermapbox": [
           {
            "marker": {
             "colorbar": {
              "outlinewidth": 0,
              "ticks": ""
             }
            },
            "type": "scattermapbox"
           }
          ],
          "scatterpolar": [
           {
            "marker": {
             "colorbar": {
              "outlinewidth": 0,
              "ticks": ""
             }
            },
            "type": "scatterpolar"
           }
          ],
          "scatterpolargl": [
           {
            "marker": {
             "colorbar": {
              "outlinewidth": 0,
              "ticks": ""
             }
            },
            "type": "scatterpolargl"
           }
          ],
          "scatterternary": [
           {
            "marker": {
             "colorbar": {
              "outlinewidth": 0,
              "ticks": ""
             }
            },
            "type": "scatterternary"
           }
          ],
          "surface": [
           {
            "colorbar": {
             "outlinewidth": 0,
             "ticks": ""
            },
            "colorscale": [
             [
              0,
              "#0d0887"
             ],
             [
              0.1111111111111111,
              "#46039f"
             ],
             [
              0.2222222222222222,
              "#7201a8"
             ],
             [
              0.3333333333333333,
              "#9c179e"
             ],
             [
              0.4444444444444444,
              "#bd3786"
             ],
             [
              0.5555555555555556,
              "#d8576b"
             ],
             [
              0.6666666666666666,
              "#ed7953"
             ],
             [
              0.7777777777777778,
              "#fb9f3a"
             ],
             [
              0.8888888888888888,
              "#fdca26"
             ],
             [
              1,
              "#f0f921"
             ]
            ],
            "type": "surface"
           }
          ],
          "table": [
           {
            "cells": {
             "fill": {
              "color": "#EBF0F8"
             },
             "line": {
              "color": "white"
             }
            },
            "header": {
             "fill": {
              "color": "#C8D4E3"
             },
             "line": {
              "color": "white"
             }
            },
            "type": "table"
           }
          ]
         },
         "layout": {
          "annotationdefaults": {
           "arrowcolor": "#2a3f5f",
           "arrowhead": 0,
           "arrowwidth": 1
          },
          "autotypenumbers": "strict",
          "coloraxis": {
           "colorbar": {
            "outlinewidth": 0,
            "ticks": ""
           }
          },
          "colorscale": {
           "diverging": [
            [
             0,
             "#8e0152"
            ],
            [
             0.1,
             "#c51b7d"
            ],
            [
             0.2,
             "#de77ae"
            ],
            [
             0.3,
             "#f1b6da"
            ],
            [
             0.4,
             "#fde0ef"
            ],
            [
             0.5,
             "#f7f7f7"
            ],
            [
             0.6,
             "#e6f5d0"
            ],
            [
             0.7,
             "#b8e186"
            ],
            [
             0.8,
             "#7fbc41"
            ],
            [
             0.9,
             "#4d9221"
            ],
            [
             1,
             "#276419"
            ]
           ],
           "sequential": [
            [
             0,
             "#0d0887"
            ],
            [
             0.1111111111111111,
             "#46039f"
            ],
            [
             0.2222222222222222,
             "#7201a8"
            ],
            [
             0.3333333333333333,
             "#9c179e"
            ],
            [
             0.4444444444444444,
             "#bd3786"
            ],
            [
             0.5555555555555556,
             "#d8576b"
            ],
            [
             0.6666666666666666,
             "#ed7953"
            ],
            [
             0.7777777777777778,
             "#fb9f3a"
            ],
            [
             0.8888888888888888,
             "#fdca26"
            ],
            [
             1,
             "#f0f921"
            ]
           ],
           "sequentialminus": [
            [
             0,
             "#0d0887"
            ],
            [
             0.1111111111111111,
             "#46039f"
            ],
            [
             0.2222222222222222,
             "#7201a8"
            ],
            [
             0.3333333333333333,
             "#9c179e"
            ],
            [
             0.4444444444444444,
             "#bd3786"
            ],
            [
             0.5555555555555556,
             "#d8576b"
            ],
            [
             0.6666666666666666,
             "#ed7953"
            ],
            [
             0.7777777777777778,
             "#fb9f3a"
            ],
            [
             0.8888888888888888,
             "#fdca26"
            ],
            [
             1,
             "#f0f921"
            ]
           ]
          },
          "colorway": [
           "#636efa",
           "#EF553B",
           "#00cc96",
           "#ab63fa",
           "#FFA15A",
           "#19d3f3",
           "#FF6692",
           "#B6E880",
           "#FF97FF",
           "#FECB52"
          ],
          "font": {
           "color": "#2a3f5f"
          },
          "geo": {
           "bgcolor": "white",
           "lakecolor": "white",
           "landcolor": "#E5ECF6",
           "showlakes": true,
           "showland": true,
           "subunitcolor": "white"
          },
          "hoverlabel": {
           "align": "left"
          },
          "hovermode": "closest",
          "mapbox": {
           "style": "light"
          },
          "paper_bgcolor": "white",
          "plot_bgcolor": "#E5ECF6",
          "polar": {
           "angularaxis": {
            "gridcolor": "white",
            "linecolor": "white",
            "ticks": ""
           },
           "bgcolor": "#E5ECF6",
           "radialaxis": {
            "gridcolor": "white",
            "linecolor": "white",
            "ticks": ""
           }
          },
          "scene": {
           "xaxis": {
            "backgroundcolor": "#E5ECF6",
            "gridcolor": "white",
            "gridwidth": 2,
            "linecolor": "white",
            "showbackground": true,
            "ticks": "",
            "zerolinecolor": "white"
           },
           "yaxis": {
            "backgroundcolor": "#E5ECF6",
            "gridcolor": "white",
            "gridwidth": 2,
            "linecolor": "white",
            "showbackground": true,
            "ticks": "",
            "zerolinecolor": "white"
           },
           "zaxis": {
            "backgroundcolor": "#E5ECF6",
            "gridcolor": "white",
            "gridwidth": 2,
            "linecolor": "white",
            "showbackground": true,
            "ticks": "",
            "zerolinecolor": "white"
           }
          },
          "shapedefaults": {
           "line": {
            "color": "#2a3f5f"
           }
          },
          "ternary": {
           "aaxis": {
            "gridcolor": "white",
            "linecolor": "white",
            "ticks": ""
           },
           "baxis": {
            "gridcolor": "white",
            "linecolor": "white",
            "ticks": ""
           },
           "bgcolor": "#E5ECF6",
           "caxis": {
            "gridcolor": "white",
            "linecolor": "white",
            "ticks": ""
           }
          },
          "title": {
           "x": 0.05
          },
          "xaxis": {
           "automargin": true,
           "gridcolor": "white",
           "linecolor": "white",
           "ticks": "",
           "title": {
            "standoff": 15
           },
           "zerolinecolor": "white",
           "zerolinewidth": 2
          },
          "yaxis": {
           "automargin": true,
           "gridcolor": "white",
           "linecolor": "white",
           "ticks": "",
           "title": {
            "standoff": 15
           },
           "zerolinecolor": "white",
           "zerolinewidth": 2
          }
         }
        },
        "title": {
         "text": "Scatter Plot of Salaries"
        },
        "xaxis": {
         "anchor": "y",
         "domain": [
          0,
          1
         ],
         "title": {
          "text": "Grade"
         }
        },
        "yaxis": {
         "anchor": "x",
         "domain": [
          0,
          1
         ],
         "title": {
          "text": "Salary"
         }
        }
       }
      },
      "text/html": [
       "<div>                            <div id=\"2b0c5d01-3160-4f86-8c41-041f864ab337\" class=\"plotly-graph-div\" style=\"height:525px; width:100%;\"></div>            <script type=\"text/javascript\">                require([\"plotly\"], function(Plotly) {                    window.PLOTLYENV=window.PLOTLYENV || {};                                    if (document.getElementById(\"2b0c5d01-3160-4f86-8c41-041f864ab337\")) {                    Plotly.newPlot(                        \"2b0c5d01-3160-4f86-8c41-041f864ab337\",                        [{\"hovertemplate\":\"Grade=%{x}<br>Current_Base_Pay=%{y}<extra></extra>\",\"legendgroup\":\"\",\"marker\":{\"color\":\"#636efa\",\"symbol\":\"circle\"},\"mode\":\"markers\",\"name\":\"\",\"orientation\":\"v\",\"showlegend\":false,\"x\":[\"Lead Engineer\",\"Senior Software Engineer\",\"Lead Engineer\",\"Software Engineer\",\"Software Engineer\",\"Senior Software Engineer\",\"Lead Engineer\",\"Lead Engineer\",\"Senior Software Engineer\",\"Lead Engineer\",\"Senior Software Engineer\",\"Software Engineer\",\"Software Engineer\",\"Software Engineer\",\"Lead Engineer\",\"Software Engineer\",\"Lead Engineer\",\"Senior Software Engineer\",\"Senior Software Engineer\",\"Lead Engineer\",\"Senior Software Engineer\",\"Senior Software Engineer\",\"Software Engineer\",\"Software Engineer\",\"Lead Engineer\",\"Software Engineer\",\"Senior Software Engineer\",\"Lead Engineer\",\"Software Engineer\",\"Senior Software Engineer\",\"Software Engineer\",\"Software Engineer\",\"Software Engineer\",\"Software Engineer\",\"Software Engineer\",\"Lead Engineer\",\"Senior Software Engineer\",\"Senior Software Engineer\",\"Senior Software Engineer\",\"Software Engineer\",\"Lead Engineer\",\"Senior Software Engineer\",\"Senior Software Engineer\",\"Senior Software Engineer\",\"Senior Software Engineer\",\"Senior Software Engineer\",\"Lead Engineer\",\"Lead Engineer\",\"Software Engineer\",\"Lead Engineer\",\"Lead Engineer\",\"Lead Engineer\",\"Software Engineer\",\"Software Engineer\",\"Software Engineer\",\"Software Engineer\",\"Software Engineer\",\"Senior Software Engineer\",\"Senior Software Engineer\",\"Software Engineer\",\"Senior Software Engineer\",\"Senior Software Engineer\",\"Software Engineer\",\"Senior Software Engineer\",\"Senior Software Engineer\",\"Senior Software Engineer\",\"Software Engineer\",\"Senior Software Engineer\",\"Software Engineer\",\"Software Engineer\",\"Senior Software Engineer\",\"Senior Software Engineer\",\"Software Engineer\",\"Software Engineer\",\"Software Engineer\",\"Software Engineer\",\"Senior Software Engineer\",\"Senior Software Engineer\",\"Senior Software Engineer\",\"Software Engineer\",\"Software Engineer\",\"Senior Software Engineer\",\"Senior Software Engineer\",\"Senior Software Engineer\",\"Senior Software Engineer\",\"Software Engineer\",\"Software Engineer\",\"Senior Software Engineer\",\"Senior Software Engineer\",\"Senior Software Engineer\",\"Software Engineer\",\"Software Engineer\",\"Senior Software Engineer\",\"Software Engineer\",\"Senior Software Engineer\",\"Senior Software Engineer\",\"Software Engineer\",\"Senior Software Engineer\",\"Software Engineer\",\"Software Engineer\",\"Software Engineer\",\"Software Engineer\",\"Senior Software Engineer\",\"Senior Software Engineer\",\"Senior Software Engineer\",\"Software Engineer\",\"Software Engineer\",\"Software Engineer\",\"Senior Software Engineer\",\"Software Engineer\",\"Senior Software Engineer\",\"Senior Software Engineer\",\"Senior Software Engineer\",\"Senior Software Engineer\",\"Senior Software Engineer\",\"Software Engineer\",\"Software Engineer\",\"Senior Software Engineer\",\"Software Engineer\",\"Software Engineer\",\"Senior Software Engineer\",\"Software Engineer\",\"Software Engineer\",\"Senior Software Engineer\",\"Senior Software Engineer\",\"Software Engineer\",\"Senior Software Engineer\",\"Software Engineer\",\"Senior Software Engineer\",\"Software Engineer\",\"Software Engineer\",\"Software Engineer\",\"Senior Software Engineer\",\"Software Engineer\",\"Senior Software Engineer\",\"Senior Software Engineer\",\"Senior Software Engineer\",\"Software Engineer\",\"Software Engineer\",\"Software Engineer\",\"Senior Software Engineer\",\"Senior Software Engineer\",\"Senior Software Engineer\",\"Senior Software Engineer\",\"Software Engineer\",\"Senior Software Engineer\",\"Software Engineer\",\"Senior Software Engineer\",\"Software Engineer\",\"Senior Software Engineer\",\"Senior Software Engineer\",\"Software Engineer\",\"Senior Software Engineer\",\"Senior Software Engineer\",\"Senior Software Engineer\",\"Senior Software Engineer\",\"Software Engineer\",\"Senior Software Engineer\",\"Software Engineer\",\"Senior Software Engineer\",\"Senior Software Engineer\",\"Software Engineer\",\"Software Engineer\",\"Senior Software Engineer\",\"Senior Software Engineer\",\"Senior Software Engineer\",\"Software Engineer\",\"Software Engineer\",\"Senior Software Engineer\",\"Software Engineer\",\"Senior Software Engineer\",\"Software Engineer\",\"Software Engineer\",\"Software Engineer\",\"Software Engineer\",\"Senior Software Engineer\",\"Senior Software Engineer\",\"Senior Software Engineer\",\"Senior Software Engineer\",\"Software Engineer\",\"Senior Software Engineer\",\"Senior Software Engineer\",\"Software Engineer\",\"Software Engineer\",\"Senior Software Engineer\",\"Software Engineer\",\"Senior Software Engineer\",\"Software Engineer\",\"Senior Software Engineer\",\"Senior Software Engineer\",\"Software Engineer\",\"Senior Software Engineer\",\"Senior Software Engineer\",\"Software Engineer\",\"Senior Software Engineer\",\"Software Engineer\",\"Software Engineer\",\"Software Engineer\",\"Software Engineer\",\"Senior Software Engineer\",\"Senior Software Engineer\",\"Senior Software Engineer\",\"Senior Software Engineer\",\"Senior Software Engineer\",\"Senior Software Engineer\",\"Senior Software Engineer\",\"Senior Software Engineer\",\"Senior Software Engineer\",\"Software Engineer\",\"Senior Software Engineer\",\"Software Engineer\",\"Software Engineer\",\"Senior Software Engineer\",\"Software Engineer\",\"Software Engineer\",\"Software Engineer\",\"Software Engineer\",\"Software Engineer\",\"Senior Software Engineer\",\"Lead Engineer\",\"Senior Software Engineer\",\"Lead Engineer\",\"Senior Software Engineer\",\"Software Engineer\",\"Software Engineer\",\"Software Engineer\",\"Lead Engineer\",\"Software Engineer\",\"Associate\",\"Software Engineer\",\"Software Engineer\",\"Associate\",\"Associate\",\"Lead Engineer\",\"Associate\",\"Associate\",\"Associate\",\"Senior Software Engineer\",\"Software Engineer\",\"Lead Engineer\",\"Associate\",\"Associate\",\"Associate\",\"Software Engineer\",\"Associate\",\"Software Engineer\",\"Senior Software Engineer\",\"Associate\",\"Associate\",\"Senior Software Engineer\",\"Lead Engineer\",\"Associate\",\"Associate\",\"Associate\",\"Lead Engineer\",\"Senior Software Engineer\",\"Lead Engineer\",\"Software Engineer\",\"Senior Software Engineer\",\"Software Engineer\",\"Associate\",\"Associate\",\"Lead Engineer\",\"Associate\",\"Associate\",\"Associate\",\"Associate\",\"Software Engineer\",\"Software Engineer\",\"Associate\",\"Software Engineer\",\"Associate\",\"Senior Software Engineer\",\"Senior Software Engineer\",\"Associate\",\"Associate\",\"Lead Engineer\",\"Senior Software Engineer\",\"Associate\",\"Associate\",\"Associate\",\"Software Engineer\",\"Associate\",\"Associate\",\"Associate\",\"Software Engineer\",\"Associate\",\"Lead Engineer\",\"Lead Engineer\",\"Senior Software Engineer\",\"Associate\",\"Senior Software Engineer\",\"Associate\",\"Associate\",\"Senior Software Engineer\",\"Associate\",\"Associate\",\"Associate\",\"Associate\",\"Associate\",\"Lead Engineer\",\"Lead Engineer\",\"Software Engineer\",\"Senior Software Engineer\",\"Software Engineer\",\"Software Engineer\",\"Lead Engineer\",\"Lead Engineer\",\"Lead Engineer\",\"Lead Engineer\",\"Software Engineer\",\"Associate\",\"Senior Software Engineer\",\"Software Engineer\",\"Software Engineer\",\"Senior Software Engineer\",\"Associate\",\"Associate\",\"Software Engineer\",\"Associate\",\"Associate\",\"Lead Engineer\",\"Lead Engineer\",\"Software Engineer\",\"Senior Software Engineer\",\"Software Engineer\",\"Associate\",\"Software Engineer\",\"Software Engineer\",\"Associate\",\"Software Engineer\",\"Associate\",\"Associate\",\"Associate\",\"Software Engineer\",\"Software Engineer\",\"Associate\",\"Associate\",\"Software Engineer\",\"Associate\",\"Software Engineer\",\"Software Engineer\",\"Software Engineer\",\"Associate\",\"Associate\",\"Associate\",\"Software Engineer\",\"Associate\",\"Associate\",\"Associate\",\"Associate\",\"Associate\",\"Software Engineer\",\"Associate\",\"Software Engineer\",\"Software Engineer\",\"Associate\",\"Software Engineer\",\"Software Engineer\",\"Software Engineer\",\"Software Engineer\",\"Software Engineer\",\"Software Engineer\",\"Software Engineer\",\"Associate\",\"Associate\",\"Associate\",\"Software Engineer\",\"Software Engineer\",\"Software Engineer\",\"Software Engineer\",\"Associate\",\"Software Engineer\",\"Associate\",\"Associate\",\"Associate\",\"Software Engineer\",\"Software Engineer\",\"Associate\",\"Software Engineer\",\"Software Engineer\",\"Software Engineer\",\"Software Engineer\",\"Associate\",\"Associate\",\"Associate\",\"Software Engineer\",\"Associate\",\"Software Engineer\",\"Software Engineer\",\"Associate\",\"Software Engineer\",\"Associate\",\"Software Engineer\",\"Associate\",\"Software Engineer\",\"Software Engineer\",\"Associate\",\"Associate\",\"Software Engineer\",\"Associate\",\"Software Engineer\",\"Associate\",\"Associate\",\"Software Engineer\",\"Associate\",\"Software Engineer\",\"Software Engineer\",\"Associate\",\"Associate\",\"Software Engineer\",\"Associate\",\"Associate\",\"Software Engineer\",\"Software Engineer\",\"Software Engineer\",\"Associate\",\"Associate\",\"Associate\",\"Software Engineer\",\"Associate\",\"Associate\",\"Software Engineer\",\"Software Engineer\",\"Software Engineer\",\"Associate\",\"Software Engineer\",\"Associate\",\"Software Engineer\",\"Senior Software Engineer\",\"Lead Engineer\",\"Lead Engineer\",\"Associate\",\"Software Engineer\",\"Senior Software Engineer\",\"Lead Engineer\",\"Senior Software Engineer\",\"Software Engineer\",\"Senior Software Engineer\",\"Senior Software Engineer\",\"Lead Engineer\",\"Software Engineer\",\"Lead Engineer\",\"Lead Engineer\",\"Senior Software Engineer\",\"Senior Software Engineer\",\"Associate\",\"Associate\",\"Associate\",\"Associate\",\"Lead Engineer\",\"Software Engineer\",\"Senior Software Engineer\",\"Lead Engineer\",\"Senior Software Engineer\",\"Senior Software Engineer\",\"Lead Engineer\",\"Senior Software Engineer\",\"Senior Software Engineer\",\"Software Engineer\",\"Senior Software Engineer\",\"Associate\",\"Associate\",\"Associate\",\"Senior Software Engineer\",\"Lead Engineer\",\"Lead Engineer\",\"Associate\",\"Associate\",\"Senior Software Engineer\",\"Senior Software Engineer\",\"Software Engineer\",\"Lead Engineer\",\"Senior Software Engineer\",\"Senior Software Engineer\",\"Lead Engineer\",\"Lead Engineer\",\"Lead Engineer\",\"Associate\",\"Associate\",\"Senior Software Engineer\",\"Lead Engineer\",\"Senior Software Engineer\",\"Software Engineer\",\"Senior Software Engineer\",\"Senior Software Engineer\",\"Senior Software Engineer\",\"Associate\",\"Associate\",\"Senior Software Engineer\",\"Senior Software Engineer\",\"Associate\",\"Lead Engineer\",\"Lead Engineer\",\"Senior Software Engineer\",\"Software Engineer\",\"Software Engineer\",\"Lead Engineer\",\"Senior Software Engineer\",\"Senior Software Engineer\",\"Software Engineer\",\"Lead Engineer\",\"Senior Software Engineer\",\"Lead Engineer\",\"Senior Software Engineer\",\"Senior Software Engineer\",\"Lead Engineer\",\"Associate\",\"Software Engineer\",\"Software Engineer\",\"Senior Software Engineer\",\"Associate\",\"Associate\",\"Senior Software Engineer\",\"Lead Engineer\",\"Lead Engineer\",\"Lead Engineer\",\"Lead Engineer\",\"Senior Software Engineer\",\"Lead Engineer\",\"Lead Engineer\",\"Lead Engineer\",\"Senior Software Engineer\",\"Software Engineer\",\"Lead Engineer\",\"Lead Engineer\",\"Lead Engineer\",\"Lead Engineer\",\"Lead Engineer\",\"Senior Software Engineer\",\"Associate\",\"Associate\",\"Software Engineer\",\"Lead Engineer\",\"Lead Engineer\",\"Associate\",\"Senior Software Engineer\",\"Lead Engineer\",\"Software Engineer\",\"Lead Engineer\",\"Lead Engineer\",\"Lead Engineer\",\"Lead Engineer\",\"Senior Software Engineer\",\"Lead Engineer\",\"Lead Engineer\",\"Software Engineer\",\"Lead Engineer\",\"Senior Software Engineer\",\"Associate\",\"Associate\",\"Lead Engineer\",\"Associate\",\"Associate\",\"Lead Engineer\",\"Lead Engineer\",\"Senior Software Engineer\",\"Lead Engineer\",\"Senior Software Engineer\",\"Associate\",\"Associate\"],\"xaxis\":\"x\",\"y\":[3219629,2530100,3330113,2767233,2023602,2375264,3026382,3265078,2433884,2554192,2164358,2002191,3204745,2266459,2788632,2837953,2781013,2870337,2600259,3022640,2484385,2899759,2660394,2506601,3280060,2646876,2013768,3613374,2371527,2244047,2314793,2551156,2120746,2491029,2369640,3386141,2874680,2592622,2814168,2317381,3201899,2010923,2773840,2156985,2709348,2761146,4523720,4257572,2446651,3222322,4301676,3522088,2053752,2782831,2012384,2061800,2758975,1849782,2120608,1924555,2277182,1832035,2591372,2684159,2018421,1917677,1846972,1922522,2177967,1781139,2397864,2595992,2275216,2365640,1946075,1914211,2412462,2486190,2636270,1989941,1784500,2332846,2394434,1933658,1789723,1929879,2402792,2584060,2223603,2729726,2784748,2045376,2717482,2323814,2723412,1916028,2737911,2483244,1830873,2667857,1882249,2768806,1797188,2248665,2607492,2133816,2536270,2166999,2754693,1705163,2385509,2669020,1920125,2489769,2272877,2295139,2673045,2586800,2562450,2168331,2424314,2249459,2426130,2557522,1810476,2178084,2690518,2501869,2512061,2112051,2460143,2766429,2402395,2630167,1873908,2052276,1727925,2161860,2580481,2276052,2461517,1765745,1778345,2617523,2415300,2364215,1778182,2538847,2591155,1881811,2065467,2014046,2676550,2535770,2506448,2261169,2509817,2197526,2442367,2300308,2769095,1798054,1702497,2709196,1738362,2665154,1936322,2748924,1938033,2169685,2395030,1744859,1778758,1962851,2620312,2004431,1766153,2611748,2560963,2451788,2165541,1962052,2687219,2285362,2147227,2272984,2132497,2306251,2596309,1840238,2188048,2649986,2207158,2567734,2447937,2362730,2487663,2133927,2354269,2328126,2383742,1742480,2347060,2302729,2203526,1815539,2282156,1902309,2084614,2689066,2396134,1870670,1862747,2603069,2257449,2642488,2121852,2306162,1958015,1963506,2276636,2016381,2535381,2193874,2040919,1955689,2491501,2644214,1823311,2461133,2148839,1323693,1480277,2522673,1412183,1664712,1302630,2281095,2387601,2090081,1619817,1320057,1894695,2313064,1758818,2169993,2034463,1754622,1350826,2391356,2656139,1493839,1627035,1822828,2511992,2634770,2022613,2031180,2169310,2051079,1716366,1491546,2662778,1883535,1204937,1826832,1818397,2030256,2321039,1399708,2385751,1704581,2134638,1963299,1416127,1875893,1991988,2247415,1355516,1862723,1394141,1907081,1398330,1855064,2250947,2050818,1223960,2409283,2364653,2682766,1266891,2471680,1864931,1289207,2192821,1334377,1849634,1324071,1443682,1407935,1956350,2635765,2568338,2062877,2445031,2101420,3549642,2150302,1901767,2155508,2043797,1648495,2282578,2693038,2107197,3163803,1273903,1640354,2694107,1350653,1253899,2588358,1914897,1967380,2497741,1664587,1702374,1439987,1771805,1671244,1564729,2466255,1854231,1794812,1423896,1838995,1443218,1796603,1884421,1528385,1425683,1411618,1588428,1673905,1685601,1807866,1614263,1670145,1621818,1565168,1596986,1579176,1529653,1463827,1808292,1814139,1790398,1238995,1612309,1608214,1736485,1814024,2881846,1838995,1489625,1748531,1493570,1741341,1531610,1731138,1439130,1762219,1784806,1772655,1712390,1483401,1629116,1664361,1798039,1749219,1470235,1793190,1626545,1791647,1474189,1775978,1598106,1538068,2754187,1838995,1703711,1837510,1572785,1494084,1663091,1476447,1582350,1847361,1480805,1843093,1759984,1516885,1642536,1506314,1674416,1460085,1660905,1838995,1827566,1600954,1535843,1406455,1560397,1875493,1822292,1798339,1518047,1700238,1631964,1657399,1701583,1589406,1663294,1897381,1871551,1681744,1569249,1700143,1833388,2736130,2358149,2905022,1000000,2136554,2595460,2413382,2719685,1996164,2779188,2849920,2583083,2044695,2828097,2864295,2847838,2667400,1000000,1000000,1000000,1000000,2759521,1908406,2983450,2810561,2719576,2895282,2361708,2736819,2446098,1775801,2675196,1000000,1000000,1000000,2927483,2552811,2997281,1000000,1000000,2681279,2909934,2319764,2856410,2337388,2640002,2787317,2592423,2751288,1000000,1000000,2866715,2855852,2848106,1883073,2786341,2614175,2964974,1000000,1000000,2723452,2749692,1000000,2334555,2918554,2395053,1674621,1524726,2462077,2576618,2529300,1665224,2714754,2413297,2903310,2540315,2564313,2346140,1000000,1988364,2046050,2808868,1000000,1000000,2832506,2882070,2516743,2865947,2497870,2591548,2766722,2361455,2936918,2509632,1874451,2738052,2403683,2817624,2693538,2569701,2570659,1000000,1000000,1551814,2671697,2426971,1000000,2696825,2861100,1651829,2510032,2839965,2505254,2548422,2572475,2753774,2700966,2071032,2582701,2466959,2025780,2029415,2906500,1000000,1700000,2459070,2747441,2697410,2467364,2397438,1000000,1000000],\"yaxis\":\"y\",\"type\":\"scatter\",\"textposition\":\"top center\"}],                        {\"template\":{\"data\":{\"bar\":[{\"error_x\":{\"color\":\"#2a3f5f\"},\"error_y\":{\"color\":\"#2a3f5f\"},\"marker\":{\"line\":{\"color\":\"#E5ECF6\",\"width\":0.5},\"pattern\":{\"fillmode\":\"overlay\",\"size\":10,\"solidity\":0.2}},\"type\":\"bar\"}],\"barpolar\":[{\"marker\":{\"line\":{\"color\":\"#E5ECF6\",\"width\":0.5},\"pattern\":{\"fillmode\":\"overlay\",\"size\":10,\"solidity\":0.2}},\"type\":\"barpolar\"}],\"carpet\":[{\"aaxis\":{\"endlinecolor\":\"#2a3f5f\",\"gridcolor\":\"white\",\"linecolor\":\"white\",\"minorgridcolor\":\"white\",\"startlinecolor\":\"#2a3f5f\"},\"baxis\":{\"endlinecolor\":\"#2a3f5f\",\"gridcolor\":\"white\",\"linecolor\":\"white\",\"minorgridcolor\":\"white\",\"startlinecolor\":\"#2a3f5f\"},\"type\":\"carpet\"}],\"choropleth\":[{\"colorbar\":{\"outlinewidth\":0,\"ticks\":\"\"},\"type\":\"choropleth\"}],\"contour\":[{\"colorbar\":{\"outlinewidth\":0,\"ticks\":\"\"},\"colorscale\":[[0.0,\"#0d0887\"],[0.1111111111111111,\"#46039f\"],[0.2222222222222222,\"#7201a8\"],[0.3333333333333333,\"#9c179e\"],[0.4444444444444444,\"#bd3786\"],[0.5555555555555556,\"#d8576b\"],[0.6666666666666666,\"#ed7953\"],[0.7777777777777778,\"#fb9f3a\"],[0.8888888888888888,\"#fdca26\"],[1.0,\"#f0f921\"]],\"type\":\"contour\"}],\"contourcarpet\":[{\"colorbar\":{\"outlinewidth\":0,\"ticks\":\"\"},\"type\":\"contourcarpet\"}],\"heatmap\":[{\"colorbar\":{\"outlinewidth\":0,\"ticks\":\"\"},\"colorscale\":[[0.0,\"#0d0887\"],[0.1111111111111111,\"#46039f\"],[0.2222222222222222,\"#7201a8\"],[0.3333333333333333,\"#9c179e\"],[0.4444444444444444,\"#bd3786\"],[0.5555555555555556,\"#d8576b\"],[0.6666666666666666,\"#ed7953\"],[0.7777777777777778,\"#fb9f3a\"],[0.8888888888888888,\"#fdca26\"],[1.0,\"#f0f921\"]],\"type\":\"heatmap\"}],\"heatmapgl\":[{\"colorbar\":{\"outlinewidth\":0,\"ticks\":\"\"},\"colorscale\":[[0.0,\"#0d0887\"],[0.1111111111111111,\"#46039f\"],[0.2222222222222222,\"#7201a8\"],[0.3333333333333333,\"#9c179e\"],[0.4444444444444444,\"#bd3786\"],[0.5555555555555556,\"#d8576b\"],[0.6666666666666666,\"#ed7953\"],[0.7777777777777778,\"#fb9f3a\"],[0.8888888888888888,\"#fdca26\"],[1.0,\"#f0f921\"]],\"type\":\"heatmapgl\"}],\"histogram\":[{\"marker\":{\"pattern\":{\"fillmode\":\"overlay\",\"size\":10,\"solidity\":0.2}},\"type\":\"histogram\"}],\"histogram2d\":[{\"colorbar\":{\"outlinewidth\":0,\"ticks\":\"\"},\"colorscale\":[[0.0,\"#0d0887\"],[0.1111111111111111,\"#46039f\"],[0.2222222222222222,\"#7201a8\"],[0.3333333333333333,\"#9c179e\"],[0.4444444444444444,\"#bd3786\"],[0.5555555555555556,\"#d8576b\"],[0.6666666666666666,\"#ed7953\"],[0.7777777777777778,\"#fb9f3a\"],[0.8888888888888888,\"#fdca26\"],[1.0,\"#f0f921\"]],\"type\":\"histogram2d\"}],\"histogram2dcontour\":[{\"colorbar\":{\"outlinewidth\":0,\"ticks\":\"\"},\"colorscale\":[[0.0,\"#0d0887\"],[0.1111111111111111,\"#46039f\"],[0.2222222222222222,\"#7201a8\"],[0.3333333333333333,\"#9c179e\"],[0.4444444444444444,\"#bd3786\"],[0.5555555555555556,\"#d8576b\"],[0.6666666666666666,\"#ed7953\"],[0.7777777777777778,\"#fb9f3a\"],[0.8888888888888888,\"#fdca26\"],[1.0,\"#f0f921\"]],\"type\":\"histogram2dcontour\"}],\"mesh3d\":[{\"colorbar\":{\"outlinewidth\":0,\"ticks\":\"\"},\"type\":\"mesh3d\"}],\"parcoords\":[{\"line\":{\"colorbar\":{\"outlinewidth\":0,\"ticks\":\"\"}},\"type\":\"parcoords\"}],\"pie\":[{\"automargin\":true,\"type\":\"pie\"}],\"scatter\":[{\"marker\":{\"colorbar\":{\"outlinewidth\":0,\"ticks\":\"\"}},\"type\":\"scatter\"}],\"scatter3d\":[{\"line\":{\"colorbar\":{\"outlinewidth\":0,\"ticks\":\"\"}},\"marker\":{\"colorbar\":{\"outlinewidth\":0,\"ticks\":\"\"}},\"type\":\"scatter3d\"}],\"scattercarpet\":[{\"marker\":{\"colorbar\":{\"outlinewidth\":0,\"ticks\":\"\"}},\"type\":\"scattercarpet\"}],\"scattergeo\":[{\"marker\":{\"colorbar\":{\"outlinewidth\":0,\"ticks\":\"\"}},\"type\":\"scattergeo\"}],\"scattergl\":[{\"marker\":{\"colorbar\":{\"outlinewidth\":0,\"ticks\":\"\"}},\"type\":\"scattergl\"}],\"scattermapbox\":[{\"marker\":{\"colorbar\":{\"outlinewidth\":0,\"ticks\":\"\"}},\"type\":\"scattermapbox\"}],\"scatterpolar\":[{\"marker\":{\"colorbar\":{\"outlinewidth\":0,\"ticks\":\"\"}},\"type\":\"scatterpolar\"}],\"scatterpolargl\":[{\"marker\":{\"colorbar\":{\"outlinewidth\":0,\"ticks\":\"\"}},\"type\":\"scatterpolargl\"}],\"scatterternary\":[{\"marker\":{\"colorbar\":{\"outlinewidth\":0,\"ticks\":\"\"}},\"type\":\"scatterternary\"}],\"surface\":[{\"colorbar\":{\"outlinewidth\":0,\"ticks\":\"\"},\"colorscale\":[[0.0,\"#0d0887\"],[0.1111111111111111,\"#46039f\"],[0.2222222222222222,\"#7201a8\"],[0.3333333333333333,\"#9c179e\"],[0.4444444444444444,\"#bd3786\"],[0.5555555555555556,\"#d8576b\"],[0.6666666666666666,\"#ed7953\"],[0.7777777777777778,\"#fb9f3a\"],[0.8888888888888888,\"#fdca26\"],[1.0,\"#f0f921\"]],\"type\":\"surface\"}],\"table\":[{\"cells\":{\"fill\":{\"color\":\"#EBF0F8\"},\"line\":{\"color\":\"white\"}},\"header\":{\"fill\":{\"color\":\"#C8D4E3\"},\"line\":{\"color\":\"white\"}},\"type\":\"table\"}]},\"layout\":{\"annotationdefaults\":{\"arrowcolor\":\"#2a3f5f\",\"arrowhead\":0,\"arrowwidth\":1},\"autotypenumbers\":\"strict\",\"coloraxis\":{\"colorbar\":{\"outlinewidth\":0,\"ticks\":\"\"}},\"colorscale\":{\"diverging\":[[0,\"#8e0152\"],[0.1,\"#c51b7d\"],[0.2,\"#de77ae\"],[0.3,\"#f1b6da\"],[0.4,\"#fde0ef\"],[0.5,\"#f7f7f7\"],[0.6,\"#e6f5d0\"],[0.7,\"#b8e186\"],[0.8,\"#7fbc41\"],[0.9,\"#4d9221\"],[1,\"#276419\"]],\"sequential\":[[0.0,\"#0d0887\"],[0.1111111111111111,\"#46039f\"],[0.2222222222222222,\"#7201a8\"],[0.3333333333333333,\"#9c179e\"],[0.4444444444444444,\"#bd3786\"],[0.5555555555555556,\"#d8576b\"],[0.6666666666666666,\"#ed7953\"],[0.7777777777777778,\"#fb9f3a\"],[0.8888888888888888,\"#fdca26\"],[1.0,\"#f0f921\"]],\"sequentialminus\":[[0.0,\"#0d0887\"],[0.1111111111111111,\"#46039f\"],[0.2222222222222222,\"#7201a8\"],[0.3333333333333333,\"#9c179e\"],[0.4444444444444444,\"#bd3786\"],[0.5555555555555556,\"#d8576b\"],[0.6666666666666666,\"#ed7953\"],[0.7777777777777778,\"#fb9f3a\"],[0.8888888888888888,\"#fdca26\"],[1.0,\"#f0f921\"]]},\"colorway\":[\"#636efa\",\"#EF553B\",\"#00cc96\",\"#ab63fa\",\"#FFA15A\",\"#19d3f3\",\"#FF6692\",\"#B6E880\",\"#FF97FF\",\"#FECB52\"],\"font\":{\"color\":\"#2a3f5f\"},\"geo\":{\"bgcolor\":\"white\",\"lakecolor\":\"white\",\"landcolor\":\"#E5ECF6\",\"showlakes\":true,\"showland\":true,\"subunitcolor\":\"white\"},\"hoverlabel\":{\"align\":\"left\"},\"hovermode\":\"closest\",\"mapbox\":{\"style\":\"light\"},\"paper_bgcolor\":\"white\",\"plot_bgcolor\":\"#E5ECF6\",\"polar\":{\"angularaxis\":{\"gridcolor\":\"white\",\"linecolor\":\"white\",\"ticks\":\"\"},\"bgcolor\":\"#E5ECF6\",\"radialaxis\":{\"gridcolor\":\"white\",\"linecolor\":\"white\",\"ticks\":\"\"}},\"scene\":{\"xaxis\":{\"backgroundcolor\":\"#E5ECF6\",\"gridcolor\":\"white\",\"gridwidth\":2,\"linecolor\":\"white\",\"showbackground\":true,\"ticks\":\"\",\"zerolinecolor\":\"white\"},\"yaxis\":{\"backgroundcolor\":\"#E5ECF6\",\"gridcolor\":\"white\",\"gridwidth\":2,\"linecolor\":\"white\",\"showbackground\":true,\"ticks\":\"\",\"zerolinecolor\":\"white\"},\"zaxis\":{\"backgroundcolor\":\"#E5ECF6\",\"gridcolor\":\"white\",\"gridwidth\":2,\"linecolor\":\"white\",\"showbackground\":true,\"ticks\":\"\",\"zerolinecolor\":\"white\"}},\"shapedefaults\":{\"line\":{\"color\":\"#2a3f5f\"}},\"ternary\":{\"aaxis\":{\"gridcolor\":\"white\",\"linecolor\":\"white\",\"ticks\":\"\"},\"baxis\":{\"gridcolor\":\"white\",\"linecolor\":\"white\",\"ticks\":\"\"},\"bgcolor\":\"#E5ECF6\",\"caxis\":{\"gridcolor\":\"white\",\"linecolor\":\"white\",\"ticks\":\"\"}},\"title\":{\"x\":0.05},\"xaxis\":{\"automargin\":true,\"gridcolor\":\"white\",\"linecolor\":\"white\",\"ticks\":\"\",\"title\":{\"standoff\":15},\"zerolinecolor\":\"white\",\"zerolinewidth\":2},\"yaxis\":{\"automargin\":true,\"gridcolor\":\"white\",\"linecolor\":\"white\",\"ticks\":\"\",\"title\":{\"standoff\":15},\"zerolinecolor\":\"white\",\"zerolinewidth\":2}}},\"xaxis\":{\"anchor\":\"y\",\"domain\":[0.0,1.0],\"title\":{\"text\":\"Grade\"}},\"yaxis\":{\"anchor\":\"x\",\"domain\":[0.0,1.0],\"title\":{\"text\":\"Salary\"}},\"legend\":{\"tracegroupgap\":0},\"title\":{\"text\":\"Scatter Plot of Salaries\"}},                        {\"responsive\": true}                    ).then(function(){\n",
       "                            \n",
       "var gd = document.getElementById('2b0c5d01-3160-4f86-8c41-041f864ab337');\n",
       "var x = new MutationObserver(function (mutations, observer) {{\n",
       "        var display = window.getComputedStyle(gd).display;\n",
       "        if (!display || display === 'none') {{\n",
       "            console.log([gd, 'removed!']);\n",
       "            Plotly.purge(gd);\n",
       "            observer.disconnect();\n",
       "        }}\n",
       "}});\n",
       "\n",
       "// Listen for the removal of the full notebook cells\n",
       "var notebookContainer = gd.closest('#notebook-container');\n",
       "if (notebookContainer) {{\n",
       "    x.observe(notebookContainer, {childList: true});\n",
       "}}\n",
       "\n",
       "// Listen for the clearing of the current output cell\n",
       "var outputEl = gd.closest('.output');\n",
       "if (outputEl) {{\n",
       "    x.observe(outputEl, {childList: true});\n",
       "}}\n",
       "\n",
       "                        })                };                });            </script>        </div>"
      ]
     },
     "metadata": {},
     "output_type": "display_data"
    }
   ],
   "source": [
    "fig = px.scatter(df, x='Grade', y='Current_Base_Pay', title='Scatter Plot of Salaries')\n",
    "fig.update_traces(textposition='top center') \n",
    "fig.update_layout(yaxis_title='Salary')\n",
    "fig.show()"
   ]
  },
  {
   "cell_type": "code",
   "execution_count": 66,
   "id": "b1df8b78",
   "metadata": {},
   "outputs": [],
   "source": [
    "group_1=df.groupby(by=['Additional_Bonus','Rating'])['unique_ID'].count().reset_index(name='Counts').sort_values(by='Counts', ascending=False)"
   ]
  },
  {
   "cell_type": "code",
   "execution_count": 67,
   "id": "9c3ed664",
   "metadata": {},
   "outputs": [
    {
     "data": {
      "text/html": [
       "<div>\n",
       "<style scoped>\n",
       "    .dataframe tbody tr th:only-of-type {\n",
       "        vertical-align: middle;\n",
       "    }\n",
       "\n",
       "    .dataframe tbody tr th {\n",
       "        vertical-align: top;\n",
       "    }\n",
       "\n",
       "    .dataframe thead th {\n",
       "        text-align: right;\n",
       "    }\n",
       "</style>\n",
       "<table border=\"1\" class=\"dataframe\">\n",
       "  <thead>\n",
       "    <tr style=\"text-align: right;\">\n",
       "      <th></th>\n",
       "      <th>Additional_Bonus</th>\n",
       "      <th>Rating</th>\n",
       "      <th>Counts</th>\n",
       "    </tr>\n",
       "  </thead>\n",
       "  <tbody>\n",
       "    <tr>\n",
       "      <th>0</th>\n",
       "      <td>0</td>\n",
       "      <td>6</td>\n",
       "      <td>112</td>\n",
       "    </tr>\n",
       "    <tr>\n",
       "      <th>2</th>\n",
       "      <td>0</td>\n",
       "      <td>8</td>\n",
       "      <td>69</td>\n",
       "    </tr>\n",
       "    <tr>\n",
       "      <th>1</th>\n",
       "      <td>0</td>\n",
       "      <td>7</td>\n",
       "      <td>65</td>\n",
       "    </tr>\n",
       "    <tr>\n",
       "      <th>4</th>\n",
       "      <td>0</td>\n",
       "      <td>10</td>\n",
       "      <td>61</td>\n",
       "    </tr>\n",
       "    <tr>\n",
       "      <th>3</th>\n",
       "      <td>0</td>\n",
       "      <td>9</td>\n",
       "      <td>57</td>\n",
       "    </tr>\n",
       "    <tr>\n",
       "      <th>9</th>\n",
       "      <td>20000</td>\n",
       "      <td>7</td>\n",
       "      <td>20</td>\n",
       "    </tr>\n",
       "    <tr>\n",
       "      <th>18</th>\n",
       "      <td>50000</td>\n",
       "      <td>8</td>\n",
       "      <td>20</td>\n",
       "    </tr>\n",
       "    <tr>\n",
       "      <th>20</th>\n",
       "      <td>50000</td>\n",
       "      <td>10</td>\n",
       "      <td>20</td>\n",
       "    </tr>\n",
       "    <tr>\n",
       "      <th>19</th>\n",
       "      <td>50000</td>\n",
       "      <td>9</td>\n",
       "      <td>19</td>\n",
       "    </tr>\n",
       "    <tr>\n",
       "      <th>11</th>\n",
       "      <td>20000</td>\n",
       "      <td>9</td>\n",
       "      <td>17</td>\n",
       "    </tr>\n",
       "    <tr>\n",
       "      <th>17</th>\n",
       "      <td>50000</td>\n",
       "      <td>7</td>\n",
       "      <td>17</td>\n",
       "    </tr>\n",
       "    <tr>\n",
       "      <th>12</th>\n",
       "      <td>20000</td>\n",
       "      <td>10</td>\n",
       "      <td>16</td>\n",
       "    </tr>\n",
       "    <tr>\n",
       "      <th>13</th>\n",
       "      <td>25000</td>\n",
       "      <td>7</td>\n",
       "      <td>12</td>\n",
       "    </tr>\n",
       "    <tr>\n",
       "      <th>14</th>\n",
       "      <td>25000</td>\n",
       "      <td>8</td>\n",
       "      <td>10</td>\n",
       "    </tr>\n",
       "    <tr>\n",
       "      <th>7</th>\n",
       "      <td>10000</td>\n",
       "      <td>9</td>\n",
       "      <td>9</td>\n",
       "    </tr>\n",
       "    <tr>\n",
       "      <th>10</th>\n",
       "      <td>20000</td>\n",
       "      <td>8</td>\n",
       "      <td>9</td>\n",
       "    </tr>\n",
       "    <tr>\n",
       "      <th>8</th>\n",
       "      <td>10000</td>\n",
       "      <td>10</td>\n",
       "      <td>7</td>\n",
       "    </tr>\n",
       "    <tr>\n",
       "      <th>15</th>\n",
       "      <td>25000</td>\n",
       "      <td>9</td>\n",
       "      <td>6</td>\n",
       "    </tr>\n",
       "    <tr>\n",
       "      <th>16</th>\n",
       "      <td>25000</td>\n",
       "      <td>10</td>\n",
       "      <td>6</td>\n",
       "    </tr>\n",
       "    <tr>\n",
       "      <th>6</th>\n",
       "      <td>10000</td>\n",
       "      <td>8</td>\n",
       "      <td>5</td>\n",
       "    </tr>\n",
       "    <tr>\n",
       "      <th>5</th>\n",
       "      <td>10000</td>\n",
       "      <td>7</td>\n",
       "      <td>4</td>\n",
       "    </tr>\n",
       "  </tbody>\n",
       "</table>\n",
       "</div>"
      ],
      "text/plain": [
       "    Additional_Bonus  Rating  Counts\n",
       "0                  0       6     112\n",
       "2                  0       8      69\n",
       "1                  0       7      65\n",
       "4                  0      10      61\n",
       "3                  0       9      57\n",
       "9              20000       7      20\n",
       "18             50000       8      20\n",
       "20             50000      10      20\n",
       "19             50000       9      19\n",
       "11             20000       9      17\n",
       "17             50000       7      17\n",
       "12             20000      10      16\n",
       "13             25000       7      12\n",
       "14             25000       8      10\n",
       "7              10000       9       9\n",
       "10             20000       8       9\n",
       "8              10000      10       7\n",
       "15             25000       9       6\n",
       "16             25000      10       6\n",
       "6              10000       8       5\n",
       "5              10000       7       4"
      ]
     },
     "execution_count": 67,
     "metadata": {},
     "output_type": "execute_result"
    }
   ],
   "source": [
    "group_1"
   ]
  },
  {
   "cell_type": "code",
   "execution_count": 68,
   "id": "2cef7a82",
   "metadata": {},
   "outputs": [],
   "source": [
    "bar_chart_1 = px.bar(group_1,x='Additional_Bonus', y='Counts',color='Rating')"
   ]
  },
  {
   "cell_type": "code",
   "execution_count": 69,
   "id": "91dca4a3",
   "metadata": {},
   "outputs": [
    {
     "data": {
      "application/vnd.plotly.v1+json": {
       "config": {
        "plotlyServerURL": "https://plot.ly"
       },
       "data": [
        {
         "alignmentgroup": "True",
         "hovertemplate": "Additional_Bonus=%{x}<br>Counts=%{y}<br>Rating=%{marker.color}<extra></extra>",
         "legendgroup": "",
         "marker": {
          "color": [
           6,
           8,
           7,
           10,
           9,
           7,
           8,
           10,
           9,
           9,
           7,
           10,
           7,
           8,
           9,
           8,
           10,
           9,
           10,
           8,
           7
          ],
          "coloraxis": "coloraxis",
          "pattern": {
           "shape": ""
          }
         },
         "name": "",
         "offsetgroup": "",
         "orientation": "v",
         "showlegend": false,
         "textposition": "auto",
         "type": "bar",
         "x": [
          0,
          0,
          0,
          0,
          0,
          20000,
          50000,
          50000,
          50000,
          20000,
          50000,
          20000,
          25000,
          25000,
          10000,
          20000,
          10000,
          25000,
          25000,
          10000,
          10000
         ],
         "xaxis": "x",
         "y": [
          112,
          69,
          65,
          61,
          57,
          20,
          20,
          20,
          19,
          17,
          17,
          16,
          12,
          10,
          9,
          9,
          7,
          6,
          6,
          5,
          4
         ],
         "yaxis": "y"
        }
       ],
       "layout": {
        "barmode": "relative",
        "coloraxis": {
         "colorbar": {
          "title": {
           "text": "Rating"
          }
         },
         "colorscale": [
          [
           0,
           "#0d0887"
          ],
          [
           0.1111111111111111,
           "#46039f"
          ],
          [
           0.2222222222222222,
           "#7201a8"
          ],
          [
           0.3333333333333333,
           "#9c179e"
          ],
          [
           0.4444444444444444,
           "#bd3786"
          ],
          [
           0.5555555555555556,
           "#d8576b"
          ],
          [
           0.6666666666666666,
           "#ed7953"
          ],
          [
           0.7777777777777778,
           "#fb9f3a"
          ],
          [
           0.8888888888888888,
           "#fdca26"
          ],
          [
           1,
           "#f0f921"
          ]
         ]
        },
        "legend": {
         "tracegroupgap": 0
        },
        "margin": {
         "t": 60
        },
        "template": {
         "data": {
          "bar": [
           {
            "error_x": {
             "color": "#2a3f5f"
            },
            "error_y": {
             "color": "#2a3f5f"
            },
            "marker": {
             "line": {
              "color": "#E5ECF6",
              "width": 0.5
             },
             "pattern": {
              "fillmode": "overlay",
              "size": 10,
              "solidity": 0.2
             }
            },
            "type": "bar"
           }
          ],
          "barpolar": [
           {
            "marker": {
             "line": {
              "color": "#E5ECF6",
              "width": 0.5
             },
             "pattern": {
              "fillmode": "overlay",
              "size": 10,
              "solidity": 0.2
             }
            },
            "type": "barpolar"
           }
          ],
          "carpet": [
           {
            "aaxis": {
             "endlinecolor": "#2a3f5f",
             "gridcolor": "white",
             "linecolor": "white",
             "minorgridcolor": "white",
             "startlinecolor": "#2a3f5f"
            },
            "baxis": {
             "endlinecolor": "#2a3f5f",
             "gridcolor": "white",
             "linecolor": "white",
             "minorgridcolor": "white",
             "startlinecolor": "#2a3f5f"
            },
            "type": "carpet"
           }
          ],
          "choropleth": [
           {
            "colorbar": {
             "outlinewidth": 0,
             "ticks": ""
            },
            "type": "choropleth"
           }
          ],
          "contour": [
           {
            "colorbar": {
             "outlinewidth": 0,
             "ticks": ""
            },
            "colorscale": [
             [
              0,
              "#0d0887"
             ],
             [
              0.1111111111111111,
              "#46039f"
             ],
             [
              0.2222222222222222,
              "#7201a8"
             ],
             [
              0.3333333333333333,
              "#9c179e"
             ],
             [
              0.4444444444444444,
              "#bd3786"
             ],
             [
              0.5555555555555556,
              "#d8576b"
             ],
             [
              0.6666666666666666,
              "#ed7953"
             ],
             [
              0.7777777777777778,
              "#fb9f3a"
             ],
             [
              0.8888888888888888,
              "#fdca26"
             ],
             [
              1,
              "#f0f921"
             ]
            ],
            "type": "contour"
           }
          ],
          "contourcarpet": [
           {
            "colorbar": {
             "outlinewidth": 0,
             "ticks": ""
            },
            "type": "contourcarpet"
           }
          ],
          "heatmap": [
           {
            "colorbar": {
             "outlinewidth": 0,
             "ticks": ""
            },
            "colorscale": [
             [
              0,
              "#0d0887"
             ],
             [
              0.1111111111111111,
              "#46039f"
             ],
             [
              0.2222222222222222,
              "#7201a8"
             ],
             [
              0.3333333333333333,
              "#9c179e"
             ],
             [
              0.4444444444444444,
              "#bd3786"
             ],
             [
              0.5555555555555556,
              "#d8576b"
             ],
             [
              0.6666666666666666,
              "#ed7953"
             ],
             [
              0.7777777777777778,
              "#fb9f3a"
             ],
             [
              0.8888888888888888,
              "#fdca26"
             ],
             [
              1,
              "#f0f921"
             ]
            ],
            "type": "heatmap"
           }
          ],
          "heatmapgl": [
           {
            "colorbar": {
             "outlinewidth": 0,
             "ticks": ""
            },
            "colorscale": [
             [
              0,
              "#0d0887"
             ],
             [
              0.1111111111111111,
              "#46039f"
             ],
             [
              0.2222222222222222,
              "#7201a8"
             ],
             [
              0.3333333333333333,
              "#9c179e"
             ],
             [
              0.4444444444444444,
              "#bd3786"
             ],
             [
              0.5555555555555556,
              "#d8576b"
             ],
             [
              0.6666666666666666,
              "#ed7953"
             ],
             [
              0.7777777777777778,
              "#fb9f3a"
             ],
             [
              0.8888888888888888,
              "#fdca26"
             ],
             [
              1,
              "#f0f921"
             ]
            ],
            "type": "heatmapgl"
           }
          ],
          "histogram": [
           {
            "marker": {
             "pattern": {
              "fillmode": "overlay",
              "size": 10,
              "solidity": 0.2
             }
            },
            "type": "histogram"
           }
          ],
          "histogram2d": [
           {
            "colorbar": {
             "outlinewidth": 0,
             "ticks": ""
            },
            "colorscale": [
             [
              0,
              "#0d0887"
             ],
             [
              0.1111111111111111,
              "#46039f"
             ],
             [
              0.2222222222222222,
              "#7201a8"
             ],
             [
              0.3333333333333333,
              "#9c179e"
             ],
             [
              0.4444444444444444,
              "#bd3786"
             ],
             [
              0.5555555555555556,
              "#d8576b"
             ],
             [
              0.6666666666666666,
              "#ed7953"
             ],
             [
              0.7777777777777778,
              "#fb9f3a"
             ],
             [
              0.8888888888888888,
              "#fdca26"
             ],
             [
              1,
              "#f0f921"
             ]
            ],
            "type": "histogram2d"
           }
          ],
          "histogram2dcontour": [
           {
            "colorbar": {
             "outlinewidth": 0,
             "ticks": ""
            },
            "colorscale": [
             [
              0,
              "#0d0887"
             ],
             [
              0.1111111111111111,
              "#46039f"
             ],
             [
              0.2222222222222222,
              "#7201a8"
             ],
             [
              0.3333333333333333,
              "#9c179e"
             ],
             [
              0.4444444444444444,
              "#bd3786"
             ],
             [
              0.5555555555555556,
              "#d8576b"
             ],
             [
              0.6666666666666666,
              "#ed7953"
             ],
             [
              0.7777777777777778,
              "#fb9f3a"
             ],
             [
              0.8888888888888888,
              "#fdca26"
             ],
             [
              1,
              "#f0f921"
             ]
            ],
            "type": "histogram2dcontour"
           }
          ],
          "mesh3d": [
           {
            "colorbar": {
             "outlinewidth": 0,
             "ticks": ""
            },
            "type": "mesh3d"
           }
          ],
          "parcoords": [
           {
            "line": {
             "colorbar": {
              "outlinewidth": 0,
              "ticks": ""
             }
            },
            "type": "parcoords"
           }
          ],
          "pie": [
           {
            "automargin": true,
            "type": "pie"
           }
          ],
          "scatter": [
           {
            "marker": {
             "colorbar": {
              "outlinewidth": 0,
              "ticks": ""
             }
            },
            "type": "scatter"
           }
          ],
          "scatter3d": [
           {
            "line": {
             "colorbar": {
              "outlinewidth": 0,
              "ticks": ""
             }
            },
            "marker": {
             "colorbar": {
              "outlinewidth": 0,
              "ticks": ""
             }
            },
            "type": "scatter3d"
           }
          ],
          "scattercarpet": [
           {
            "marker": {
             "colorbar": {
              "outlinewidth": 0,
              "ticks": ""
             }
            },
            "type": "scattercarpet"
           }
          ],
          "scattergeo": [
           {
            "marker": {
             "colorbar": {
              "outlinewidth": 0,
              "ticks": ""
             }
            },
            "type": "scattergeo"
           }
          ],
          "scattergl": [
           {
            "marker": {
             "colorbar": {
              "outlinewidth": 0,
              "ticks": ""
             }
            },
            "type": "scattergl"
           }
          ],
          "scattermapbox": [
           {
            "marker": {
             "colorbar": {
              "outlinewidth": 0,
              "ticks": ""
             }
            },
            "type": "scattermapbox"
           }
          ],
          "scatterpolar": [
           {
            "marker": {
             "colorbar": {
              "outlinewidth": 0,
              "ticks": ""
             }
            },
            "type": "scatterpolar"
           }
          ],
          "scatterpolargl": [
           {
            "marker": {
             "colorbar": {
              "outlinewidth": 0,
              "ticks": ""
             }
            },
            "type": "scatterpolargl"
           }
          ],
          "scatterternary": [
           {
            "marker": {
             "colorbar": {
              "outlinewidth": 0,
              "ticks": ""
             }
            },
            "type": "scatterternary"
           }
          ],
          "surface": [
           {
            "colorbar": {
             "outlinewidth": 0,
             "ticks": ""
            },
            "colorscale": [
             [
              0,
              "#0d0887"
             ],
             [
              0.1111111111111111,
              "#46039f"
             ],
             [
              0.2222222222222222,
              "#7201a8"
             ],
             [
              0.3333333333333333,
              "#9c179e"
             ],
             [
              0.4444444444444444,
              "#bd3786"
             ],
             [
              0.5555555555555556,
              "#d8576b"
             ],
             [
              0.6666666666666666,
              "#ed7953"
             ],
             [
              0.7777777777777778,
              "#fb9f3a"
             ],
             [
              0.8888888888888888,
              "#fdca26"
             ],
             [
              1,
              "#f0f921"
             ]
            ],
            "type": "surface"
           }
          ],
          "table": [
           {
            "cells": {
             "fill": {
              "color": "#EBF0F8"
             },
             "line": {
              "color": "white"
             }
            },
            "header": {
             "fill": {
              "color": "#C8D4E3"
             },
             "line": {
              "color": "white"
             }
            },
            "type": "table"
           }
          ]
         },
         "layout": {
          "annotationdefaults": {
           "arrowcolor": "#2a3f5f",
           "arrowhead": 0,
           "arrowwidth": 1
          },
          "autotypenumbers": "strict",
          "coloraxis": {
           "colorbar": {
            "outlinewidth": 0,
            "ticks": ""
           }
          },
          "colorscale": {
           "diverging": [
            [
             0,
             "#8e0152"
            ],
            [
             0.1,
             "#c51b7d"
            ],
            [
             0.2,
             "#de77ae"
            ],
            [
             0.3,
             "#f1b6da"
            ],
            [
             0.4,
             "#fde0ef"
            ],
            [
             0.5,
             "#f7f7f7"
            ],
            [
             0.6,
             "#e6f5d0"
            ],
            [
             0.7,
             "#b8e186"
            ],
            [
             0.8,
             "#7fbc41"
            ],
            [
             0.9,
             "#4d9221"
            ],
            [
             1,
             "#276419"
            ]
           ],
           "sequential": [
            [
             0,
             "#0d0887"
            ],
            [
             0.1111111111111111,
             "#46039f"
            ],
            [
             0.2222222222222222,
             "#7201a8"
            ],
            [
             0.3333333333333333,
             "#9c179e"
            ],
            [
             0.4444444444444444,
             "#bd3786"
            ],
            [
             0.5555555555555556,
             "#d8576b"
            ],
            [
             0.6666666666666666,
             "#ed7953"
            ],
            [
             0.7777777777777778,
             "#fb9f3a"
            ],
            [
             0.8888888888888888,
             "#fdca26"
            ],
            [
             1,
             "#f0f921"
            ]
           ],
           "sequentialminus": [
            [
             0,
             "#0d0887"
            ],
            [
             0.1111111111111111,
             "#46039f"
            ],
            [
             0.2222222222222222,
             "#7201a8"
            ],
            [
             0.3333333333333333,
             "#9c179e"
            ],
            [
             0.4444444444444444,
             "#bd3786"
            ],
            [
             0.5555555555555556,
             "#d8576b"
            ],
            [
             0.6666666666666666,
             "#ed7953"
            ],
            [
             0.7777777777777778,
             "#fb9f3a"
            ],
            [
             0.8888888888888888,
             "#fdca26"
            ],
            [
             1,
             "#f0f921"
            ]
           ]
          },
          "colorway": [
           "#636efa",
           "#EF553B",
           "#00cc96",
           "#ab63fa",
           "#FFA15A",
           "#19d3f3",
           "#FF6692",
           "#B6E880",
           "#FF97FF",
           "#FECB52"
          ],
          "font": {
           "color": "#2a3f5f"
          },
          "geo": {
           "bgcolor": "white",
           "lakecolor": "white",
           "landcolor": "#E5ECF6",
           "showlakes": true,
           "showland": true,
           "subunitcolor": "white"
          },
          "hoverlabel": {
           "align": "left"
          },
          "hovermode": "closest",
          "mapbox": {
           "style": "light"
          },
          "paper_bgcolor": "white",
          "plot_bgcolor": "#E5ECF6",
          "polar": {
           "angularaxis": {
            "gridcolor": "white",
            "linecolor": "white",
            "ticks": ""
           },
           "bgcolor": "#E5ECF6",
           "radialaxis": {
            "gridcolor": "white",
            "linecolor": "white",
            "ticks": ""
           }
          },
          "scene": {
           "xaxis": {
            "backgroundcolor": "#E5ECF6",
            "gridcolor": "white",
            "gridwidth": 2,
            "linecolor": "white",
            "showbackground": true,
            "ticks": "",
            "zerolinecolor": "white"
           },
           "yaxis": {
            "backgroundcolor": "#E5ECF6",
            "gridcolor": "white",
            "gridwidth": 2,
            "linecolor": "white",
            "showbackground": true,
            "ticks": "",
            "zerolinecolor": "white"
           },
           "zaxis": {
            "backgroundcolor": "#E5ECF6",
            "gridcolor": "white",
            "gridwidth": 2,
            "linecolor": "white",
            "showbackground": true,
            "ticks": "",
            "zerolinecolor": "white"
           }
          },
          "shapedefaults": {
           "line": {
            "color": "#2a3f5f"
           }
          },
          "ternary": {
           "aaxis": {
            "gridcolor": "white",
            "linecolor": "white",
            "ticks": ""
           },
           "baxis": {
            "gridcolor": "white",
            "linecolor": "white",
            "ticks": ""
           },
           "bgcolor": "#E5ECF6",
           "caxis": {
            "gridcolor": "white",
            "linecolor": "white",
            "ticks": ""
           }
          },
          "title": {
           "x": 0.05
          },
          "xaxis": {
           "automargin": true,
           "gridcolor": "white",
           "linecolor": "white",
           "ticks": "",
           "title": {
            "standoff": 15
           },
           "zerolinecolor": "white",
           "zerolinewidth": 2
          },
          "yaxis": {
           "automargin": true,
           "gridcolor": "white",
           "linecolor": "white",
           "ticks": "",
           "title": {
            "standoff": 15
           },
           "zerolinecolor": "white",
           "zerolinewidth": 2
          }
         }
        },
        "xaxis": {
         "anchor": "y",
         "domain": [
          0,
          1
         ],
         "title": {
          "text": "Additional_Bonus"
         }
        },
        "yaxis": {
         "anchor": "x",
         "domain": [
          0,
          1
         ],
         "title": {
          "text": "Counts"
         }
        }
       }
      },
      "text/html": [
       "<div>                            <div id=\"42f92951-5eff-4665-ab96-bac865d114e6\" class=\"plotly-graph-div\" style=\"height:525px; width:100%;\"></div>            <script type=\"text/javascript\">                require([\"plotly\"], function(Plotly) {                    window.PLOTLYENV=window.PLOTLYENV || {};                                    if (document.getElementById(\"42f92951-5eff-4665-ab96-bac865d114e6\")) {                    Plotly.newPlot(                        \"42f92951-5eff-4665-ab96-bac865d114e6\",                        [{\"alignmentgroup\":\"True\",\"hovertemplate\":\"Additional_Bonus=%{x}<br>Counts=%{y}<br>Rating=%{marker.color}<extra></extra>\",\"legendgroup\":\"\",\"marker\":{\"color\":[6,8,7,10,9,7,8,10,9,9,7,10,7,8,9,8,10,9,10,8,7],\"coloraxis\":\"coloraxis\",\"pattern\":{\"shape\":\"\"}},\"name\":\"\",\"offsetgroup\":\"\",\"orientation\":\"v\",\"showlegend\":false,\"textposition\":\"auto\",\"x\":[0,0,0,0,0,20000,50000,50000,50000,20000,50000,20000,25000,25000,10000,20000,10000,25000,25000,10000,10000],\"xaxis\":\"x\",\"y\":[112,69,65,61,57,20,20,20,19,17,17,16,12,10,9,9,7,6,6,5,4],\"yaxis\":\"y\",\"type\":\"bar\"}],                        {\"template\":{\"data\":{\"bar\":[{\"error_x\":{\"color\":\"#2a3f5f\"},\"error_y\":{\"color\":\"#2a3f5f\"},\"marker\":{\"line\":{\"color\":\"#E5ECF6\",\"width\":0.5},\"pattern\":{\"fillmode\":\"overlay\",\"size\":10,\"solidity\":0.2}},\"type\":\"bar\"}],\"barpolar\":[{\"marker\":{\"line\":{\"color\":\"#E5ECF6\",\"width\":0.5},\"pattern\":{\"fillmode\":\"overlay\",\"size\":10,\"solidity\":0.2}},\"type\":\"barpolar\"}],\"carpet\":[{\"aaxis\":{\"endlinecolor\":\"#2a3f5f\",\"gridcolor\":\"white\",\"linecolor\":\"white\",\"minorgridcolor\":\"white\",\"startlinecolor\":\"#2a3f5f\"},\"baxis\":{\"endlinecolor\":\"#2a3f5f\",\"gridcolor\":\"white\",\"linecolor\":\"white\",\"minorgridcolor\":\"white\",\"startlinecolor\":\"#2a3f5f\"},\"type\":\"carpet\"}],\"choropleth\":[{\"colorbar\":{\"outlinewidth\":0,\"ticks\":\"\"},\"type\":\"choropleth\"}],\"contour\":[{\"colorbar\":{\"outlinewidth\":0,\"ticks\":\"\"},\"colorscale\":[[0.0,\"#0d0887\"],[0.1111111111111111,\"#46039f\"],[0.2222222222222222,\"#7201a8\"],[0.3333333333333333,\"#9c179e\"],[0.4444444444444444,\"#bd3786\"],[0.5555555555555556,\"#d8576b\"],[0.6666666666666666,\"#ed7953\"],[0.7777777777777778,\"#fb9f3a\"],[0.8888888888888888,\"#fdca26\"],[1.0,\"#f0f921\"]],\"type\":\"contour\"}],\"contourcarpet\":[{\"colorbar\":{\"outlinewidth\":0,\"ticks\":\"\"},\"type\":\"contourcarpet\"}],\"heatmap\":[{\"colorbar\":{\"outlinewidth\":0,\"ticks\":\"\"},\"colorscale\":[[0.0,\"#0d0887\"],[0.1111111111111111,\"#46039f\"],[0.2222222222222222,\"#7201a8\"],[0.3333333333333333,\"#9c179e\"],[0.4444444444444444,\"#bd3786\"],[0.5555555555555556,\"#d8576b\"],[0.6666666666666666,\"#ed7953\"],[0.7777777777777778,\"#fb9f3a\"],[0.8888888888888888,\"#fdca26\"],[1.0,\"#f0f921\"]],\"type\":\"heatmap\"}],\"heatmapgl\":[{\"colorbar\":{\"outlinewidth\":0,\"ticks\":\"\"},\"colorscale\":[[0.0,\"#0d0887\"],[0.1111111111111111,\"#46039f\"],[0.2222222222222222,\"#7201a8\"],[0.3333333333333333,\"#9c179e\"],[0.4444444444444444,\"#bd3786\"],[0.5555555555555556,\"#d8576b\"],[0.6666666666666666,\"#ed7953\"],[0.7777777777777778,\"#fb9f3a\"],[0.8888888888888888,\"#fdca26\"],[1.0,\"#f0f921\"]],\"type\":\"heatmapgl\"}],\"histogram\":[{\"marker\":{\"pattern\":{\"fillmode\":\"overlay\",\"size\":10,\"solidity\":0.2}},\"type\":\"histogram\"}],\"histogram2d\":[{\"colorbar\":{\"outlinewidth\":0,\"ticks\":\"\"},\"colorscale\":[[0.0,\"#0d0887\"],[0.1111111111111111,\"#46039f\"],[0.2222222222222222,\"#7201a8\"],[0.3333333333333333,\"#9c179e\"],[0.4444444444444444,\"#bd3786\"],[0.5555555555555556,\"#d8576b\"],[0.6666666666666666,\"#ed7953\"],[0.7777777777777778,\"#fb9f3a\"],[0.8888888888888888,\"#fdca26\"],[1.0,\"#f0f921\"]],\"type\":\"histogram2d\"}],\"histogram2dcontour\":[{\"colorbar\":{\"outlinewidth\":0,\"ticks\":\"\"},\"colorscale\":[[0.0,\"#0d0887\"],[0.1111111111111111,\"#46039f\"],[0.2222222222222222,\"#7201a8\"],[0.3333333333333333,\"#9c179e\"],[0.4444444444444444,\"#bd3786\"],[0.5555555555555556,\"#d8576b\"],[0.6666666666666666,\"#ed7953\"],[0.7777777777777778,\"#fb9f3a\"],[0.8888888888888888,\"#fdca26\"],[1.0,\"#f0f921\"]],\"type\":\"histogram2dcontour\"}],\"mesh3d\":[{\"colorbar\":{\"outlinewidth\":0,\"ticks\":\"\"},\"type\":\"mesh3d\"}],\"parcoords\":[{\"line\":{\"colorbar\":{\"outlinewidth\":0,\"ticks\":\"\"}},\"type\":\"parcoords\"}],\"pie\":[{\"automargin\":true,\"type\":\"pie\"}],\"scatter\":[{\"marker\":{\"colorbar\":{\"outlinewidth\":0,\"ticks\":\"\"}},\"type\":\"scatter\"}],\"scatter3d\":[{\"line\":{\"colorbar\":{\"outlinewidth\":0,\"ticks\":\"\"}},\"marker\":{\"colorbar\":{\"outlinewidth\":0,\"ticks\":\"\"}},\"type\":\"scatter3d\"}],\"scattercarpet\":[{\"marker\":{\"colorbar\":{\"outlinewidth\":0,\"ticks\":\"\"}},\"type\":\"scattercarpet\"}],\"scattergeo\":[{\"marker\":{\"colorbar\":{\"outlinewidth\":0,\"ticks\":\"\"}},\"type\":\"scattergeo\"}],\"scattergl\":[{\"marker\":{\"colorbar\":{\"outlinewidth\":0,\"ticks\":\"\"}},\"type\":\"scattergl\"}],\"scattermapbox\":[{\"marker\":{\"colorbar\":{\"outlinewidth\":0,\"ticks\":\"\"}},\"type\":\"scattermapbox\"}],\"scatterpolar\":[{\"marker\":{\"colorbar\":{\"outlinewidth\":0,\"ticks\":\"\"}},\"type\":\"scatterpolar\"}],\"scatterpolargl\":[{\"marker\":{\"colorbar\":{\"outlinewidth\":0,\"ticks\":\"\"}},\"type\":\"scatterpolargl\"}],\"scatterternary\":[{\"marker\":{\"colorbar\":{\"outlinewidth\":0,\"ticks\":\"\"}},\"type\":\"scatterternary\"}],\"surface\":[{\"colorbar\":{\"outlinewidth\":0,\"ticks\":\"\"},\"colorscale\":[[0.0,\"#0d0887\"],[0.1111111111111111,\"#46039f\"],[0.2222222222222222,\"#7201a8\"],[0.3333333333333333,\"#9c179e\"],[0.4444444444444444,\"#bd3786\"],[0.5555555555555556,\"#d8576b\"],[0.6666666666666666,\"#ed7953\"],[0.7777777777777778,\"#fb9f3a\"],[0.8888888888888888,\"#fdca26\"],[1.0,\"#f0f921\"]],\"type\":\"surface\"}],\"table\":[{\"cells\":{\"fill\":{\"color\":\"#EBF0F8\"},\"line\":{\"color\":\"white\"}},\"header\":{\"fill\":{\"color\":\"#C8D4E3\"},\"line\":{\"color\":\"white\"}},\"type\":\"table\"}]},\"layout\":{\"annotationdefaults\":{\"arrowcolor\":\"#2a3f5f\",\"arrowhead\":0,\"arrowwidth\":1},\"autotypenumbers\":\"strict\",\"coloraxis\":{\"colorbar\":{\"outlinewidth\":0,\"ticks\":\"\"}},\"colorscale\":{\"diverging\":[[0,\"#8e0152\"],[0.1,\"#c51b7d\"],[0.2,\"#de77ae\"],[0.3,\"#f1b6da\"],[0.4,\"#fde0ef\"],[0.5,\"#f7f7f7\"],[0.6,\"#e6f5d0\"],[0.7,\"#b8e186\"],[0.8,\"#7fbc41\"],[0.9,\"#4d9221\"],[1,\"#276419\"]],\"sequential\":[[0.0,\"#0d0887\"],[0.1111111111111111,\"#46039f\"],[0.2222222222222222,\"#7201a8\"],[0.3333333333333333,\"#9c179e\"],[0.4444444444444444,\"#bd3786\"],[0.5555555555555556,\"#d8576b\"],[0.6666666666666666,\"#ed7953\"],[0.7777777777777778,\"#fb9f3a\"],[0.8888888888888888,\"#fdca26\"],[1.0,\"#f0f921\"]],\"sequentialminus\":[[0.0,\"#0d0887\"],[0.1111111111111111,\"#46039f\"],[0.2222222222222222,\"#7201a8\"],[0.3333333333333333,\"#9c179e\"],[0.4444444444444444,\"#bd3786\"],[0.5555555555555556,\"#d8576b\"],[0.6666666666666666,\"#ed7953\"],[0.7777777777777778,\"#fb9f3a\"],[0.8888888888888888,\"#fdca26\"],[1.0,\"#f0f921\"]]},\"colorway\":[\"#636efa\",\"#EF553B\",\"#00cc96\",\"#ab63fa\",\"#FFA15A\",\"#19d3f3\",\"#FF6692\",\"#B6E880\",\"#FF97FF\",\"#FECB52\"],\"font\":{\"color\":\"#2a3f5f\"},\"geo\":{\"bgcolor\":\"white\",\"lakecolor\":\"white\",\"landcolor\":\"#E5ECF6\",\"showlakes\":true,\"showland\":true,\"subunitcolor\":\"white\"},\"hoverlabel\":{\"align\":\"left\"},\"hovermode\":\"closest\",\"mapbox\":{\"style\":\"light\"},\"paper_bgcolor\":\"white\",\"plot_bgcolor\":\"#E5ECF6\",\"polar\":{\"angularaxis\":{\"gridcolor\":\"white\",\"linecolor\":\"white\",\"ticks\":\"\"},\"bgcolor\":\"#E5ECF6\",\"radialaxis\":{\"gridcolor\":\"white\",\"linecolor\":\"white\",\"ticks\":\"\"}},\"scene\":{\"xaxis\":{\"backgroundcolor\":\"#E5ECF6\",\"gridcolor\":\"white\",\"gridwidth\":2,\"linecolor\":\"white\",\"showbackground\":true,\"ticks\":\"\",\"zerolinecolor\":\"white\"},\"yaxis\":{\"backgroundcolor\":\"#E5ECF6\",\"gridcolor\":\"white\",\"gridwidth\":2,\"linecolor\":\"white\",\"showbackground\":true,\"ticks\":\"\",\"zerolinecolor\":\"white\"},\"zaxis\":{\"backgroundcolor\":\"#E5ECF6\",\"gridcolor\":\"white\",\"gridwidth\":2,\"linecolor\":\"white\",\"showbackground\":true,\"ticks\":\"\",\"zerolinecolor\":\"white\"}},\"shapedefaults\":{\"line\":{\"color\":\"#2a3f5f\"}},\"ternary\":{\"aaxis\":{\"gridcolor\":\"white\",\"linecolor\":\"white\",\"ticks\":\"\"},\"baxis\":{\"gridcolor\":\"white\",\"linecolor\":\"white\",\"ticks\":\"\"},\"bgcolor\":\"#E5ECF6\",\"caxis\":{\"gridcolor\":\"white\",\"linecolor\":\"white\",\"ticks\":\"\"}},\"title\":{\"x\":0.05},\"xaxis\":{\"automargin\":true,\"gridcolor\":\"white\",\"linecolor\":\"white\",\"ticks\":\"\",\"title\":{\"standoff\":15},\"zerolinecolor\":\"white\",\"zerolinewidth\":2},\"yaxis\":{\"automargin\":true,\"gridcolor\":\"white\",\"linecolor\":\"white\",\"ticks\":\"\",\"title\":{\"standoff\":15},\"zerolinecolor\":\"white\",\"zerolinewidth\":2}}},\"xaxis\":{\"anchor\":\"y\",\"domain\":[0.0,1.0],\"title\":{\"text\":\"Additional_Bonus\"}},\"yaxis\":{\"anchor\":\"x\",\"domain\":[0.0,1.0],\"title\":{\"text\":\"Counts\"}},\"coloraxis\":{\"colorbar\":{\"title\":{\"text\":\"Rating\"}},\"colorscale\":[[0.0,\"#0d0887\"],[0.1111111111111111,\"#46039f\"],[0.2222222222222222,\"#7201a8\"],[0.3333333333333333,\"#9c179e\"],[0.4444444444444444,\"#bd3786\"],[0.5555555555555556,\"#d8576b\"],[0.6666666666666666,\"#ed7953\"],[0.7777777777777778,\"#fb9f3a\"],[0.8888888888888888,\"#fdca26\"],[1.0,\"#f0f921\"]]},\"legend\":{\"tracegroupgap\":0},\"margin\":{\"t\":60},\"barmode\":\"relative\"},                        {\"responsive\": true}                    ).then(function(){\n",
       "                            \n",
       "var gd = document.getElementById('42f92951-5eff-4665-ab96-bac865d114e6');\n",
       "var x = new MutationObserver(function (mutations, observer) {{\n",
       "        var display = window.getComputedStyle(gd).display;\n",
       "        if (!display || display === 'none') {{\n",
       "            console.log([gd, 'removed!']);\n",
       "            Plotly.purge(gd);\n",
       "            observer.disconnect();\n",
       "        }}\n",
       "}});\n",
       "\n",
       "// Listen for the removal of the full notebook cells\n",
       "var notebookContainer = gd.closest('#notebook-container');\n",
       "if (notebookContainer) {{\n",
       "    x.observe(notebookContainer, {childList: true});\n",
       "}}\n",
       "\n",
       "// Listen for the clearing of the current output cell\n",
       "var outputEl = gd.closest('.output');\n",
       "if (outputEl) {{\n",
       "    x.observe(outputEl, {childList: true});\n",
       "}}\n",
       "\n",
       "                        })                };                });            </script>        </div>"
      ]
     },
     "metadata": {},
     "output_type": "display_data"
    }
   ],
   "source": [
    "bar_chart_1"
   ]
  },
  {
   "cell_type": "code",
   "execution_count": 86,
   "id": "92759922",
   "metadata": {},
   "outputs": [
    {
     "data": {
      "text/plain": [
       "<seaborn.axisgrid.FacetGrid at 0x18773f3d280>"
      ]
     },
     "execution_count": 86,
     "metadata": {},
     "output_type": "execute_result"
    },
    {
     "data": {
      "image/png": "[encoded data removed]",
      "text/plain": [
       "<Figure size 1242.5x360 with 3 Axes>"
      ]
     },
     "metadata": {
      "needs_background": "light"
     },
     "output_type": "display_data"
    }
   ],
   "source": [
    "sns.relplot(x='Rating',y='Current_Base_Pay', col= 'Project',hue='Grade', data=df)"
   ]
  },
  {
   "cell_type": "code",
   "execution_count": null,
   "id": "394a8a51",
   "metadata": {},
   "outputs": [],
   "source": []
  }
 ],
 "metadata": {
  "kernelspec": {
   "display_name": "Python 3 (ipykernel)",
   "language": "python",
   "name": "python3"
  },
  "language_info": {
   "codemirror_mode": {
    "name": "ipython",
    "version": 3
   },
   "file_extension": ".py",
   "mimetype": "text/x-python",
   "name": "python",
   "nbconvert_exporter": "python",
   "pygments_lexer": "ipython3",
   "version": "3.9.12"
  }
 },
 "nbformat": 4,
 "nbformat_minor": 5
}
